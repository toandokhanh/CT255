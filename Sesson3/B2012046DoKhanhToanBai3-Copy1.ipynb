{
 "cells": [
  {
   "cell_type": "markdown",
   "id": "c236ad92",
   "metadata": {},
   "source": [
    "# CT255 - Buổi 3 - Bài toán phân lớp"
   ]
  },
  {
   "cell_type": "markdown",
   "id": "24c8678d",
   "metadata": {},
   "source": [
    "### Đỗ Khánh Toàn B2012046"
   ]
  },
  {
   "cell_type": "markdown",
   "id": "1226ea9e",
   "metadata": {},
   "source": [
    "##### 1. Bài toán phân lớp là gì? Các ứng dụng của nó. Có bao nhiêu độ đo trong bài toán phân lớp. Trình bày các công thức tính các độ đo, chú thích rõ các thành phần trong công thức.\n"
   ]
  },
  {
   "attachments": {
    "image-2.png": {
     "image/png": "[encoded data removed]"
    },
    "image-3.png": {
     "image/png": "[encoded data removed]"
    },
    "image-4.png": {
     "image/png": "[encoded data removed]"
    },
    "image.png": {
     "image/png": "[encoded data removed]"
    }
   },
   "cell_type": "markdown",
   "id": "1263d6d2",
   "metadata": {},
   "source": [
    "Bài toán phân lớp là quá trình phân lớp một đối tượng dữ liệu vào một hay nhiều lớp đã cho trước nhờ một mô hình phân lớp1. Các ứng dụng của bài toán phân lớp có thể là phát hiện gian lận, nhận diện khuôn mặt, phân loại văn bản, chẩn đoán bệnh, v.v. Có nhiều độ đo trong bài toán phân lớp, nhưng một số độ đo phổ biến là độ chính xác (accuracy), độ nhạy (recall), độ chính xác tính theo từng lớp (precision) và điểm F1 (F1-score). Các công thức tính các độ đo như sau:\n",
    "\n",
    "Độ chính xác: tỉ lệ giữa số mẫu được phân lớp đúng và tổng số mẫu.\n",
    "![image.png](attachment:image.png)\n",
    "\n",
    "Độ nhạy: tỉ lệ giữa số mẫu thuộc lớp tích cực được phân lớp đúng và tổng số mẫu thuộc lớp tích cực. \n",
    "![image-2.png](attachment:image-2.png)\n",
    "\n",
    "Độ chính xác tính theo từng lớp: tỉ lệ giữa số mẫu thuộc lớp tích cực được phân lớp đúng và tổng số mẫu được phân lớp vào lớp tích cực. \n",
    "![image-3.png](attachment:image-3.png)\n",
    "\n",
    "Điểm F1: trung bình điều hòa của độ nhạy và độ chính xác tính theo từng lớp. \n",
    "![image-4.png](attachment:image-4.png)\n",
    "\n",
    "\n",
    "TP: số mẫu thuộc lớp tích cực được phân lớp đúng (true positive).\n",
    "TN: số mẫu thuộc lớp tiêu cực được phân lớp đúng (true negative).\n",
    "FP: số mẫu thuộc lớp tiêu cực bị phân lớp sai vào lớp tích cực (false positive).\n",
    "FN: số mẫu thuộc lớp tích cực bị phân lớp sai vào lớp tiêu cực (false negative)."
   ]
  },
  {
   "cell_type": "markdown",
   "id": "391580dc",
   "metadata": {},
   "source": [
    "Link tham khảo: \n",
    "\n",
    "https://www.iostream.vn/article/bai-toan-phan-lop-trong-machine-learning-classification-in-machine-learning-515OIh\n",
    "\n",
    "https://viblo.asia/p/thuat-toan-phan-lop-naive-bayes-924lJWPm5PM\n",
    "\n",
    "https://vndoc.com/tuyen-tap-cac-bai-bai-toan-ve-phan-so-lop-4-5-123286"
   ]
  },
  {
   "cell_type": "markdown",
   "id": "f6e3f5b2",
   "metadata": {},
   "source": [
    "#####  2. Thực hiện lại các hướng dẫn từ trang 77 đến 84 để hiểu rõ cách cài đặt thực nghiệm bài toán phân lớp với các giải thuật khác nhau.\n"
   ]
  },
  {
   "cell_type": "markdown",
   "id": "b3f6a002",
   "metadata": {},
   "source": [
    "Tải dữ liệu từ thư viện SKLEARN"
   ]
  },
  {
   "cell_type": "code",
   "execution_count": 2,
   "id": "747d9270",
   "metadata": {},
   "outputs": [
    {
     "name": "stdout",
     "output_type": "stream",
     "text": [
      "(1797, 64)\n"
     ]
    },
    {
     "ename": "AttributeError",
     "evalue": "'numpy.ndarray' object has no attribute 'head'",
     "output_type": "error",
     "traceback": [
      "\u001b[0;31m---------------------------------------------------------------------------\u001b[0m",
      "\u001b[0;31mAttributeError\u001b[0m                            Traceback (most recent call last)",
      "\u001b[0;32m/tmp/ipykernel_1158/918202142.py\u001b[0m in \u001b[0;36m<module>\u001b[0;34m\u001b[0m\n\u001b[1;32m      2\u001b[0m \u001b[0mX\u001b[0m\u001b[0;34m,\u001b[0m\u001b[0my\u001b[0m \u001b[0;34m=\u001b[0m \u001b[0mload_digits\u001b[0m\u001b[0;34m(\u001b[0m\u001b[0mreturn_X_y\u001b[0m\u001b[0;34m=\u001b[0m\u001b[0;32mTrue\u001b[0m\u001b[0;34m)\u001b[0m\u001b[0;34m\u001b[0m\u001b[0;34m\u001b[0m\u001b[0m\n\u001b[1;32m      3\u001b[0m \u001b[0mprint\u001b[0m\u001b[0;34m(\u001b[0m\u001b[0mX\u001b[0m\u001b[0;34m.\u001b[0m\u001b[0mshape\u001b[0m\u001b[0;34m)\u001b[0m\u001b[0;34m\u001b[0m\u001b[0;34m\u001b[0m\u001b[0m\n\u001b[0;32m----> 4\u001b[0;31m \u001b[0mX\u001b[0m\u001b[0;34m.\u001b[0m\u001b[0mhead\u001b[0m\u001b[0;34m(\u001b[0m\u001b[0;34m)\u001b[0m\u001b[0;34m\u001b[0m\u001b[0;34m\u001b[0m\u001b[0m\n\u001b[0m",
      "\u001b[0;31mAttributeError\u001b[0m: 'numpy.ndarray' object has no attribute 'head'"
     ]
    }
   ],
   "source": [
    "from sklearn.datasets import load_digits\n",
    "X,y = load_digits(return_X_y=True)\n",
    "print(X.shape)\n"
   ]
  },
  {
   "cell_type": "code",
   "execution_count": 4,
   "id": "53f86400",
   "metadata": {},
   "outputs": [
    {
     "name": "stdout",
     "output_type": "stream",
     "text": [
      "[0 1 2 ... 8 9 8]\n",
      "[ 0.  0.  0. 12. 13.  5.  0.  0.  0.  0.  0. 11. 16.  9.  0.  0.  0.  0.\n",
      "  3. 15. 16.  6.  0.  0.  0.  7. 15. 16. 16.  2.  0.  0.  0.  0.  1. 16.\n",
      " 16.  3.  0.  0.  0.  0.  1. 16. 16.  6.  0.  0.  0.  0.  1. 16. 16.  6.\n",
      "  0.  0.  0.  0.  0. 11. 16. 10.  0.  0.]\n",
      "16.0\n",
      "0.0\n"
     ]
    }
   ],
   "source": [
    "import numpy as np\n",
    "print(y)\n",
    "print(X[1])\n",
    "print(np.max(X))\n",
    "print(np.min(X))"
   ]
  },
  {
   "cell_type": "markdown",
   "id": "676a9b12",
   "metadata": {},
   "source": [
    "Các mẫu dưới dạng ảnh trong thư viện matplotlib"
   ]
  },
  {
   "cell_type": "code",
   "execution_count": 5,
   "id": "7a945b84",
   "metadata": {},
   "outputs": [
    {
     "data": {
      "text/plain": [
       "<Figure size 432x288 with 0 Axes>"
      ]
     },
     "metadata": {},
     "output_type": "display_data"
    },
    {
     "data": {
      "image/png": "[encoded data removed]",
      "text/plain": [
       "<Figure size 288x288 with 1 Axes>"
      ]
     },
     "metadata": {
      "needs_background": "light"
     },
     "output_type": "display_data"
    },
    {
     "data": {
      "image/png": "[encoded data removed]",
      "text/plain": [
       "<Figure size 288x288 with 1 Axes>"
      ]
     },
     "metadata": {
      "needs_background": "light"
     },
     "output_type": "display_data"
    }
   ],
   "source": [
    "import matplotlib.pyplot as plt\n",
    "digits = load_digits()\n",
    "plt.gray()\n",
    "plt.matshow(digits.images[0])\n",
    "plt.matshow(digits.images[1])\n",
    "plt.show()"
   ]
  },
  {
   "cell_type": "markdown",
   "id": "393afa5b",
   "metadata": {},
   "source": [
    "Phân lớp ảnh với các thuật toán ML cổ điển"
   ]
  },
  {
   "cell_type": "code",
   "execution_count": 6,
   "id": "f762bba1",
   "metadata": {},
   "outputs": [
    {
     "name": "stderr",
     "output_type": "stream",
     "text": [
      "/home/toandokhanh/.local/lib/python3.10/site-packages/sklearn/linear_model/_logistic.py:444: ConvergenceWarning: lbfgs failed to converge (status=1):\n",
      "STOP: TOTAL NO. of ITERATIONS REACHED LIMIT.\n",
      "\n",
      "Increase the number of iterations (max_iter) or scale the data as shown in:\n",
      "    https://scikit-learn.org/stable/modules/preprocessing.html\n",
      "Please also refer to the documentation for alternative solver options:\n",
      "    https://scikit-learn.org/stable/modules/linear_model.html#logistic-regression\n",
      "  n_iter_i = _check_optimize_result(\n"
     ]
    },
    {
     "name": "stdout",
     "output_type": "stream",
     "text": [
      "Lần lặp 1\n",
      "Kết quả trên tập huấn luyện bằng = \n",
      "              precision    recall  f1-score   support\n",
      "\n",
      "           0       1.00      1.00      1.00        89\n",
      "           1       1.00      1.00      1.00        91\n",
      "           2       1.00      1.00      1.00        88\n",
      "           3       1.00      1.00      1.00        92\n",
      "           4       1.00      1.00      1.00        90\n",
      "           5       1.00      1.00      1.00        91\n",
      "           6       1.00      1.00      1.00        91\n",
      "           7       1.00      1.00      1.00        89\n",
      "           8       1.00      1.00      1.00        87\n",
      "           9       1.00      1.00      1.00        90\n",
      "\n",
      "    accuracy                           1.00       898\n",
      "   macro avg       1.00      1.00      1.00       898\n",
      "weighted avg       1.00      1.00      1.00       898\n",
      "\n",
      "Kết quả logistic_cl tập kiểm tra = \n",
      "              precision    recall  f1-score   support\n",
      "\n",
      "           0       0.98      1.00      0.99        89\n",
      "           1       0.67      0.96      0.79        91\n",
      "           2       1.00      0.82      0.90        89\n",
      "           3       0.95      0.90      0.93        91\n",
      "           4       0.94      0.84      0.88        91\n",
      "           5       0.98      0.89      0.93        91\n",
      "           6       0.97      0.93      0.95        90\n",
      "           7       0.99      0.89      0.94        90\n",
      "           8       0.81      0.94      0.87        87\n",
      "           9       0.86      0.83      0.85        90\n",
      "\n",
      "    accuracy                           0.90       899\n",
      "   macro avg       0.91      0.90      0.90       899\n",
      "weighted avg       0.91      0.90      0.90       899\n",
      "\n",
      "[[89  0  0  0  0  0  0  0  0  0]\n",
      " [ 0 87  0  0  1  0  3  0  0  0]\n",
      " [ 0 13 73  0  0  0  0  0  3  0]\n",
      " [ 0  0  0 82  0  0  0  0  6  3]\n",
      " [ 0 14  0  0 76  0  0  1  0  0]\n",
      " [ 0  0  0  2  1 81  0  0  3  4]\n",
      " [ 0  0  0  0  2  1 84  0  3  0]\n",
      " [ 2  0  0  2  1  0  0 80  0  5]\n",
      " [ 0  5  0  0  0  0  0  0 82  0]\n",
      " [ 0 10  0  0  0  1  0  0  4 75]]\n"
     ]
    },
    {
     "data": {
      "image/png": "[encoded data removed]",
      "text/plain": [
       "<Figure size 288x288 with 2 Axes>"
      ]
     },
     "metadata": {
      "needs_background": "light"
     },
     "output_type": "display_data"
    },
    {
     "name": "stderr",
     "output_type": "stream",
     "text": [
      "/home/toandokhanh/.local/lib/python3.10/site-packages/sklearn/linear_model/_logistic.py:444: ConvergenceWarning: lbfgs failed to converge (status=1):\n",
      "STOP: TOTAL NO. of ITERATIONS REACHED LIMIT.\n",
      "\n",
      "Increase the number of iterations (max_iter) or scale the data as shown in:\n",
      "    https://scikit-learn.org/stable/modules/preprocessing.html\n",
      "Please also refer to the documentation for alternative solver options:\n",
      "    https://scikit-learn.org/stable/modules/linear_model.html#logistic-regression\n",
      "  n_iter_i = _check_optimize_result(\n"
     ]
    },
    {
     "name": "stdout",
     "output_type": "stream",
     "text": [
      "Lần lặp 2\n",
      "Kết quả trên tập huấn luyện bằng = \n",
      "              precision    recall  f1-score   support\n",
      "\n",
      "           0       1.00      1.00      1.00        89\n",
      "           1       1.00      1.00      1.00        91\n",
      "           2       1.00      1.00      1.00        89\n",
      "           3       1.00      1.00      1.00        91\n",
      "           4       1.00      1.00      1.00        91\n",
      "           5       1.00      1.00      1.00        91\n",
      "           6       1.00      1.00      1.00        90\n",
      "           7       1.00      1.00      1.00        90\n",
      "           8       1.00      1.00      1.00        87\n",
      "           9       1.00      1.00      1.00        90\n",
      "\n",
      "    accuracy                           1.00       899\n",
      "   macro avg       1.00      1.00      1.00       899\n",
      "weighted avg       1.00      1.00      1.00       899\n",
      "\n",
      "Kết quả logistic_cl tập kiểm tra = \n",
      "              precision    recall  f1-score   support\n",
      "\n",
      "           0       0.99      0.96      0.97        89\n",
      "           1       0.94      0.90      0.92        91\n",
      "           2       1.00      0.98      0.99        88\n",
      "           3       0.94      0.84      0.89        92\n",
      "           4       0.98      0.91      0.94        90\n",
      "           5       0.89      0.95      0.91        91\n",
      "           6       0.90      0.99      0.94        91\n",
      "           7       0.98      0.96      0.97        89\n",
      "           8       0.91      0.90      0.90        87\n",
      "           9       0.83      0.94      0.88        90\n",
      "\n",
      "    accuracy                           0.93       898\n",
      "   macro avg       0.93      0.93      0.93       898\n",
      "weighted avg       0.93      0.93      0.93       898\n",
      "\n",
      "[[85  0  0  0  1  0  3  0  0  0]\n",
      " [ 0 82  0  1  0  1  1  0  1  5]\n",
      " [ 0  0 86  2  0  0  0  0  0  0]\n",
      " [ 0  0  0 77  0  4  0  2  7  2]\n",
      " [ 0  0  0  0 82  0  4  0  0  4]\n",
      " [ 0  1  0  0  0 86  1  0  0  3]\n",
      " [ 0  1  0  0  0  0 90  0  0  0]\n",
      " [ 0  0  0  0  1  1  0 85  0  2]\n",
      " [ 0  3  0  0  0  3  1  0 78  2]\n",
      " [ 1  0  0  2  0  2  0  0  0 85]]\n"
     ]
    },
    {
     "data": {
      "image/png": "[encoded data removed]",
      "text/plain": [
       "<Figure size 288x288 with 2 Axes>"
      ]
     },
     "metadata": {
      "needs_background": "light"
     },
     "output_type": "display_data"
    }
   ],
   "source": [
    "from sklearn.model_selection import StratifiedKFold\n",
    "from sklearn import linear_model\n",
    "logistic_cl = linear_model.LogisticRegression()\n",
    "from sklearn.metrics import classification_report # báo cáo kết quả đầy đủ\n",
    "from sklearn.metrics import confusion_matrix # ma trận dự đoán đúng\n",
    "import matplotlib.pyplot as plt\n",
    "skf  =StratifiedKFold(n_splits=2) # chia data\n",
    "skf.get_n_splits(X,y)\n",
    "i=1\n",
    "for train_index, test_index, in skf.split(X,y):\n",
    "    X_train, X_test = X[train_index], X[test_index]\n",
    "    y_train,y_test = y[train_index], y[test_index]\n",
    "    logistic_cl.fit(X_train,y_train)\n",
    "    print('Lần lặp', i)\n",
    "\n",
    "    y_train_pred =logistic_cl.predict(X_train) # bc kêt quả\n",
    "    print('Kết quả trên tập huấn luyện bằng = ')\n",
    "    print(classification_report(y_train, y_train_pred))\n",
    "\n",
    "    print('Kết quả logistic_cl tập kiểm tra = ')\n",
    "    y_test_pred = logistic_cl.predict(X_test)\n",
    "    print(classification_report(y_test, y_test_pred))\n",
    "    cm = confusion_matrix(y_test, y_test_pred)\n",
    "    print(cm)\n",
    "    plt.matshow(cm)\n",
    "    plt.title('Confusion matrix')\n",
    "    plt.colorbar()\n",
    "    plt.ylabel('Gia trị thực')\n",
    "    plt.xlabel('Gía trị dự đoán')\n",
    "    plt.show()\n",
    "    i=i+1\n"
   ]
  },
  {
   "cell_type": "markdown",
   "id": "6bdc0c53",
   "metadata": {},
   "source": [
    "Dùng cross_val_score trong cross-validation"
   ]
  },
  {
   "cell_type": "code",
   "execution_count": 7,
   "id": "226ea705",
   "metadata": {},
   "outputs": [
    {
     "name": "stderr",
     "output_type": "stream",
     "text": [
      "/home/toandokhanh/.local/lib/python3.10/site-packages/sklearn/linear_model/_logistic.py:444: ConvergenceWarning: lbfgs failed to converge (status=1):\n",
      "STOP: TOTAL NO. of ITERATIONS REACHED LIMIT.\n",
      "\n",
      "Increase the number of iterations (max_iter) or scale the data as shown in:\n",
      "    https://scikit-learn.org/stable/modules/preprocessing.html\n",
      "Please also refer to the documentation for alternative solver options:\n",
      "    https://scikit-learn.org/stable/modules/linear_model.html#logistic-regression\n",
      "  n_iter_i = _check_optimize_result(\n",
      "/home/toandokhanh/.local/lib/python3.10/site-packages/sklearn/linear_model/_logistic.py:444: ConvergenceWarning: lbfgs failed to converge (status=1):\n",
      "STOP: TOTAL NO. of ITERATIONS REACHED LIMIT.\n",
      "\n",
      "Increase the number of iterations (max_iter) or scale the data as shown in:\n",
      "    https://scikit-learn.org/stable/modules/preprocessing.html\n",
      "Please also refer to the documentation for alternative solver options:\n",
      "    https://scikit-learn.org/stable/modules/linear_model.html#logistic-regression\n",
      "  n_iter_i = _check_optimize_result(\n"
     ]
    },
    {
     "data": {
      "text/plain": [
       "{'fit_time': array([0.05367112, 0.06340003]),\n",
       " 'score_time': array([0.0037322 , 0.00391102]),\n",
       " 'test_acc': array([0.89988877, 0.93095768]),\n",
       " 'train_acc': array([1., 1.]),\n",
       " 'test_prec_macro': array([0.91472259, 0.93419446]),\n",
       " 'train_prec_macro': array([1., 1.]),\n",
       " 'test_rec_micro': array([0.90007266, 0.93116137]),\n",
       " 'train_rec_micro': array([1., 1.]),\n",
       " 'test_fl_score': array([0.90269647, 0.9314643 ]),\n",
       " 'train_fl_score': array([1., 1.])}"
      ]
     },
     "execution_count": 7,
     "metadata": {},
     "output_type": "execute_result"
    }
   ],
   "source": [
    "from sklearn.model_selection import cross_validate\n",
    "ligistic_cl = linear_model.LogisticRegression()\n",
    "scoring = { 'acc': 'accuracy','prec_macro': 'precision_macro',\n",
    "           'rec_micro': 'recall_macro', 'fl_score': 'f1_macro'\n",
    "    \n",
    "           \n",
    "}\n",
    "scores = cross_validate(logistic_cl, X, y, scoring=scoring, cv=2, return_train_score=True)\n",
    "scores"
   ]
  },
  {
   "cell_type": "markdown",
   "id": "82b9b013",
   "metadata": {},
   "source": [
    "Thực hiện phân lớp với SVM"
   ]
  },
  {
   "cell_type": "code",
   "execution_count": 8,
   "id": "756f3ede",
   "metadata": {},
   "outputs": [
    {
     "name": "stdout",
     "output_type": "stream",
     "text": [
      "svm\n"
     ]
    },
    {
     "data": {
      "text/plain": [
       "{'fit_time': array([0.02743506, 0.02107525]),\n",
       " 'score_time': array([0.04477811, 0.03630567]),\n",
       " 'test_acc': array([0.95439377, 0.95991091]),\n",
       " 'train_acc': array([0.99554566, 0.99888765]),\n",
       " 'test_prec_macro': array([0.95730055, 0.96098935]),\n",
       " 'train_prec_macro': array([0.99559972, 0.9989011 ]),\n",
       " 'test_rec_micro': array([0.95442358, 0.96012134]),\n",
       " 'train_rec_micro': array([0.99547893, 0.9989011 ]),\n",
       " 'test_fl_score': array([0.95483208, 0.95999411]),\n",
       " 'train_fl_score': array([0.9955089 , 0.99889503])}"
      ]
     },
     "execution_count": 8,
     "metadata": {},
     "output_type": "execute_result"
    }
   ],
   "source": [
    "from sklearn import svm\n",
    "svm_clf = svm.SVC()\n",
    "scoring = { 'acc': 'accuracy','prec_macro': 'precision_macro',\n",
    "           'rec_micro': 'recall_macro', 'fl_score': 'f1_macro'          \n",
    "}\n",
    "scores = cross_validate(svm_clf, X, y,scoring=scoring, cv=2, return_train_score=True)\n",
    "print('svm')\n",
    "scores"
   ]
  },
  {
   "cell_type": "markdown",
   "id": "8bd7b123",
   "metadata": {},
   "source": [
    "K láng giềng (KNeighborClassifier)"
   ]
  },
  {
   "cell_type": "code",
   "execution_count": 9,
   "id": "bec08a98",
   "metadata": {},
   "outputs": [
    {
     "name": "stdout",
     "output_type": "stream",
     "text": [
      "KNeighborsClassifier()\n"
     ]
    },
    {
     "data": {
      "text/plain": [
       "{'fit_time': array([0.00072694, 0.00057173]),\n",
       " 'score_time': array([0.3349843 , 0.24703193]),\n",
       " 'test_acc': array([0.95216908, 0.95434298]),\n",
       " 'train_acc': array([0.99331849, 0.98887653]),\n",
       " 'test_prec_macro': array([0.95622072, 0.95508154]),\n",
       " 'train_prec_macro': array([0.99347775, 0.98906462]),\n",
       " 'test_rec_micro': array([0.95203757, 0.95418908]),\n",
       " 'train_rec_micro': array([0.99325561, 0.98874784]),\n",
       " 'test_fl_score': array([0.95260588, 0.95426541]),\n",
       " 'train_fl_score': array([0.99331071, 0.98880415])}"
      ]
     },
     "execution_count": 9,
     "metadata": {},
     "output_type": "execute_result"
    }
   ],
   "source": [
    "from sklearn.neighbors import KNeighborsClassifier\n",
    "neigh = KNeighborsClassifier()\n",
    "#neigh.fit(scoring)\n",
    "svm_clf = KNeighborsClassifier()\n",
    "scoring = { 'acc': 'accuracy','prec_macro': 'precision_macro',\n",
    "           'rec_micro': 'recall_macro', 'fl_score': 'f1_macro'          \n",
    "}\n",
    "\n",
    "scores = cross_validate(svm_clf, X,y, scoring=scoring, cv=2, return_train_score=True)\n",
    "\n",
    "print(neigh)\n",
    "scores\n"
   ]
  },
  {
   "cell_type": "markdown",
   "id": "7e0d3f9c",
   "metadata": {},
   "source": [
    "Cây quyết định (DecisionTreeClassifier)"
   ]
  },
  {
   "cell_type": "code",
   "execution_count": 10,
   "id": "712bf49a",
   "metadata": {},
   "outputs": [
    {
     "name": "stdout",
     "output_type": "stream",
     "text": [
      "DecisionTreeClassifier()\n"
     ]
    },
    {
     "data": {
      "text/plain": [
       "{'fit_time': array([0.00834584, 0.00623941]),\n",
       " 'score_time': array([0.00266957, 0.00234032]),\n",
       " 'test_acc': array([0.74304783, 0.75278396]),\n",
       " 'train_acc': array([1., 1.]),\n",
       " 'test_prec_macro': array([0.77351294, 0.76464548]),\n",
       " 'train_prec_macro': array([1., 1.]),\n",
       " 'test_rec_micro': array([0.74348768, 0.75263719]),\n",
       " 'train_rec_micro': array([1., 1.]),\n",
       " 'test_fl_score': array([0.74591553, 0.75433087]),\n",
       " 'train_fl_score': array([1., 1.])}"
      ]
     },
     "execution_count": 10,
     "metadata": {},
     "output_type": "execute_result"
    }
   ],
   "source": [
    "from sklearn.tree import DecisionTreeClassifier\n",
    "decis = DecisionTreeClassifier()\n",
    "#neigh.fit(scoring)\n",
    "svm_clf = DecisionTreeClassifier()\n",
    "scoring = { 'acc': 'accuracy','prec_macro': 'precision_macro',\n",
    "           'rec_micro': 'recall_macro', 'fl_score': 'f1_macro'          \n",
    "}\n",
    "\n",
    "scores = cross_validate(svm_clf, X,y, scoring=scoring, cv=2, return_train_score=True)\n",
    "\n",
    "print(decis)\n",
    "scores"
   ]
  },
  {
   "cell_type": "markdown",
   "id": "076207bd",
   "metadata": {},
   "source": [
    "Rừng ngẫu nhiên (RandomForestClassifier)"
   ]
  },
  {
   "cell_type": "code",
   "execution_count": 11,
   "id": "6091cd0d",
   "metadata": {},
   "outputs": [
    {
     "name": "stdout",
     "output_type": "stream",
     "text": [
      "RandomForestClassifier()\n"
     ]
    },
    {
     "data": {
      "text/plain": [
       "{'fit_time': array([0.17076778, 0.16713262]),\n",
       " 'score_time': array([0.02068067, 0.02037024]),\n",
       " 'test_acc': array([0.91434928, 0.93207127]),\n",
       " 'train_acc': array([1., 1.]),\n",
       " 'test_prec_macro': array([0.91632721, 0.9353978 ]),\n",
       " 'train_prec_macro': array([1., 1.]),\n",
       " 'test_rec_micro': array([0.9145798 , 0.93227303]),\n",
       " 'train_rec_micro': array([1., 1.]),\n",
       " 'test_fl_score': array([0.91433546, 0.93270227]),\n",
       " 'train_fl_score': array([1., 1.])}"
      ]
     },
     "execution_count": 11,
     "metadata": {},
     "output_type": "execute_result"
    }
   ],
   "source": [
    "from sklearn.ensemble import RandomForestClassifier\n",
    "rand = RandomForestClassifier()\n",
    "#neigh.fit(scoring)\n",
    "svm_clf = RandomForestClassifier()\n",
    "scoring = { 'acc': 'accuracy','prec_macro': 'precision_macro',\n",
    "           'rec_micro': 'recall_macro', 'fl_score': 'f1_macro'          \n",
    "}\n",
    "\n",
    "scores = cross_validate(svm_clf, X,y, scoring=scoring, cv=2, return_train_score=True)\n",
    "\n",
    "print(rand)\n",
    "scores"
   ]
  },
  {
   "cell_type": "markdown",
   "id": "4e5ce7a6",
   "metadata": {},
   "source": [
    "Tải dữ liệu Digits dưới dạng hình ảnh"
   ]
  },
  {
   "cell_type": "code",
   "execution_count": 12,
   "id": "0558369f",
   "metadata": {},
   "outputs": [
    {
     "data": {
      "text/plain": [
       "(1797, 8, 8)"
      ]
     },
     "execution_count": 12,
     "metadata": {},
     "output_type": "execute_result"
    }
   ],
   "source": [
    "from sklearn.datasets import load_digits\n",
    "digits = load_digits()\n",
    "digits.images.shape"
   ]
  },
  {
   "cell_type": "markdown",
   "id": "cb165227",
   "metadata": {},
   "source": [
    "Học sâu mạng nơ-ron tích chập"
   ]
  },
  {
   "cell_type": "code",
   "execution_count": 13,
   "id": "4eea55d2",
   "metadata": {},
   "outputs": [
    {
     "name": "stdout",
     "output_type": "stream",
     "text": [
      "(1797, 8, 8, 1)\n",
      "(1797,)\n"
     ]
    },
    {
     "name": "stderr",
     "output_type": "stream",
     "text": [
      "/tmp/ipykernel_35/2172697974.py:27: DeprecationWarning: KerasClassifier is deprecated, use Sci-Keras (https://github.com/adriangb/scikeras) instead. See https://www.adriangb.com/scikeras/stable/migration.html for help migrating.\n",
      "  model = KerasClassifier(build_fn = create_model, epochs=100, batch_size=256, verbose=0)\n"
     ]
    },
    {
     "name": "stdout",
     "output_type": "stream",
     "text": [
      "29/29 [==============================] - 0s 906us/step\n",
      "29/29 [==============================] - 0s 910us/step\n",
      "29/29 [==============================] - 0s 994us/step\n",
      "29/29 [==============================] - 0s 840us/step\n",
      "CNN\n"
     ]
    },
    {
     "data": {
      "text/plain": [
       "{'fit_time': array([3.38928843, 2.46787024]),\n",
       " 'score_time': array([0.15599513, 0.09892249]),\n",
       " 'test_acc': array([0.95439377, 0.9532294 ]),\n",
       " 'train_acc': array([1., 1.]),\n",
       " 'test_prec_macro': array([0.95502975, 0.95445614]),\n",
       " 'train_prec_macro': array([1., 1.]),\n",
       " 'test_rec_micro': array([0.95429905, 0.953447  ]),\n",
       " 'train_rec_micro': array([1., 1.]),\n",
       " 'test_fl_score': array([0.95412219, 0.95340836]),\n",
       " 'train_fl_score': array([1., 1.])}"
      ]
     },
     "execution_count": 13,
     "metadata": {},
     "output_type": "execute_result"
    }
   ],
   "source": [
    "from numpy.random import seed \n",
    "seed(1)\n",
    "import tensorflow\n",
    "tensorflow.random.set_seed(1)\n",
    "\n",
    "import pandas as pd\n",
    "import tensorflow as tf\n",
    "from keras.wrappers.scikit_learn import KerasClassifier\n",
    "from keras.models import Sequential\n",
    "from keras.layers import Dense, Conv2D, Flatten\n",
    "from sklearn.model_selection import cross_validate\n",
    "\n",
    "X_image = digits.images.reshape(digits.images.shape[0], digits.images.shape[1],\n",
    "                               digits.images.shape[1], 1).astype('float32')\n",
    "print(X_image.shape)\n",
    "y_image = y\n",
    "print(y_image.shape)\n",
    "#print(y.shape)\n",
    "def create_model():\n",
    "        model = Sequential()\n",
    "        model.add(Conv2D(64, kernel_size=3, activation='relu', input_shape=(8,8,1)))\n",
    "        model.add(Flatten())\n",
    "        model.add(Dense(64))\n",
    "        model.add(Dense(10, activation='softmax'))\n",
    "        model.compile(optimizer='adam', loss='categorical_crossentropy', metrics=['accuracy'])\n",
    "        return model\n",
    "model = KerasClassifier(build_fn = create_model, epochs=100, batch_size=256, verbose=0)\n",
    "    \n",
    "scoring = { 'acc': 'accuracy','prec_macro': 'precision_macro',\n",
    "           'rec_micro': 'recall_macro', 'fl_score': 'f1_macro'          \n",
    "}\n",
    "scores = cross_validate(model, X_image, y_image, scoring=scoring, cv=2, return_train_score=True)\n",
    "print('CNN')\n",
    "scores"
   ]
  },
  {
   "cell_type": "markdown",
   "id": "9c32d980",
   "metadata": {},
   "source": [
    "##### 3. Hãy cho trình bày các loại cross validation. Phân tích cách sử dụng của mỗi loại.\n"
   ]
  },
  {
   "cell_type": "markdown",
   "id": "f9bb4cf1",
   "metadata": {},
   "source": [
    "Cross validation là một phương pháp thống kê để ước lượng hiệu quả của các mô hình học máy. Có nhiều loại cross validation, nhưng ba loại phổ biến nhất là:\n",
    "\n",
    "Hold-out: chia dữ liệu thành hai tập: học và kiểm tra. Phù hợp với dữ liệu lớn và đồng nhất.\n",
    "\n",
    "\n",
    "K-fold: chia dữ liệu thành K tập con, mỗi tập con làm tập kiểm tra một lần13. Phù hợp với dữ liệu nhỏ và không đồng nhất.\n",
    "\n",
    "\n",
    "Leave-one-out: tương tự K-fold nhưng K bằng số dữ liệu. Phù hợp với dữ liệu rất nhỏ."
   ]
  },
  {
   "cell_type": "markdown",
   "id": "92b0d538",
   "metadata": {},
   "source": [
    "Link tham khảo:\n",
    "\n",
    "https://trituenhantao.io/kien-thuc/gioi-thieu-ve-k-fold-cross-validation/\n",
    "\n",
    "https://scikit-learn.org/stable/modules/cross_validation.html\n",
    "\n",
    "https://miai.vn/2021/01/18/k-fold-cross-validation-tuyet-chieu-train-khi-it-du-lieu/"
   ]
  },
  {
   "cell_type": "markdown",
   "id": "0e4bff73",
   "metadata": {},
   "source": [
    "##### 4.\tHãy cho biết số k trong cross validation ý nghĩa là gì? Nên chọn số k bao nhiêu cho phù hợp với các bài toán?"
   ]
  },
  {
   "cell_type": "markdown",
   "id": "4dd27b5e",
   "metadata": {},
   "source": [
    "Số k trong cross validation là số nhóm mà dữ liệu sẽ được chia ra để đánh giá mô hình học máy. Số k phù hợp phụ thuộc vào số lượng và tính chất của dữ liệu. Một số nguyên tắc cơ bản là:\n",
    "\n",
    "Nếu dữ liệu ít, k nên lớn để tận dụng tối đa dữ liệu.\n",
    "\n",
    "\n",
    "Nếu dữ liệu nhiều, k nên nhỏ để giảm thời gian tính toán.\n",
    "\n",
    "\n",
    "Nếu dữ liệu có nhóm, k nên là ước số của số nhóm hoặc kích thước của các nhóm.\n",
    "\n",
    "\n",
    "Link tham khảo: https://miai.vn/2021/01/18/k-fold-cross-validation-tuyet-chieu-train-khi-it-du-lieu/"
   ]
  },
  {
   "cell_type": "markdown",
   "id": "8c60c915",
   "metadata": {},
   "source": [
    "##### 5. Confusion Matrix là gì? Ý nghĩa các thành phần trong Confusion Matrix. Lợi ích và bất lợi của cách trình bày kết quả dạng này?\n"
   ]
  },
  {
   "cell_type": "markdown",
   "id": "3d75b79d",
   "metadata": {},
   "source": [
    "Confusion Matrix là một bảng chứa số lượng dự đoán đúng và sai cho từng lớp trong bài toán phân loại. Các thành phần trong Confusion Matrix bao gồm:\n",
    "\n",
    "\n",
    "True Positive (TP): số lượng dự đoán đúng cho lớp tích cực\n",
    "\n",
    "\n",
    "True Negative (TN): số lượng dự đoán đúng cho lớp tiêu cực\n",
    "\n",
    "\n",
    "False Positive (FP): số lượng dự đoán sai cho lớp tích cực\n",
    "\n",
    "\n",
    "False Negative (FN): số lượng dự đoán sai cho lớp tiêu cực\n",
    "\n",
    "\n",
    "Lợi ích của Confusion Matrix là nó cho phép ta nhìn thấy được hiệu quả của thuật toán phân loại trên các lớp khác nhau, cũng như tính toán các chỉ số như độ chính xác, độ bao quát, độ nhạy, độ chính xác cao. Bất lợi của Confusion Matrix là nó chỉ áp dụng được cho bài toán phân loại nhị phân hoặc nhiều lớp, không thể sử dụng cho bài toán hồi quy.\n",
    "\n",
    "\n",
    "Link tham khảo : \n",
    "\n",
    "https://viblo.asia/p/tim-hieu-ve-confusion-matrix-trong-machine-learning-Az45bRpo5xY\n",
    "\n",
    "\n",
    "https://websitehcm.com/confusion-matrix-la-gi-cac-yeu-to-quan-trong/\n",
    "\n"
   ]
  },
  {
   "cell_type": "markdown",
   "id": "d2e3a890",
   "metadata": {},
   "source": [
    "##### 6. Chạy thực nghiệm đoạn code [5] trang 81 với số k=2 đến k=10. Thực hiện tương tự khi đổi thành các thuật toán SVM, Random Forest.\n"
   ]
  },
  {
   "cell_type": "markdown",
   "id": "0db96183",
   "metadata": {},
   "source": [
    "##### SVM\n"
   ]
  },
  {
   "cell_type": "code",
   "execution_count": 14,
   "id": "9ee57069",
   "metadata": {},
   "outputs": [
    {
     "name": "stdout",
     "output_type": "stream",
     "text": [
      "svm\n"
     ]
    },
    {
     "data": {
      "text/plain": [
       "{'fit_time': array([0.02084422, 0.0176568 ]),\n",
       " 'score_time': array([0.02879357, 0.02808118]),\n",
       " 'test_acc': array([0.95439377, 0.95991091]),\n",
       " 'train_acc': array([0.99554566, 0.99888765]),\n",
       " 'test_prec_macro': array([0.95730055, 0.96098935]),\n",
       " 'train_prec_macro': array([0.99559972, 0.9989011 ]),\n",
       " 'test_rec_micro': array([0.95442358, 0.96012134]),\n",
       " 'train_rec_micro': array([0.99547893, 0.9989011 ]),\n",
       " 'test_fl_score': array([0.95483208, 0.95999411]),\n",
       " 'train_fl_score': array([0.9955089 , 0.99889503])}"
      ]
     },
     "execution_count": 14,
     "metadata": {},
     "output_type": "execute_result"
    }
   ],
   "source": [
    "# K = 2\n",
    "from sklearn import svm\n",
    "svm_clf = svm.SVC()\n",
    "scoring = { 'acc': 'accuracy','prec_macro': 'precision_macro',\n",
    "           'rec_micro': 'recall_macro', 'fl_score': 'f1_macro'          \n",
    "}\n",
    "scores = cross_validate(svm_clf, X, y,scoring=scoring, cv=2, return_train_score=True)\n",
    "print('svm')\n",
    "scores"
   ]
  },
  {
   "cell_type": "code",
   "execution_count": 15,
   "id": "42d4cc4f",
   "metadata": {},
   "outputs": [
    {
     "name": "stdout",
     "output_type": "stream",
     "text": [
      "svm\n"
     ]
    },
    {
     "data": {
      "text/plain": [
       "{'fit_time': array([0.02836251, 0.02677631, 0.0255909 ]),\n",
       " 'score_time': array([0.02487016, 0.02210927, 0.02347636]),\n",
       " 'test_acc': array([0.96494157, 0.97996661, 0.96494157]),\n",
       " 'train_acc': array([0.99749583, 0.99582638, 0.9966611 ]),\n",
       " 'test_prec_macro': array([0.96571266, 0.98179378, 0.96536686]),\n",
       " 'train_prec_macro': array([0.99751191, 0.99586008, 0.9966941 ]),\n",
       " 'test_rec_micro': array([0.96468546, 0.97970982, 0.96496142]),\n",
       " 'train_rec_micro': array([0.99747126, 0.99581148, 0.99665848]),\n",
       " 'test_fl_score': array([0.96476448, 0.98008537, 0.96489839]),\n",
       " 'train_fl_score': array([0.99748127, 0.99582189, 0.99666245])}"
      ]
     },
     "execution_count": 15,
     "metadata": {},
     "output_type": "execute_result"
    }
   ],
   "source": [
    "# K = 3\n",
    "from sklearn import svm\n",
    "svm_clf = svm.SVC()\n",
    "scoring = { 'acc': 'accuracy','prec_macro': 'precision_macro',\n",
    "           'rec_micro': 'recall_macro', 'fl_score': 'f1_macro'          \n",
    "}\n",
    "scores = cross_validate(svm_clf, X, y,scoring=scoring, cv=3, return_train_score=True)\n",
    "print('svm')\n",
    "scores"
   ]
  },
  {
   "cell_type": "code",
   "execution_count": 16,
   "id": "b6dafe8f",
   "metadata": {},
   "outputs": [
    {
     "name": "stdout",
     "output_type": "stream",
     "text": [
      "svm\n"
     ]
    },
    {
     "data": {
      "text/plain": [
       "{'fit_time': array([0.03187656, 0.03133774, 0.03380466, 0.0313971 ]),\n",
       " 'score_time': array([0.01888657, 0.01960945, 0.01999855, 0.02446461]),\n",
       " 'test_acc': array([0.96222222, 0.96659243, 0.98218263, 0.95100223]),\n",
       " 'train_acc': array([0.99703044, 0.99480712, 0.99703264, 0.99777448]),\n",
       " 'test_prec_macro': array([0.96290072, 0.96726628, 0.98306545, 0.95334644]),\n",
       " 'train_prec_macro': array([0.99706207, 0.9948179 , 0.99706387, 0.99779941]),\n",
       " 'test_rec_micro': array([0.96222003, 0.96659814, 0.98205707, 0.95139218]),\n",
       " 'train_rec_micro': array([0.99700855, 0.99478047, 0.99701987, 0.99779941]),\n",
       " 'test_fl_score': array([0.9619303 , 0.96642571, 0.98223759, 0.95066518]),\n",
       " 'train_fl_score': array([0.99701889, 0.99478844, 0.99703639, 0.99779136])}"
      ]
     },
     "execution_count": 16,
     "metadata": {},
     "output_type": "execute_result"
    }
   ],
   "source": [
    "# K = 4\n",
    "from sklearn import svm\n",
    "svm_clf = svm.SVC()\n",
    "scoring = { 'acc': 'accuracy','prec_macro': 'precision_macro',\n",
    "           'rec_micro': 'recall_macro', 'fl_score': 'f1_macro'          \n",
    "}\n",
    "scores = cross_validate(svm_clf, X, y,scoring=scoring, cv=4, return_train_score=True)\n",
    "print('svm')\n",
    "scores"
   ]
  },
  {
   "cell_type": "code",
   "execution_count": 17,
   "id": "44af22d0",
   "metadata": {},
   "outputs": [
    {
     "name": "stdout",
     "output_type": "stream",
     "text": [
      "svm\n"
     ]
    },
    {
     "data": {
      "text/plain": [
       "{'fit_time': array([0.03679299, 0.03292727, 0.03440905, 0.03725529, 0.03523684]),\n",
       " 'score_time': array([0.01612473, 0.01609588, 0.01723433, 0.01825643, 0.01781726]),\n",
       " 'test_acc': array([0.96111111, 0.94444444, 0.98328691, 0.98885794, 0.93871866]),\n",
       " 'train_acc': array([0.99791232, 0.99582463, 0.99582754, 0.99791377, 0.99791377]),\n",
       " 'test_prec_macro': array([0.96201026, 0.95338931, 0.98459459, 0.98918129, 0.94220644]),\n",
       " 'train_prec_macro': array([0.99796378, 0.99581592, 0.99588005, 0.9979355 , 0.99792625]),\n",
       " 'test_rec_micro': array([0.96110682, 0.94444015, 0.98275481, 0.98880523, 0.93932218]),\n",
       " 'train_rec_micro': array([0.99789169, 0.99578816, 0.99579844, 0.99792618, 0.99793569]),\n",
       " 'test_fl_score': array([0.96074234, 0.94434224, 0.98300583, 0.98883607, 0.93827404]),\n",
       " 'train_fl_score': array([0.99791811, 0.99579262, 0.99582232, 0.99792848, 0.99792383])}"
      ]
     },
     "execution_count": 17,
     "metadata": {},
     "output_type": "execute_result"
    }
   ],
   "source": [
    "# K = 5\n",
    "from sklearn import svm\n",
    "svm_clf = svm.SVC()\n",
    "scoring = { 'acc': 'accuracy','prec_macro': 'precision_macro',\n",
    "           'rec_micro': 'recall_macro', 'fl_score': 'f1_macro'          \n",
    "}\n",
    "scores = cross_validate(svm_clf, X, y,scoring=scoring, cv=5, return_train_score=True)\n",
    "print('svm')\n",
    "scores"
   ]
  },
  {
   "cell_type": "code",
   "execution_count": 18,
   "id": "e9ff8a29",
   "metadata": {},
   "outputs": [
    {
     "name": "stdout",
     "output_type": "stream",
     "text": [
      "svm\n"
     ]
    },
    {
     "data": {
      "text/plain": [
       "{'fit_time': array([0.04025316, 0.0364399 , 0.03173351, 0.03600955, 0.04305887,\n",
       "        0.03587008]),\n",
       " 'score_time': array([0.01400971, 0.01412272, 0.01324916, 0.01341438, 0.01463795,\n",
       "        0.01310873]),\n",
       " 'test_acc': array([0.96333333, 0.96666667, 0.98666667, 0.97993311, 0.99331104,\n",
       "        0.92976589]),\n",
       " 'train_acc': array([0.99799599, 0.99599198, 0.99599198, 0.99666222, 0.99666222,\n",
       "        0.99799733]),\n",
       " 'test_prec_macro': array([0.96547699, 0.97087814, 0.98778409, 0.98132576, 0.99354839,\n",
       "        0.93521374]),\n",
       " 'train_prec_macro': array([0.99804346, 0.99598406, 0.99604735, 0.99669699, 0.99671018,\n",
       "        0.99800883]),\n",
       " 'test_rec_micro': array([0.96332592, 0.96677419, 0.98643678, 0.97987764, 0.99321839,\n",
       "        0.93073044]),\n",
       " 'train_rec_micro': array([0.99797701, 0.99595844, 0.99595844, 0.99665245, 0.99662946,\n",
       "        0.99801754]),\n",
       " 'test_fl_score': array([0.96329663, 0.96641719, 0.98668953, 0.97996341, 0.99327201,\n",
       "        0.92898792]),\n",
       " 'train_fl_score': array([0.99800137, 0.99596256, 0.99598725, 0.99666584, 0.99665855,\n",
       "        0.9980066 ])}"
      ]
     },
     "execution_count": 18,
     "metadata": {},
     "output_type": "execute_result"
    }
   ],
   "source": [
    "# K = 6\n",
    "from sklearn import svm\n",
    "svm_clf = svm.SVC()\n",
    "scoring = { 'acc': 'accuracy','prec_macro': 'precision_macro',\n",
    "           'rec_micro': 'recall_macro', 'fl_score': 'f1_macro'          \n",
    "}\n",
    "scores = cross_validate(svm_clf, X, y,scoring=scoring, cv=6, return_train_score=True)\n",
    "print('svm')\n",
    "scores"
   ]
  },
  {
   "cell_type": "code",
   "execution_count": 19,
   "id": "8e2af590",
   "metadata": {},
   "outputs": [
    {
     "name": "stdout",
     "output_type": "stream",
     "text": [
      "svm\n"
     ]
    },
    {
     "data": {
      "text/plain": [
       "{'fit_time': array([0.0389657 , 0.04283857, 0.03841686, 0.03771687, 0.03946114,\n",
       "        0.03554988, 0.03554225]),\n",
       " 'score_time': array([0.01345778, 0.01321602, 0.01177454, 0.01325727, 0.01356769,\n",
       "        0.01152205, 0.0121665 ]),\n",
       " 'test_acc': array([0.95719844, 0.96498054, 0.96498054, 0.98054475, 0.9922179 ,\n",
       "        0.98046875, 0.92578125]),\n",
       " 'train_acc': array([0.99805195, 0.9961039 , 0.99675325, 0.9961039 , 0.99675325,\n",
       "        0.99610642, 0.99805321]),\n",
       " 'test_prec_macro': array([0.96030829, 0.97262443, 0.96675702, 0.98296296, 0.99259259,\n",
       "        0.98250319, 0.93149504]),\n",
       " 'train_prec_macro': array([0.9980932 , 0.99611442, 0.99674783, 0.99611442, 0.99680665,\n",
       "        0.99615326, 0.99806452]),\n",
       " 'test_rec_micro': array([0.95675641, 0.96415385, 0.96523077, 0.98015385, 0.99215385,\n",
       "        0.98061538, 0.92615385]),\n",
       " 'train_rec_micro': array([0.99803463, 0.99606864, 0.99673978, 0.99606864, 0.99671799,\n",
       "        0.99608121, 0.99807687]),\n",
       " 'test_fl_score': array([0.95702195, 0.96450063, 0.96488161, 0.98031391, 0.99222481,\n",
       "        0.98058175, 0.9235866 ]),\n",
       " 'train_fl_score': array([0.99805552, 0.99608112, 0.99673753, 0.99608112, 0.9967517 ,\n",
       "        0.99610243, 0.99806446])}"
      ]
     },
     "execution_count": 19,
     "metadata": {},
     "output_type": "execute_result"
    }
   ],
   "source": [
    "# K = 7\n",
    "from sklearn import svm\n",
    "svm_clf = svm.SVC()\n",
    "scoring = { 'acc': 'accuracy','prec_macro': 'precision_macro',\n",
    "           'rec_micro': 'recall_macro', 'fl_score': 'f1_macro'          \n",
    "}\n",
    "scores = cross_validate(svm_clf, X, y,scoring=scoring, cv=7, return_train_score=True)\n",
    "print('svm')\n",
    "scores"
   ]
  },
  {
   "cell_type": "code",
   "execution_count": 20,
   "id": "bd2c4e09",
   "metadata": {},
   "outputs": [
    {
     "name": "stdout",
     "output_type": "stream",
     "text": [
      "svm\n"
     ]
    },
    {
     "data": {
      "text/plain": [
       "{'fit_time': array([0.04561329, 0.04701209, 0.04461598, 0.04906201, 0.04045296,\n",
       "        0.04053473, 0.04462767, 0.03964067]),\n",
       " 'score_time': array([0.01286268, 0.01256967, 0.0122807 , 0.01460719, 0.01237082,\n",
       "        0.01212931, 0.01344252, 0.01422572]),\n",
       " 'test_acc': array([0.95555556, 0.97777778, 0.95555556, 0.98666667, 0.98666667,\n",
       "        0.98660714, 0.98214286, 0.91517857]),\n",
       " 'train_acc': array([0.9980916 , 0.99554707, 0.99681934, 0.99618321, 0.99681934,\n",
       "        0.99682136, 0.99618563, 0.99809282]),\n",
       " 'test_prec_macro': array([0.95914947, 0.98018519, 0.95777339, 0.98765217, 0.98783333,\n",
       "        0.98731884, 0.98278986, 0.92363174]),\n",
       " 'train_prec_macro': array([0.9981366 , 0.9955712 , 0.99681037, 0.99623357, 0.99681403,\n",
       "        0.99685101, 0.99620444, 0.99810923]),\n",
       " 'test_rec_micro': array([0.95592885, 0.97826087, 0.95591003, 0.98675889, 0.98656126,\n",
       "        0.98656126, 0.98201581, 0.91581028]),\n",
       " 'train_rec_micro': array([0.99807628, 0.99551611, 0.99680665, 0.99614838, 0.99680628,\n",
       "        0.99681444, 0.99615655, 0.99811316]),\n",
       " 'test_fl_score': array([0.95571787, 0.97814987, 0.95484746, 0.98684109, 0.98683229,\n",
       "        0.98653833, 0.98199932, 0.91106297]),\n",
       " 'train_fl_score': array([0.99809842, 0.99552761, 0.99680245, 0.99617671, 0.99680411,\n",
       "        0.99682468, 0.99617056, 0.99810524])}"
      ]
     },
     "execution_count": 20,
     "metadata": {},
     "output_type": "execute_result"
    }
   ],
   "source": [
    "# K = 8\n",
    "from sklearn import svm\n",
    "svm_clf = svm.SVC()\n",
    "scoring = { 'acc': 'accuracy','prec_macro': 'precision_macro',\n",
    "           'rec_micro': 'recall_macro', 'fl_score': 'f1_macro'          \n",
    "}\n",
    "scores = cross_validate(svm_clf, X, y,scoring=scoring, cv=8, return_train_score=True)\n",
    "print('svm')\n",
    "scores"
   ]
  },
  {
   "cell_type": "code",
   "execution_count": 21,
   "id": "9b1f6392",
   "metadata": {},
   "outputs": [
    {
     "name": "stdout",
     "output_type": "stream",
     "text": [
      "svm\n"
     ]
    },
    {
     "data": {
      "text/plain": [
       "{'fit_time': array([0.04178429, 0.04181933, 0.03875327, 0.0375917 , 0.04639816,\n",
       "        0.03840661, 0.03663707, 0.03537941, 0.03289127]),\n",
       " 'score_time': array([0.00974894, 0.01040721, 0.01097798, 0.01011872, 0.0121882 ,\n",
       "        0.00972342, 0.0096314 , 0.00960326, 0.00923467]),\n",
       " 'test_acc': array([0.95      , 0.98      , 0.985     , 0.995     , 0.97      ,\n",
       "        0.99      , 0.99497487, 0.96482412, 0.95477387]),\n",
       " 'train_acc': array([0.99812148, 0.99561678, 0.99686913, 0.99624296, 0.99624296,\n",
       "        0.99686913, 0.99687109, 0.99749687, 0.99687109]),\n",
       " 'test_prec_macro': array([0.95473684, 0.98333333, 0.98547619, 0.9952381 , 0.9752381 ,\n",
       "        0.99047619, 0.9952381 , 0.96790608, 0.96024084]),\n",
       " 'train_prec_macro': array([0.99816325, 0.99563832, 0.99686231, 0.99625558, 0.99623276,\n",
       "        0.99690155, 0.99689781, 0.997523  , 0.99689824]),\n",
       " 'test_rec_micro': array([0.94997494, 0.98      , 0.9852381 , 0.995     , 0.97      ,\n",
       "        0.99      , 0.995     , 0.96368421, 0.95619048]),\n",
       " 'train_rec_micro': array([0.99810484, 0.99558856, 0.99685872, 0.99620901, 0.99620901,\n",
       "        0.99685837, 0.99686255, 0.99748755, 0.99687415]),\n",
       " 'test_fl_score': array([0.9500756 , 0.97979798, 0.9851157 , 0.99499687, 0.96960005,\n",
       "        0.98999375, 0.99499687, 0.9640243 , 0.95507956]),\n",
       " 'train_fl_score': array([0.99812625, 0.99559793, 0.99685469, 0.99622263, 0.99621695,\n",
       "        0.99687214, 0.99687237, 0.99750136, 0.99687648])}"
      ]
     },
     "execution_count": 21,
     "metadata": {},
     "output_type": "execute_result"
    }
   ],
   "source": [
    "# K = 9\n",
    "from sklearn import svm\n",
    "svm_clf = svm.SVC()\n",
    "scoring = { 'acc': 'accuracy','prec_macro': 'precision_macro',\n",
    "           'rec_micro': 'recall_macro', 'fl_score': 'f1_macro'          \n",
    "}\n",
    "scores = cross_validate(svm_clf, X, y,scoring=scoring, cv=9, return_train_score=True)\n",
    "print('svm')\n",
    "scores"
   ]
  },
  {
   "cell_type": "code",
   "execution_count": 22,
   "id": "adce30cb",
   "metadata": {},
   "outputs": [
    {
     "name": "stdout",
     "output_type": "stream",
     "text": [
      "svm\n"
     ]
    },
    {
     "data": {
      "text/plain": [
       "{'fit_time': array([0.0410943 , 0.05606747, 0.03905153, 0.03904605, 0.04046345,\n",
       "        0.03961587, 0.03928161, 0.03948879, 0.05118871, 0.03810668]),\n",
       " 'score_time': array([0.00926542, 0.01098013, 0.00945139, 0.00933456, 0.00900364,\n",
       "        0.00928473, 0.00890875, 0.0117259 , 0.0102129 , 0.01019239]),\n",
       " 'test_acc': array([0.94444444, 0.98888889, 0.92777778, 0.96666667, 0.98333333,\n",
       "        0.98888889, 0.98888889, 0.99441341, 0.96089385, 0.95530726]),\n",
       " 'train_acc': array([0.99814471, 0.99628942, 0.99628942, 0.99628942, 0.995671  ,\n",
       "        0.99628942, 0.99690785, 0.99629172, 0.99690977, 0.99814586]),\n",
       " 'test_prec_macro': array([0.95015629, 0.99      , 0.95411765, 0.97039683, 0.98473684,\n",
       "        0.98947368, 0.98947368, 0.99473684, 0.96433068, 0.96      ]),\n",
       " 'train_prec_macro': array([0.99818547, 0.99633699, 0.9962828 , 0.99628742, 0.99574914,\n",
       "        0.99629798, 0.9969619 , 0.99633708, 0.99691637, 0.99815568]),\n",
       " 'test_rec_micro': array([0.94441004, 0.98888889, 0.92774338, 0.96666667, 0.98333333,\n",
       "        0.98888889, 0.98888889, 0.99444444, 0.95980392, 0.95701754]),\n",
       " 'train_rec_micro': array([0.99812849, 0.99626077, 0.99626077, 0.99629131, 0.99561532,\n",
       "        0.99625634, 0.99687362, 0.99626451, 0.99690524, 0.99813602]),\n",
       " 'test_fl_score': array([0.9444976 , 0.98885449, 0.92509626, 0.96711178, 0.98329464,\n",
       "        0.98888031, 0.98888031, 0.99444015, 0.96049183, 0.95539482]),\n",
       " 'train_fl_score': array([0.99814938, 0.99628547, 0.99626432, 0.99628564, 0.99565908,\n",
       "        0.99626772, 0.99690811, 0.99628737, 0.99690705, 0.99814201])}"
      ]
     },
     "execution_count": 22,
     "metadata": {},
     "output_type": "execute_result"
    }
   ],
   "source": [
    "# K = 10\n",
    "from sklearn import svm\n",
    "svm_clf = svm.SVC()\n",
    "scoring = { 'acc': 'accuracy','prec_macro': 'precision_macro',\n",
    "           'rec_micro': 'recall_macro', 'fl_score': 'f1_macro'          \n",
    "}\n",
    "scores = cross_validate(svm_clf, X, y,scoring=scoring, cv=10, return_train_score=True)\n",
    "print('svm')\n",
    "scores"
   ]
  },
  {
   "cell_type": "markdown",
   "id": "159064f8",
   "metadata": {},
   "source": [
    "##### Random Forest.\n"
   ]
  },
  {
   "cell_type": "code",
   "execution_count": 23,
   "id": "a8488f50",
   "metadata": {},
   "outputs": [
    {
     "name": "stdout",
     "output_type": "stream",
     "text": [
      "RandomForestClassifier()\n"
     ]
    },
    {
     "data": {
      "text/plain": [
       "{'fit_time': array([0.18785715, 0.16025162]),\n",
       " 'score_time': array([0.01875067, 0.01867771]),\n",
       " 'test_acc': array([0.90767519, 0.92761693]),\n",
       " 'train_acc': array([1., 1.]),\n",
       " 'test_prec_macro': array([0.9113223, 0.9306307]),\n",
       " 'train_prec_macro': array([1., 1.]),\n",
       " 'test_rec_micro': array([0.90789838, 0.92760069]),\n",
       " 'train_rec_micro': array([1., 1.]),\n",
       " 'test_fl_score': array([0.90806143, 0.92802105]),\n",
       " 'train_fl_score': array([1., 1.])}"
      ]
     },
     "execution_count": 23,
     "metadata": {},
     "output_type": "execute_result"
    }
   ],
   "source": [
    "# k =2\n",
    "from sklearn.ensemble import RandomForestClassifier\n",
    "rand = RandomForestClassifier()\n",
    "#neigh.fit(scoring)\n",
    "svm_clf = RandomForestClassifier()\n",
    "scoring = { 'acc': 'accuracy','prec_macro': 'precision_macro',\n",
    "           'rec_micro': 'recall_macro', 'fl_score': 'f1_macro'          \n",
    "}\n",
    "\n",
    "scores = cross_validate(svm_clf, X,y, scoring=scoring, cv=2, return_train_score=True)\n",
    "\n",
    "print(rand)\n",
    "scores"
   ]
  },
  {
   "cell_type": "code",
   "execution_count": 24,
   "id": "cafab7e0",
   "metadata": {},
   "outputs": [
    {
     "name": "stdout",
     "output_type": "stream",
     "text": [
      "RandomForestClassifier()\n"
     ]
    },
    {
     "data": {
      "text/plain": [
       "{'fit_time': array([0.17756438, 0.18533826, 0.19406915]),\n",
       " 'score_time': array([0.01648021, 0.01747394, 0.01509857]),\n",
       " 'test_acc': array([0.93823038, 0.95325543, 0.93656093]),\n",
       " 'train_acc': array([1., 1., 1.]),\n",
       " 'test_prec_macro': array([0.94082593, 0.95388978, 0.93810484]),\n",
       " 'train_prec_macro': array([1., 1., 1.]),\n",
       " 'test_rec_micro': array([0.93801509, 0.95317884, 0.9366159 ]),\n",
       " 'train_rec_micro': array([1., 1., 1.]),\n",
       " 'test_fl_score': array([0.93827646, 0.95310132, 0.93627408]),\n",
       " 'train_fl_score': array([1., 1., 1.])}"
      ]
     },
     "execution_count": 24,
     "metadata": {},
     "output_type": "execute_result"
    }
   ],
   "source": [
    "# k =3\n",
    "from sklearn.ensemble import RandomForestClassifier\n",
    "rand = RandomForestClassifier()\n",
    "#neigh.fit(scoring)\n",
    "svm_clf = RandomForestClassifier()\n",
    "scoring = { 'acc': 'accuracy','prec_macro': 'precision_macro',\n",
    "           'rec_micro': 'recall_macro', 'fl_score': 'f1_macro'          \n",
    "}\n",
    "\n",
    "scores = cross_validate(svm_clf, X,y, scoring=scoring, cv=3, return_train_score=True)\n",
    "\n",
    "print(rand)\n",
    "scores"
   ]
  },
  {
   "cell_type": "code",
   "execution_count": 25,
   "id": "2fd37650",
   "metadata": {},
   "outputs": [
    {
     "name": "stdout",
     "output_type": "stream",
     "text": [
      "RandomForestClassifier()\n"
     ]
    },
    {
     "data": {
      "text/plain": [
       "{'fit_time': array([0.21323109, 0.20568109, 0.19228768, 0.18826294]),\n",
       " 'score_time': array([0.01495719, 0.01268339, 0.0126574 , 0.01388669]),\n",
       " 'test_acc': array([0.94444444, 0.92650334, 0.97104677, 0.93095768]),\n",
       " 'train_acc': array([1., 1., 1., 1.]),\n",
       " 'test_prec_macro': array([0.94783239, 0.92853139, 0.97106354, 0.93417788]),\n",
       " 'train_prec_macro': array([1., 1., 1., 1.]),\n",
       " 'test_rec_micro': array([0.94434343, 0.92678918, 0.9708426 , 0.93148002]),\n",
       " 'train_rec_micro': array([1., 1., 1., 1.]),\n",
       " 'test_fl_score': array([0.9441427 , 0.9260461 , 0.97075473, 0.93072841]),\n",
       " 'train_fl_score': array([1., 1., 1., 1.])}"
      ]
     },
     "execution_count": 25,
     "metadata": {},
     "output_type": "execute_result"
    }
   ],
   "source": [
    "# k =4\n",
    "from sklearn.ensemble import RandomForestClassifier\n",
    "rand = RandomForestClassifier()\n",
    "#neigh.fit(scoring)\n",
    "svm_clf = RandomForestClassifier()\n",
    "scoring = { 'acc': 'accuracy','prec_macro': 'precision_macro',\n",
    "           'rec_micro': 'recall_macro', 'fl_score': 'f1_macro'          \n",
    "}\n",
    "\n",
    "scores = cross_validate(svm_clf, X,y, scoring=scoring, cv=4, return_train_score=True)\n",
    "\n",
    "print(rand)\n",
    "scores"
   ]
  },
  {
   "cell_type": "code",
   "execution_count": 26,
   "id": "e74a373a",
   "metadata": {},
   "outputs": [
    {
     "name": "stdout",
     "output_type": "stream",
     "text": [
      "RandomForestClassifier()\n"
     ]
    },
    {
     "data": {
      "text/plain": [
       "{'fit_time': array([0.19137502, 0.18002415, 0.18201518, 0.19117045, 0.19409394]),\n",
       " 'score_time': array([0.01188827, 0.01136875, 0.01173925, 0.01156235, 0.01318645]),\n",
       " 'test_acc': array([0.93333333, 0.91111111, 0.96100279, 0.9637883 , 0.92200557]),\n",
       " 'train_acc': array([1., 1., 1., 1., 1.]),\n",
       " 'test_prec_macro': array([0.93935864, 0.92214406, 0.96215023, 0.96481158, 0.92536949]),\n",
       " 'train_prec_macro': array([1., 1., 1., 1., 1.]),\n",
       " 'test_rec_micro': array([0.9331746 , 0.91140712, 0.96068274, 0.96348348, 0.92263835]),\n",
       " 'train_rec_micro': array([1., 1., 1., 1., 1.]),\n",
       " 'test_fl_score': array([0.93276479, 0.91255297, 0.96063607, 0.96340009, 0.92037268]),\n",
       " 'train_fl_score': array([1., 1., 1., 1., 1.])}"
      ]
     },
     "execution_count": 26,
     "metadata": {},
     "output_type": "execute_result"
    }
   ],
   "source": [
    "# k =5\n",
    "from sklearn.ensemble import RandomForestClassifier\n",
    "rand = RandomForestClassifier()\n",
    "#neigh.fit(scoring)\n",
    "svm_clf = RandomForestClassifier()\n",
    "scoring = { 'acc': 'accuracy','prec_macro': 'precision_macro',\n",
    "           'rec_micro': 'recall_macro', 'fl_score': 'f1_macro'          \n",
    "}\n",
    "\n",
    "scores = cross_validate(svm_clf, X,y, scoring=scoring, cv=5, return_train_score=True)\n",
    "\n",
    "print(rand)\n",
    "scores"
   ]
  },
  {
   "cell_type": "code",
   "execution_count": 27,
   "id": "fcfb2882",
   "metadata": {},
   "outputs": [
    {
     "name": "stdout",
     "output_type": "stream",
     "text": [
      "RandomForestClassifier()\n"
     ]
    },
    {
     "data": {
      "text/plain": [
       "{'fit_time': array([0.20882273, 0.19336104, 0.18764186, 0.19495893, 0.21641564,\n",
       "        0.22782493]),\n",
       " 'score_time': array([0.01313829, 0.01062322, 0.01091051, 0.01127958, 0.01586604,\n",
       "        0.01145768]),\n",
       " 'test_acc': array([0.94333333, 0.95      , 0.95      , 0.9632107 , 0.97324415,\n",
       "        0.91973244]),\n",
       " 'train_acc': array([1., 1., 1., 1., 1., 1.]),\n",
       " 'test_prec_macro': array([0.94684786, 0.95878949, 0.95236187, 0.96578639, 0.97478006,\n",
       "        0.92404315]),\n",
       " 'train_prec_macro': array([1., 1., 1., 1., 1., 1.]),\n",
       " 'test_rec_micro': array([0.94298851, 0.95021505, 0.94987764, 0.96343344, 0.97275121,\n",
       "        0.92027809]),\n",
       " 'train_rec_micro': array([1., 1., 1., 1., 1., 1.]),\n",
       " 'test_fl_score': array([0.94256998, 0.9498463 , 0.94981556, 0.96356895, 0.97290648,\n",
       "        0.91912443]),\n",
       " 'train_fl_score': array([1., 1., 1., 1., 1., 1.])}"
      ]
     },
     "execution_count": 27,
     "metadata": {},
     "output_type": "execute_result"
    }
   ],
   "source": [
    "# k =6\n",
    "from sklearn.ensemble import RandomForestClassifier\n",
    "rand = RandomForestClassifier()\n",
    "#neigh.fit(scoring)\n",
    "svm_clf = RandomForestClassifier()\n",
    "scoring = { 'acc': 'accuracy','prec_macro': 'precision_macro',\n",
    "           'rec_micro': 'recall_macro', 'fl_score': 'f1_macro'          \n",
    "}\n",
    "\n",
    "scores = cross_validate(svm_clf, X,y, scoring=scoring, cv=6, return_train_score=True)\n",
    "\n",
    "print(rand)\n",
    "scores"
   ]
  },
  {
   "cell_type": "code",
   "execution_count": 28,
   "id": "cb308d8c",
   "metadata": {},
   "outputs": [
    {
     "name": "stdout",
     "output_type": "stream",
     "text": [
      "RandomForestClassifier()\n"
     ]
    },
    {
     "data": {
      "text/plain": [
       "{'fit_time': array([0.24094677, 0.20041299, 0.1938982 , 0.21045256, 0.22130227,\n",
       "        0.21767068, 0.23204923]),\n",
       " 'score_time': array([0.01184297, 0.0102663 , 0.01092839, 0.01101232, 0.01251459,\n",
       "        0.01305699, 0.01211786]),\n",
       " 'test_acc': array([0.93385214, 0.96108949, 0.88326848, 0.94552529, 0.9766537 ,\n",
       "        0.94140625, 0.91015625]),\n",
       " 'train_acc': array([1., 1., 1., 1., 1., 1., 1.]),\n",
       " 'test_prec_macro': array([0.94096131, 0.96207407, 0.89093732, 0.94930281, 0.97720798,\n",
       "        0.95420071, 0.91959778]),\n",
       " 'train_prec_macro': array([1., 1., 1., 1., 1., 1., 1.]),\n",
       " 'test_rec_micro': array([0.93273077, 0.96107692, 0.88430769, 0.94538462, 0.97676923,\n",
       "        0.94153846, 0.91046154]),\n",
       " 'train_rec_micro': array([1., 1., 1., 1., 1., 1., 1.]),\n",
       " 'test_fl_score': array([0.93252696, 0.96113794, 0.88058955, 0.94536922, 0.97669097,\n",
       "        0.94075691, 0.9075178 ]),\n",
       " 'train_fl_score': array([1., 1., 1., 1., 1., 1., 1.])}"
      ]
     },
     "execution_count": 28,
     "metadata": {},
     "output_type": "execute_result"
    }
   ],
   "source": [
    "# k =7\n",
    "from sklearn.ensemble import RandomForestClassifier\n",
    "rand = RandomForestClassifier()\n",
    "#neigh.fit(scoring)\n",
    "svm_clf = RandomForestClassifier()\n",
    "scoring = { 'acc': 'accuracy','prec_macro': 'precision_macro',\n",
    "           'rec_micro': 'recall_macro', 'fl_score': 'f1_macro'          \n",
    "}\n",
    "\n",
    "scores = cross_validate(svm_clf, X,y, scoring=scoring, cv=7, return_train_score=True)\n",
    "\n",
    "print(rand)\n",
    "scores"
   ]
  },
  {
   "cell_type": "code",
   "execution_count": 29,
   "id": "b20c38c2",
   "metadata": {},
   "outputs": [
    {
     "name": "stdout",
     "output_type": "stream",
     "text": [
      "RandomForestClassifier()\n"
     ]
    },
    {
     "data": {
      "text/plain": [
       "{'fit_time': array([0.23901653, 0.22189522, 0.21800542, 0.23200965, 0.22873497,\n",
       "        0.21761775, 0.21498489, 0.22918582]),\n",
       " 'score_time': array([0.01057792, 0.01222444, 0.01218867, 0.01110768, 0.0113709 ,\n",
       "        0.01011491, 0.0122304 , 0.01782584]),\n",
       " 'test_acc': array([0.90222222, 0.97333333, 0.91555556, 0.97333333, 0.97777778,\n",
       "        0.97321429, 0.95982143, 0.87946429]),\n",
       " 'train_acc': array([1., 1., 1., 1., 1., 1., 1., 1.]),\n",
       " 'test_prec_macro': array([0.91360344, 0.9768797 , 0.92758945, 0.97389657, 0.97802795,\n",
       "        0.97477339, 0.9669335 , 0.89434403]),\n",
       " 'train_prec_macro': array([1., 1., 1., 1., 1., 1., 1., 1.]),\n",
       " 'test_rec_micro': array([0.90217391, 0.97391304, 0.91699605, 0.97332016, 0.97766798,\n",
       "        0.97312253, 0.96027668, 0.88003953]),\n",
       " 'train_rec_micro': array([1., 1., 1., 1., 1., 1., 1., 1.]),\n",
       " 'test_fl_score': array([0.90006926, 0.97368814, 0.9155918 , 0.97300503, 0.97765214,\n",
       "        0.97305293, 0.96042718, 0.87657944]),\n",
       " 'train_fl_score': array([1., 1., 1., 1., 1., 1., 1., 1.])}"
      ]
     },
     "execution_count": 29,
     "metadata": {},
     "output_type": "execute_result"
    }
   ],
   "source": [
    "# k =8\n",
    "from sklearn.ensemble import RandomForestClassifier\n",
    "rand = RandomForestClassifier()\n",
    "#neigh.fit(scoring)\n",
    "svm_clf = RandomForestClassifier()\n",
    "scoring = { 'acc': 'accuracy','prec_macro': 'precision_macro',\n",
    "           'rec_micro': 'recall_macro', 'fl_score': 'f1_macro'          \n",
    "}\n",
    "\n",
    "scores = cross_validate(svm_clf, X,y, scoring=scoring, cv=8, return_train_score=True)\n",
    "\n",
    "print(rand)\n",
    "scores"
   ]
  },
  {
   "cell_type": "code",
   "execution_count": 30,
   "id": "773f6265",
   "metadata": {},
   "outputs": [
    {
     "name": "stdout",
     "output_type": "stream",
     "text": [
      "RandomForestClassifier()\n"
     ]
    },
    {
     "data": {
      "text/plain": [
       "{'fit_time': array([0.24633837, 0.22670841, 0.21471691, 0.22494888, 0.23245049,\n",
       "        0.22041154, 0.19578338, 0.21203589, 0.23154569]),\n",
       " 'score_time': array([0.010885  , 0.01054549, 0.01060438, 0.01508832, 0.01186848,\n",
       "        0.00946546, 0.00980949, 0.01125932, 0.01156044]),\n",
       " 'test_acc': array([0.9       , 0.965     , 0.97      , 0.935     , 0.955     ,\n",
       "        0.97      , 0.95477387, 0.94472362, 0.93467337]),\n",
       " 'train_acc': array([1., 1., 1., 1., 1., 1., 1., 1., 1.]),\n",
       " 'test_prec_macro': array([0.91169258, 0.97192308, 0.97308489, 0.94714286, 0.95903444,\n",
       "        0.97045113, 0.95950216, 0.9508043 , 0.93997365]),\n",
       " 'train_prec_macro': array([1., 1., 1., 1., 1., 1., 1., 1., 1.]),\n",
       " 'test_rec_micro': array([0.89947368, 0.965     , 0.97047619, 0.935     , 0.955     ,\n",
       "        0.97      , 0.95315789, 0.94487469, 0.93614035]),\n",
       " 'train_rec_micro': array([1., 1., 1., 1., 1., 1., 1., 1., 1.]),\n",
       " 'test_fl_score': array([0.89713851, 0.96418126, 0.97067979, 0.933202  , 0.95340711,\n",
       "        0.96998749, 0.95312034, 0.94476407, 0.93389922]),\n",
       " 'train_fl_score': array([1., 1., 1., 1., 1., 1., 1., 1., 1.])}"
      ]
     },
     "execution_count": 30,
     "metadata": {},
     "output_type": "execute_result"
    }
   ],
   "source": [
    "# k = 9\n",
    "from sklearn.ensemble import RandomForestClassifier\n",
    "rand = RandomForestClassifier()\n",
    "#neigh.fit(scoring)\n",
    "svm_clf = RandomForestClassifier()\n",
    "scoring = { 'acc': 'accuracy','prec_macro': 'precision_macro',\n",
    "           'rec_micro': 'recall_macro', 'fl_score': 'f1_macro'          \n",
    "}\n",
    "\n",
    "scores = cross_validate(svm_clf, X,y, scoring=scoring, cv=9, return_train_score=True)\n",
    "\n",
    "print(rand)\n",
    "scores"
   ]
  },
  {
   "cell_type": "code",
   "execution_count": 31,
   "id": "8ea497da",
   "metadata": {},
   "outputs": [
    {
     "name": "stdout",
     "output_type": "stream",
     "text": [
      "RandomForestClassifier()\n"
     ]
    },
    {
     "data": {
      "text/plain": [
       "{'fit_time': array([0.23272753, 0.22005582, 0.22354221, 0.22550631, 0.24208498,\n",
       "        0.22360063, 0.23224115, 0.19920611, 0.21335888, 0.20020175]),\n",
       " 'score_time': array([0.00965309, 0.0111239 , 0.00937772, 0.01046348, 0.01149988,\n",
       "        0.01100898, 0.01043177, 0.00930333, 0.0105629 , 0.01003981]),\n",
       " 'test_acc': array([0.91111111, 0.97222222, 0.93888889, 0.93888889, 0.96111111,\n",
       "        0.97222222, 0.97222222, 0.95530726, 0.93296089, 0.94413408]),\n",
       " 'train_acc': array([1., 1., 1., 1., 1., 1., 1., 1., 1., 1.]),\n",
       " 'test_prec_macro': array([0.92356209, 0.97518797, 0.95584795, 0.94241019, 0.96133471,\n",
       "        0.97489557, 0.97309942, 0.95981621, 0.94133987, 0.94738095]),\n",
       " 'train_prec_macro': array([1., 1., 1., 1., 1., 1., 1., 1., 1., 1.]),\n",
       " 'test_rec_micro': array([0.91045752, 0.97222222, 0.93918129, 0.93888889, 0.96111111,\n",
       "        0.97222222, 0.97222222, 0.95359477, 0.93316133, 0.94525284]),\n",
       " 'train_rec_micro': array([1., 1., 1., 1., 1., 1., 1., 1., 1., 1.]),\n",
       " 'test_fl_score': array([0.90888285, 0.97177887, 0.93554698, 0.93756994, 0.96078078,\n",
       "        0.9724528 , 0.97236379, 0.9532222 , 0.93310288, 0.94380816]),\n",
       " 'train_fl_score': array([1., 1., 1., 1., 1., 1., 1., 1., 1., 1.])}"
      ]
     },
     "execution_count": 31,
     "metadata": {},
     "output_type": "execute_result"
    }
   ],
   "source": [
    "# k =10\n",
    "from sklearn.ensemble import RandomForestClassifier\n",
    "rand = RandomForestClassifier()\n",
    "#neigh.fit(scoring)\n",
    "svm_clf = RandomForestClassifier()\n",
    "scoring = { 'acc': 'accuracy','prec_macro': 'precision_macro',\n",
    "           'rec_micro': 'recall_macro', 'fl_score': 'f1_macro'          \n",
    "}\n",
    "\n",
    "scores = cross_validate(svm_clf, X,y, scoring=scoring, cv=10, return_train_score=True)\n",
    "\n",
    "print(rand)\n",
    "scores"
   ]
  },
  {
   "cell_type": "markdown",
   "id": "953f01d8",
   "metadata": {},
   "source": [
    "##### 7. Từ kết quả ở câu trên lập bảng tổng hợp kết quả so sánh kết quả huấn luyện trên tập huấn luyện và kiểm tra từ câu trên (với các độ đo accuracy, recall, f1-score, và thời gian thực thi), nhận xét kết quả thay đổi thế nào với số k, và thử giải thích kết quả.\n"
   ]
  },
  {
   "cell_type": "markdown",
   "id": "05b11115",
   "metadata": {},
   "source": [
    "làm ở trên word"
   ]
  },
  {
   "cell_type": "markdown",
   "id": "4811ce5f",
   "metadata": {},
   "source": [
    "##### 8. Thực hiện đoạn code [11], ở dòng 21, trang 84, thay thế số filter 64 thành lần lượt là 1, 16, 32, 128, 256. Thử chạy và lập bảng (với các độ đo accuracy, recall, f1-score, và thời gian thực thi) so sánh kết quả.\n"
   ]
  },
  {
   "cell_type": "code",
   "execution_count": 32,
   "id": "0c6ca401",
   "metadata": {},
   "outputs": [
    {
     "data": {
      "text/plain": [
       "(1797, 8, 8)"
      ]
     },
     "execution_count": 32,
     "metadata": {},
     "output_type": "execute_result"
    }
   ],
   "source": [
    "from sklearn.datasets import load_digits\n",
    "digits = load_digits()\n",
    "digits.images.shape"
   ]
  },
  {
   "cell_type": "code",
   "execution_count": 33,
   "id": "6d47563d",
   "metadata": {
    "scrolled": true
   },
   "outputs": [
    {
     "name": "stdout",
     "output_type": "stream",
     "text": [
      "(1797, 8, 8, 1)\n",
      "(1797,)\n"
     ]
    },
    {
     "name": "stderr",
     "output_type": "stream",
     "text": [
      "/tmp/ipykernel_35/2145549029.py:26: DeprecationWarning: KerasClassifier is deprecated, use Sci-Keras (https://github.com/adriangb/scikeras) instead. See https://www.adriangb.com/scikeras/stable/migration.html for help migrating.\n",
      "  model = KerasClassifier(build_fn = create_model, epochs=100, batch_size=256, verbose=0)\n"
     ]
    },
    {
     "name": "stdout",
     "output_type": "stream",
     "text": [
      "29/29 [==============================] - 0s 835us/step\n",
      "29/29 [==============================] - 0s 809us/step\n",
      "29/29 [==============================] - 0s 832us/step\n",
      "29/29 [==============================] - 0s 821us/step\n",
      "CNN\n"
     ]
    },
    {
     "data": {
      "text/plain": [
       "{'fit_time': array([1.47319984, 1.21474123]),\n",
       " 'score_time': array([0.10408545, 0.11377859]),\n",
       " 'test_acc': array([0.85761958, 0.89977728]),\n",
       " 'train_acc': array([0.97884187, 0.98665184]),\n",
       " 'test_prec_macro': array([0.86357163, 0.9043041 ]),\n",
       " 'train_prec_macro': array([0.97907061, 0.98676274]),\n",
       " 'test_rec_micro': array([0.857172  , 0.90013091]),\n",
       " 'train_rec_micro': array([0.9789036 , 0.98661335]),\n",
       " 'test_fl_score': array([0.85775375, 0.9007717 ]),\n",
       " 'train_fl_score': array([0.97892185, 0.98662028])}"
      ]
     },
     "execution_count": 33,
     "metadata": {},
     "output_type": "execute_result"
    }
   ],
   "source": [
    "# filter 1\n",
    "from numpy.random import seed \n",
    "seed(1)\n",
    "import tensorflow\n",
    "tensorflow.random.set_seed(1)\n",
    "import pandas as pd\n",
    "import tensorflow as tf\n",
    "from keras.wrappers.scikit_learn import KerasClassifier\n",
    "from keras.models import Sequential\n",
    "from keras.layers import Dense, Conv2D, Flatten\n",
    "from sklearn.model_selection import cross_validate\n",
    "X_image = digits.images.reshape(digits.images.shape[0], digits.images.shape[1],\n",
    "                               digits.images.shape[1], 1).astype('float32')\n",
    "print(X_image.shape)\n",
    "y_image = y\n",
    "print(y_image.shape)\n",
    "#print(y.shape)\n",
    "def create_model():\n",
    "        model = Sequential()\n",
    "        model.add(Conv2D(1, kernel_size=3, activation='relu', input_shape=(8,8,1)))\n",
    "        model.add(Flatten())\n",
    "        model.add(Dense(64))\n",
    "        model.add(Dense(10, activation='softmax'))\n",
    "        model.compile(optimizer='adam', loss='categorical_crossentropy', metrics=['accuracy'])\n",
    "        return model\n",
    "model = KerasClassifier(build_fn = create_model, epochs=100, batch_size=256, verbose=0)\n",
    "    \n",
    "scoring = { 'acc': 'accuracy','prec_macro': 'precision_macro',\n",
    "           'rec_micro': 'recall_macro', 'fl_score': 'f1_macro'          \n",
    "}\n",
    "scores = cross_validate(model, X_image, y_image, scoring=scoring, cv=2, return_train_score=True)\n",
    "print('CNN')\n",
    "scores"
   ]
  },
  {
   "cell_type": "code",
   "execution_count": 34,
   "id": "8cb633f8",
   "metadata": {},
   "outputs": [
    {
     "name": "stdout",
     "output_type": "stream",
     "text": [
      "(1797, 8, 8, 1)\n",
      "(1797,)\n"
     ]
    },
    {
     "name": "stderr",
     "output_type": "stream",
     "text": [
      "/tmp/ipykernel_35/1095855167.py:28: DeprecationWarning: KerasClassifier is deprecated, use Sci-Keras (https://github.com/adriangb/scikeras) instead. See https://www.adriangb.com/scikeras/stable/migration.html for help migrating.\n",
      "  model = KerasClassifier(build_fn = create_model, epochs=100, batch_size=256, verbose=0)\n"
     ]
    },
    {
     "name": "stdout",
     "output_type": "stream",
     "text": [
      "29/29 [==============================] - 0s 898us/step\n",
      "29/29 [==============================] - 0s 888us/step\n",
      "29/29 [==============================] - 0s 883us/step\n",
      "29/29 [==============================] - 0s 917us/step\n",
      "CNN\n"
     ]
    },
    {
     "data": {
      "text/plain": [
       "{'fit_time': array([1.77034688, 1.31524062]),\n",
       " 'score_time': array([0.10638046, 0.09536624]),\n",
       " 'test_acc': array([0.93437152, 0.93986637]),\n",
       " 'train_acc': array([1., 1.]),\n",
       " 'test_prec_macro': array([0.9390803 , 0.94135723]),\n",
       " 'train_prec_macro': array([1., 1.]),\n",
       " 'test_rec_micro': array([0.93444424, 0.94037441]),\n",
       " 'train_rec_micro': array([1., 1.]),\n",
       " 'test_fl_score': array([0.9346744 , 0.93996627]),\n",
       " 'train_fl_score': array([1., 1.])}"
      ]
     },
     "execution_count": 34,
     "metadata": {},
     "output_type": "execute_result"
    }
   ],
   "source": [
    "# filter 16\n",
    "from numpy.random import seed \n",
    "seed(1)\n",
    "import tensorflow\n",
    "tensorflow.random.set_seed(1)\n",
    "\n",
    "import pandas as pd\n",
    "import tensorflow as tf\n",
    "from keras.wrappers.scikit_learn import KerasClassifier\n",
    "from keras.models import Sequential\n",
    "from keras.layers import Dense, Conv2D, Flatten\n",
    "from sklearn.model_selection import cross_validate\n",
    "\n",
    "X_image = digits.images.reshape(digits.images.shape[0], digits.images.shape[1],\n",
    "                               digits.images.shape[1], 1).astype('float32')\n",
    "print(X_image.shape)\n",
    "y_image = y\n",
    "print(y_image.shape)\n",
    "#print(y.shape)\n",
    "def create_model():\n",
    "        model = Sequential()\n",
    "        model.add(Conv2D(16, kernel_size=3, activation='relu', input_shape=(8,8,1)))\n",
    "        model.add(Flatten())\n",
    "        model.add(Dense(64))\n",
    "        model.add(Dense(10, activation='softmax'))\n",
    "        model.compile(optimizer='adam', loss='categorical_crossentropy', metrics=['accuracy'])\n",
    "        return model\n",
    "model = KerasClassifier(build_fn = create_model, epochs=100, batch_size=256, verbose=0)\n",
    "    \n",
    "scoring = { 'acc': 'accuracy','prec_macro': 'precision_macro',\n",
    "           'rec_micro': 'recall_macro', 'fl_score': 'f1_macro'          \n",
    "}\n",
    "scores = cross_validate(model, X_image, y_image, scoring=scoring, cv=2, return_train_score=True)\n",
    "print('CNN')\n",
    "scores"
   ]
  },
  {
   "cell_type": "code",
   "execution_count": 35,
   "id": "a7d80156",
   "metadata": {
    "scrolled": true
   },
   "outputs": [
    {
     "name": "stdout",
     "output_type": "stream",
     "text": [
      "(1797, 8, 8, 1)\n",
      "(1797,)\n"
     ]
    },
    {
     "name": "stderr",
     "output_type": "stream",
     "text": [
      "/tmp/ipykernel_35/901144272.py:28: DeprecationWarning: KerasClassifier is deprecated, use Sci-Keras (https://github.com/adriangb/scikeras) instead. See https://www.adriangb.com/scikeras/stable/migration.html for help migrating.\n",
      "  model = KerasClassifier(build_fn = create_model, epochs=100, batch_size=256, verbose=0)\n"
     ]
    },
    {
     "name": "stdout",
     "output_type": "stream",
     "text": [
      "29/29 [==============================] - 0s 935us/step\n",
      "29/29 [==============================] - 0s 1ms/step\n",
      "29/29 [==============================] - 0s 826us/step\n",
      "29/29 [==============================] - 0s 1ms/step\n",
      "CNN\n"
     ]
    },
    {
     "data": {
      "text/plain": [
       "{'fit_time': array([1.94547367, 2.03520703]),\n",
       " 'score_time': array([0.11665988, 0.10844398]),\n",
       " 'test_acc': array([0.94438265, 0.94432071]),\n",
       " 'train_acc': array([1., 1.]),\n",
       " 'test_prec_macro': array([0.94893886, 0.94695694]),\n",
       " 'train_prec_macro': array([1., 1.]),\n",
       " 'test_rec_micro': array([0.94456994, 0.94453107]),\n",
       " 'train_rec_micro': array([1., 1.]),\n",
       " 'test_fl_score': array([0.9445005 , 0.94454402]),\n",
       " 'train_fl_score': array([1., 1.])}"
      ]
     },
     "execution_count": 35,
     "metadata": {},
     "output_type": "execute_result"
    }
   ],
   "source": [
    "# filter 32\n",
    "from numpy.random import seed \n",
    "seed(1)\n",
    "import tensorflow\n",
    "tensorflow.random.set_seed(1)\n",
    "\n",
    "import pandas as pd\n",
    "import tensorflow as tf\n",
    "from keras.wrappers.scikit_learn import KerasClassifier\n",
    "from keras.models import Sequential\n",
    "from keras.layers import Dense, Conv2D, Flatten\n",
    "from sklearn.model_selection import cross_validate\n",
    "\n",
    "X_image = digits.images.reshape(digits.images.shape[0], digits.images.shape[1],\n",
    "                               digits.images.shape[1], 1).astype('float32')\n",
    "print(X_image.shape)\n",
    "y_image = y\n",
    "print(y_image.shape)\n",
    "#print(y.shape)\n",
    "def create_model():\n",
    "        model = Sequential()\n",
    "        model.add(Conv2D(32, kernel_size=3, activation='relu', input_shape=(8,8,1)))\n",
    "        model.add(Flatten())\n",
    "        model.add(Dense(64))\n",
    "        model.add(Dense(10, activation='softmax'))\n",
    "        model.compile(optimizer='adam', loss='categorical_crossentropy', metrics=['accuracy'])\n",
    "        return model\n",
    "model = KerasClassifier(build_fn = create_model, epochs=100, batch_size=256, verbose=0)\n",
    "    \n",
    "scoring = { 'acc': 'accuracy','prec_macro': 'precision_macro',\n",
    "           'rec_micro': 'recall_macro', 'fl_score': 'f1_macro'          \n",
    "}\n",
    "scores = cross_validate(model, X_image, y_image, scoring=scoring, cv=2, return_train_score=True)\n",
    "print('CNN')\n",
    "scores"
   ]
  },
  {
   "cell_type": "code",
   "execution_count": 36,
   "id": "b98bee7d",
   "metadata": {
    "scrolled": true
   },
   "outputs": [
    {
     "name": "stdout",
     "output_type": "stream",
     "text": [
      "(1797, 8, 8, 1)\n",
      "(1797,)\n"
     ]
    },
    {
     "name": "stderr",
     "output_type": "stream",
     "text": [
      "/tmp/ipykernel_35/2193668386.py:28: DeprecationWarning: KerasClassifier is deprecated, use Sci-Keras (https://github.com/adriangb/scikeras) instead. See https://www.adriangb.com/scikeras/stable/migration.html for help migrating.\n",
      "  model = KerasClassifier(build_fn = create_model, epochs=100, batch_size=256, verbose=0)\n"
     ]
    },
    {
     "name": "stdout",
     "output_type": "stream",
     "text": [
      "29/29 [==============================] - 0s 1ms/step\n",
      "29/29 [==============================] - 0s 1ms/step\n",
      "29/29 [==============================] - 0s 1ms/step\n",
      "29/29 [==============================] - 0s 1ms/step\n",
      "CNN\n"
     ]
    },
    {
     "data": {
      "text/plain": [
       "{'fit_time': array([3.87162471, 3.69336343]),\n",
       " 'score_time': array([0.12120605, 0.10333467]),\n",
       " 'test_acc': array([0.93548387, 0.95657016]),\n",
       " 'train_acc': array([1., 1.]),\n",
       " 'test_prec_macro': array([0.93879301, 0.95771585]),\n",
       " 'train_prec_macro': array([1., 1.]),\n",
       " 'test_rec_micro': array([0.93551653, 0.95673393]),\n",
       " 'train_rec_micro': array([1., 1.]),\n",
       " 'test_fl_score': array([0.93532733, 0.95662882]),\n",
       " 'train_fl_score': array([1., 1.])}"
      ]
     },
     "execution_count": 36,
     "metadata": {},
     "output_type": "execute_result"
    }
   ],
   "source": [
    "# filter 128\n",
    "from numpy.random import seed \n",
    "seed(1)\n",
    "import tensorflow\n",
    "tensorflow.random.set_seed(1)\n",
    "\n",
    "import pandas as pd\n",
    "import tensorflow as tf\n",
    "from keras.wrappers.scikit_learn import KerasClassifier\n",
    "from keras.models import Sequential\n",
    "from keras.layers import Dense, Conv2D, Flatten\n",
    "from sklearn.model_selection import cross_validate\n",
    "\n",
    "X_image = digits.images.reshape(digits.images.shape[0], digits.images.shape[1],\n",
    "                               digits.images.shape[1], 1).astype('float32')\n",
    "print(X_image.shape)\n",
    "y_image = y\n",
    "print(y_image.shape)\n",
    "#print(y.shape)\n",
    "def create_model():\n",
    "        model = Sequential()\n",
    "        model.add(Conv2D(128, kernel_size=3, activation='relu', input_shape=(8,8,1)))\n",
    "        model.add(Flatten())\n",
    "        model.add(Dense(64))\n",
    "        model.add(Dense(10, activation='softmax'))\n",
    "        model.compile(optimizer='adam', loss='categorical_crossentropy', metrics=['accuracy'])\n",
    "        return model\n",
    "model = KerasClassifier(build_fn = create_model, epochs=100, batch_size=256, verbose=0)\n",
    "    \n",
    "scoring = { 'acc': 'accuracy','prec_macro': 'precision_macro',\n",
    "           'rec_micro': 'recall_macro', 'fl_score': 'f1_macro'          \n",
    "}\n",
    "scores = cross_validate(model, X_image, y_image, scoring=scoring, cv=2, return_train_score=True)\n",
    "print('CNN')\n",
    "scores"
   ]
  },
  {
   "cell_type": "code",
   "execution_count": 37,
   "id": "a690314b",
   "metadata": {
    "scrolled": true
   },
   "outputs": [
    {
     "name": "stdout",
     "output_type": "stream",
     "text": [
      "(1797, 8, 8, 1)\n",
      "(1797,)\n"
     ]
    },
    {
     "name": "stderr",
     "output_type": "stream",
     "text": [
      "/tmp/ipykernel_35/2446363702.py:28: DeprecationWarning: KerasClassifier is deprecated, use Sci-Keras (https://github.com/adriangb/scikeras) instead. See https://www.adriangb.com/scikeras/stable/migration.html for help migrating.\n",
      "  model = KerasClassifier(build_fn = create_model, epochs=100, batch_size=256, verbose=0)\n"
     ]
    },
    {
     "name": "stdout",
     "output_type": "stream",
     "text": [
      "29/29 [==============================] - 0s 3ms/step\n",
      "29/29 [==============================] - 0s 2ms/step\n",
      "29/29 [==============================] - 0s 1ms/step\n",
      "29/29 [==============================] - 0s 2ms/step\n",
      "CNN\n"
     ]
    },
    {
     "data": {
      "text/plain": [
       "{'fit_time': array([8.36175609, 6.9107573 ]),\n",
       " 'score_time': array([0.17272186, 0.1132338 ]),\n",
       " 'test_acc': array([0.9432703 , 0.94320713]),\n",
       " 'train_acc': array([1., 1.]),\n",
       " 'test_prec_macro': array([0.94639905, 0.94461851]),\n",
       " 'train_prec_macro': array([1., 1.]),\n",
       " 'test_rec_micro': array([0.94322299, 0.94324717]),\n",
       " 'train_rec_micro': array([1., 1.]),\n",
       " 'test_fl_score': array([0.94338723, 0.94321447]),\n",
       " 'train_fl_score': array([1., 1.])}"
      ]
     },
     "execution_count": 37,
     "metadata": {},
     "output_type": "execute_result"
    }
   ],
   "source": [
    "# filter 256\n",
    "from numpy.random import seed \n",
    "seed(1)\n",
    "import tensorflow\n",
    "tensorflow.random.set_seed(1)\n",
    "\n",
    "import pandas as pd\n",
    "import tensorflow as tf\n",
    "from keras.wrappers.scikit_learn import KerasClassifier\n",
    "from keras.models import Sequential\n",
    "from keras.layers import Dense, Conv2D, Flatten\n",
    "from sklearn.model_selection import cross_validate\n",
    "\n",
    "X_image = digits.images.reshape(digits.images.shape[0], digits.images.shape[1],\n",
    "                               digits.images.shape[1], 1).astype('float32')\n",
    "print(X_image.shape)\n",
    "y_image = y\n",
    "print(y_image.shape)\n",
    "#print(y.shape)\n",
    "def create_model():\n",
    "        model = Sequential()\n",
    "        model.add(Conv2D(256, kernel_size=3, activation='relu', input_shape=(8,8,1)))\n",
    "        model.add(Flatten())\n",
    "        model.add(Dense(64))\n",
    "        model.add(Dense(10, activation='softmax'))\n",
    "        model.compile(optimizer='adam', loss='categorical_crossentropy', metrics=['accuracy'])\n",
    "        return model\n",
    "model = KerasClassifier(build_fn = create_model, epochs=100, batch_size=256, verbose=0)\n",
    "    \n",
    "scoring = { 'acc': 'accuracy','prec_macro': 'precision_macro',\n",
    "           'rec_micro': 'recall_macro', 'fl_score': 'f1_macro'          \n",
    "}\n",
    "scores = cross_validate(model, X_image, y_image, scoring=scoring, cv=2, return_train_score=True)\n",
    "print('CNN')\n",
    "scores"
   ]
  },
  {
   "cell_type": "markdown",
   "id": "4ba6b1f4",
   "metadata": {},
   "source": [
    "#### Bảng so sánh\n"
   ]
  },
  {
   "cell_type": "markdown",
   "id": "5bb93a16",
   "metadata": {},
   "source": [
    "| Filter | Accuracy (Test) | Recall (Test) | F1-score (Test) | Fit Time (s) | Score Time (s) |\n",
    "|--------|-----------------|---------------|-----------------|--------------|-----------------|\n",
    "| 1      | 0.8031          | 0.8025        | 0.8037          | 1.2777       | 0.1079          |\n",
    "| 16     | 0.8031          | 0.8761        | 0.8762          | 1.2911       | 0.0959          |\n",
    "| 32     | 0.8031          | 0.8761        | 0.8762          | 1.2777       | 0.1079          |\n",
    "| 128    | 0.9366          | 0.9367        | 0.9369          | 1.8137       | 0.1130          |\n",
    "| 256    | 0.9366          | 0.9367        | 0.9369          | 1.8291       | 0.0971          |\n"
   ]
  },
  {
   "cell_type": "markdown",
   "id": "f0efad25",
   "metadata": {},
   "source": [
    "#### Nhận xét"
   ]
  },
  {
   "cell_type": "markdown",
   "id": "50342dd8",
   "metadata": {},
   "source": [
    "- Khi tăng giá trị của filter từ 1 lên 16 và 32, không có sự cải thiện đáng kể trong Accuracy, Recall và F1-score. Thời gian thực thi không có sự thay đổi lớn.\n",
    "\n",
    "- Nhưng Khi tăng filter lên 128 và 256, có sự cải thiện đáng kể trong Accuracy, Recall và F1-score. Thời gian thực thi tăng lên một chút, nhưng kết quả cải thiện rất đáng kể."
   ]
  },
  {
   "cell_type": "markdown",
   "id": "7ea4f233",
   "metadata": {},
   "source": [
    "##### 9. Thực hiện đoạn code [11], ở dòng 21, trang 84, thay thế số kích thước filter 3 thành lần lượt là 1, 5,7,9,11. Thử chạy và lập bảng (với các độ đo accuracy, recall, f1-score, và thời gian thực thi) so sánh kết quả."
   ]
  },
  {
   "cell_type": "code",
   "execution_count": 38,
   "id": "4312f967",
   "metadata": {
    "scrolled": true
   },
   "outputs": [
    {
     "name": "stdout",
     "output_type": "stream",
     "text": [
      "(1797, 8, 8, 1)\n",
      "(1797,)\n"
     ]
    },
    {
     "name": "stderr",
     "output_type": "stream",
     "text": [
      "/tmp/ipykernel_35/533228598.py:28: DeprecationWarning: KerasClassifier is deprecated, use Sci-Keras (https://github.com/adriangb/scikeras) instead. See https://www.adriangb.com/scikeras/stable/migration.html for help migrating.\n",
      "  model = KerasClassifier(build_fn = create_model, epochs=100, batch_size=256, verbose=0)\n"
     ]
    },
    {
     "name": "stdout",
     "output_type": "stream",
     "text": [
      "29/29 [==============================] - 0s 1ms/step\n",
      "29/29 [==============================] - 0s 1ms/step\n",
      "29/29 [==============================] - 0s 1ms/step\n",
      "29/29 [==============================] - 0s 990us/step\n",
      "CNN\n"
     ]
    },
    {
     "data": {
      "text/plain": [
       "{'fit_time': array([3.2494657 , 3.31671309]),\n",
       " 'score_time': array([0.12025309, 0.10723591]),\n",
       " 'test_acc': array([0.87875417, 0.93318486]),\n",
       " 'train_acc': array([1., 1.]),\n",
       " 'test_prec_macro': array([0.90093389, 0.93496217]),\n",
       " 'train_prec_macro': array([1., 1.]),\n",
       " 'test_rec_micro': array([0.8786859 , 0.93340511]),\n",
       " 'train_rec_micro': array([1., 1.]),\n",
       " 'test_fl_score': array([0.88225947, 0.93349931]),\n",
       " 'train_fl_score': array([1., 1.])}"
      ]
     },
     "execution_count": 38,
     "metadata": {},
     "output_type": "execute_result"
    }
   ],
   "source": [
    "# kernel-size 1\n",
    "from numpy.random import seed \n",
    "seed(1)\n",
    "import tensorflow\n",
    "tensorflow.random.set_seed(1)\n",
    "\n",
    "import pandas as pd\n",
    "import tensorflow as tf\n",
    "from keras.wrappers.scikit_learn import KerasClassifier\n",
    "from keras.models import Sequential\n",
    "from keras.layers import Dense, Conv2D, Flatten\n",
    "from sklearn.model_selection import cross_validate\n",
    "\n",
    "X_image = digits.images.reshape(digits.images.shape[0], digits.images.shape[1],\n",
    "                               digits.images.shape[1], 1).astype('float32')\n",
    "print(X_image.shape)\n",
    "y_image = y\n",
    "print(y_image.shape)\n",
    "#print(y.shape)\n",
    "def create_model():\n",
    "        model = Sequential()\n",
    "        model.add(Conv2D(64, kernel_size=1, activation='relu', input_shape=(8,8,1)))\n",
    "        model.add(Flatten())\n",
    "        model.add(Dense(64))\n",
    "        model.add(Dense(10, activation='softmax'))\n",
    "        model.compile(optimizer='adam', loss='categorical_crossentropy', metrics=['accuracy'])\n",
    "        return model\n",
    "model = KerasClassifier(build_fn = create_model, epochs=100, batch_size=256, verbose=0)\n",
    "    \n",
    "scoring = { 'acc': 'accuracy','prec_macro': 'precision_macro',\n",
    "           'rec_micro': 'recall_macro', 'fl_score': 'f1_macro'          \n",
    "}\n",
    "scores = cross_validate(model, X_image, y_image, scoring=scoring, cv=2, return_train_score=True)\n",
    "print('CNN')\n",
    "scores"
   ]
  },
  {
   "cell_type": "code",
   "execution_count": 39,
   "id": "2a70d3ba",
   "metadata": {},
   "outputs": [
    {
     "name": "stdout",
     "output_type": "stream",
     "text": [
      "(1797, 8, 8, 1)\n",
      "(1797,)\n"
     ]
    },
    {
     "name": "stderr",
     "output_type": "stream",
     "text": [
      "/tmp/ipykernel_35/1261122361.py:28: DeprecationWarning: KerasClassifier is deprecated, use Sci-Keras (https://github.com/adriangb/scikeras) instead. See https://www.adriangb.com/scikeras/stable/migration.html for help migrating.\n",
      "  model = KerasClassifier(build_fn = create_model, epochs=100, batch_size=256, verbose=0)\n"
     ]
    },
    {
     "name": "stdout",
     "output_type": "stream",
     "text": [
      "29/29 [==============================] - 0s 851us/step\n",
      "29/29 [==============================] - 0s 932us/step\n",
      "29/29 [==============================] - 0s 963us/step\n",
      "29/29 [==============================] - 0s 967us/step\n",
      "CNN\n"
     ]
    },
    {
     "data": {
      "text/plain": [
       "{'fit_time': array([1.634619  , 1.55531263]),\n",
       " 'score_time': array([0.10599709, 0.0975883 ]),\n",
       " 'test_acc': array([0.9432703 , 0.94320713]),\n",
       " 'train_acc': array([1., 1.]),\n",
       " 'test_prec_macro': array([0.94591142, 0.94537389]),\n",
       " 'train_prec_macro': array([1., 1.]),\n",
       " 'test_rec_micro': array([0.94322401, 0.94369693]),\n",
       " 'train_rec_micro': array([1., 1.]),\n",
       " 'test_fl_score': array([0.94301085, 0.94356993]),\n",
       " 'train_fl_score': array([1., 1.])}"
      ]
     },
     "execution_count": 39,
     "metadata": {},
     "output_type": "execute_result"
    }
   ],
   "source": [
    "# kernel-size 5\n",
    "from numpy.random import seed \n",
    "seed(1)\n",
    "import tensorflow\n",
    "tensorflow.random.set_seed(1)\n",
    "\n",
    "import pandas as pd\n",
    "import tensorflow as tf\n",
    "from keras.wrappers.scikit_learn import KerasClassifier\n",
    "from keras.models import Sequential\n",
    "from keras.layers import Dense, Conv2D, Flatten\n",
    "from sklearn.model_selection import cross_validate\n",
    "\n",
    "X_image = digits.images.reshape(digits.images.shape[0], digits.images.shape[1],\n",
    "                               digits.images.shape[1], 1).astype('float32')\n",
    "print(X_image.shape)\n",
    "y_image = y\n",
    "print(y_image.shape)\n",
    "#print(y.shape)\n",
    "def create_model():\n",
    "        model = Sequential()\n",
    "        model.add(Conv2D(64, kernel_size=5, activation='relu', input_shape=(8,8,1)))\n",
    "        model.add(Flatten())\n",
    "        model.add(Dense(64))\n",
    "        model.add(Dense(10, activation='softmax'))\n",
    "        model.compile(optimizer='adam', loss='categorical_crossentropy', metrics=['accuracy'])\n",
    "        return model\n",
    "model = KerasClassifier(build_fn = create_model, epochs=100, batch_size=256, verbose=0)\n",
    "    \n",
    "scoring = { 'acc': 'accuracy','prec_macro': 'precision_macro',\n",
    "           'rec_micro': 'recall_macro', 'fl_score': 'f1_macro'          \n",
    "}\n",
    "scores = cross_validate(model, X_image, y_image, scoring=scoring, cv=2, return_train_score=True)\n",
    "print('CNN')\n",
    "scores"
   ]
  },
  {
   "cell_type": "code",
   "execution_count": 40,
   "id": "46ff50c5",
   "metadata": {},
   "outputs": [
    {
     "name": "stdout",
     "output_type": "stream",
     "text": [
      "(1797, 8, 8, 1)\n",
      "(1797,)\n"
     ]
    },
    {
     "name": "stderr",
     "output_type": "stream",
     "text": [
      "/tmp/ipykernel_35/3434311471.py:28: DeprecationWarning: KerasClassifier is deprecated, use Sci-Keras (https://github.com/adriangb/scikeras) instead. See https://www.adriangb.com/scikeras/stable/migration.html for help migrating.\n",
      "  model = KerasClassifier(build_fn = create_model, epochs=100, batch_size=256, verbose=0)\n"
     ]
    },
    {
     "name": "stdout",
     "output_type": "stream",
     "text": [
      "29/29 [==============================] - 0s 770us/step\n",
      "29/29 [==============================] - 0s 785us/step\n",
      "29/29 [==============================] - 0s 847us/step\n",
      "29/29 [==============================] - 0s 853us/step\n",
      "CNN\n"
     ]
    },
    {
     "data": {
      "text/plain": [
       "{'fit_time': array([1.22901917, 1.14832568]),\n",
       " 'score_time': array([0.10883069, 0.09309459]),\n",
       " 'test_acc': array([0.90989989, 0.94097996]),\n",
       " 'train_acc': array([1., 1.]),\n",
       " 'test_prec_macro': array([0.9239607 , 0.94262862]),\n",
       " 'train_prec_macro': array([1., 1.]),\n",
       " 'test_rec_micro': array([0.90984365, 0.94137225]),\n",
       " 'train_rec_micro': array([1., 1.]),\n",
       " 'test_fl_score': array([0.91081738, 0.94126703]),\n",
       " 'train_fl_score': array([1., 1.])}"
      ]
     },
     "execution_count": 40,
     "metadata": {},
     "output_type": "execute_result"
    }
   ],
   "source": [
    "# kernel-size 7\n",
    "from numpy.random import seed \n",
    "seed(1)\n",
    "import tensorflow\n",
    "tensorflow.random.set_seed(1)\n",
    "\n",
    "import pandas as pd\n",
    "import tensorflow as tf\n",
    "from keras.wrappers.scikit_learn import KerasClassifier\n",
    "from keras.models import Sequential\n",
    "from keras.layers import Dense, Conv2D, Flatten\n",
    "from sklearn.model_selection import cross_validate\n",
    "\n",
    "X_image = digits.images.reshape(digits.images.shape[0], digits.images.shape[1],\n",
    "                               digits.images.shape[1], 1).astype('float32')\n",
    "print(X_image.shape)\n",
    "y_image = y\n",
    "print(y_image.shape)\n",
    "#print(y.shape)\n",
    "def create_model():\n",
    "        model = Sequential()\n",
    "        model.add(Conv2D(64, kernel_size=7, activation='relu', input_shape=(8,8,1)))\n",
    "        model.add(Flatten())\n",
    "        model.add(Dense(64))\n",
    "        model.add(Dense(10, activation='softmax'))\n",
    "        model.compile(optimizer='adam', loss='categorical_crossentropy', metrics=['accuracy'])\n",
    "        return model\n",
    "model = KerasClassifier(build_fn = create_model, epochs=100, batch_size=256, verbose=0)\n",
    "    \n",
    "scoring = { 'acc': 'accuracy','prec_macro': 'precision_macro',\n",
    "           'rec_micro': 'recall_macro', 'fl_score': 'f1_macro'          \n",
    "}\n",
    "scores = cross_validate(model, X_image, y_image, scoring=scoring, cv=2, return_train_score=True)\n",
    "print('CNN')\n",
    "scores"
   ]
  },
  {
   "cell_type": "code",
   "execution_count": 41,
   "id": "dba906f4",
   "metadata": {},
   "outputs": [
    {
     "name": "stdout",
     "output_type": "stream",
     "text": [
      "(1797, 8, 8, 1)\n",
      "(1797,)\n"
     ]
    },
    {
     "name": "stderr",
     "output_type": "stream",
     "text": [
      "/tmp/ipykernel_35/588562844.py:28: DeprecationWarning: KerasClassifier is deprecated, use Sci-Keras (https://github.com/adriangb/scikeras) instead. See https://www.adriangb.com/scikeras/stable/migration.html for help migrating.\n",
      "  model = KerasClassifier(build_fn = create_model, epochs=100, batch_size=256, verbose=0)\n"
     ]
    },
    {
     "ename": "ValueError",
     "evalue": "\nAll the 2 fits failed.\nIt is very likely that your model is misconfigured.\nYou can try to debug the error by setting error_score='raise'.\n\nBelow are more details about the failures:\n--------------------------------------------------------------------------------\n1 fits failed with the following error:\nTraceback (most recent call last):\n  File \"/home/toandokhanh/.local/lib/python3.10/site-packages/sklearn/model_selection/_validation.py\", line 686, in _fit_and_score\n    estimator.fit(X_train, y_train, **fit_params)\n  File \"/home/toandokhanh/.local/lib/python3.10/site-packages/keras/wrappers/scikit_learn.py\", line 248, in fit\n    return super().fit(x, y, **kwargs)\n  File \"/home/toandokhanh/.local/lib/python3.10/site-packages/keras/wrappers/scikit_learn.py\", line 164, in fit\n    self.model = self.build_fn(**self.filter_sk_params(self.build_fn))\n  File \"/tmp/ipykernel_35/588562844.py\", line 22, in create_model\n    model.add(Conv2D(64, kernel_size=9, activation='relu', input_shape=(8,8,1)))\n  File \"/home/toandokhanh/.local/lib/python3.10/site-packages/tensorflow/python/trackable/base.py\", line 205, in _method_wrapper\n    result = method(self, *args, **kwargs)\n  File \"/home/toandokhanh/.local/lib/python3.10/site-packages/keras/utils/traceback_utils.py\", line 70, in error_handler\n    raise e.with_traceback(filtered_tb) from None\n  File \"/home/toandokhanh/.local/lib/python3.10/site-packages/tensorflow/python/framework/ops.py\", line 1973, in _create_c_op\n    raise ValueError(e.message)\nValueError: Exception encountered when calling layer \"conv2d_18\" (type Conv2D).\n\nNegative dimension size caused by subtracting 9 from 8 for '{{node conv2d_18/Conv2D}} = Conv2D[T=DT_FLOAT, data_format=\"NHWC\", dilations=[1, 1, 1, 1], explicit_paddings=[], padding=\"VALID\", strides=[1, 1, 1, 1], use_cudnn_on_gpu=true](Placeholder, conv2d_18/Conv2D/ReadVariableOp)' with input shapes: [?,8,8,1], [9,9,1,64].\n\nCall arguments received by layer \"conv2d_18\" (type Conv2D):\n  • inputs=tf.Tensor(shape=(None, 8, 8, 1), dtype=float32)\n\n--------------------------------------------------------------------------------\n1 fits failed with the following error:\nTraceback (most recent call last):\n  File \"/home/toandokhanh/.local/lib/python3.10/site-packages/sklearn/model_selection/_validation.py\", line 686, in _fit_and_score\n    estimator.fit(X_train, y_train, **fit_params)\n  File \"/home/toandokhanh/.local/lib/python3.10/site-packages/keras/wrappers/scikit_learn.py\", line 248, in fit\n    return super().fit(x, y, **kwargs)\n  File \"/home/toandokhanh/.local/lib/python3.10/site-packages/keras/wrappers/scikit_learn.py\", line 164, in fit\n    self.model = self.build_fn(**self.filter_sk_params(self.build_fn))\n  File \"/tmp/ipykernel_35/588562844.py\", line 22, in create_model\n    model.add(Conv2D(64, kernel_size=9, activation='relu', input_shape=(8,8,1)))\n  File \"/home/toandokhanh/.local/lib/python3.10/site-packages/tensorflow/python/trackable/base.py\", line 205, in _method_wrapper\n    result = method(self, *args, **kwargs)\n  File \"/home/toandokhanh/.local/lib/python3.10/site-packages/keras/utils/traceback_utils.py\", line 70, in error_handler\n    raise e.with_traceback(filtered_tb) from None\n  File \"/home/toandokhanh/.local/lib/python3.10/site-packages/tensorflow/python/framework/ops.py\", line 1973, in _create_c_op\n    raise ValueError(e.message)\nValueError: Exception encountered when calling layer \"conv2d_19\" (type Conv2D).\n\nNegative dimension size caused by subtracting 9 from 8 for '{{node conv2d_19/Conv2D}} = Conv2D[T=DT_FLOAT, data_format=\"NHWC\", dilations=[1, 1, 1, 1], explicit_paddings=[], padding=\"VALID\", strides=[1, 1, 1, 1], use_cudnn_on_gpu=true](Placeholder, conv2d_19/Conv2D/ReadVariableOp)' with input shapes: [?,8,8,1], [9,9,1,64].\n\nCall arguments received by layer \"conv2d_19\" (type Conv2D):\n  • inputs=tf.Tensor(shape=(None, 8, 8, 1), dtype=float32)\n",
     "output_type": "error",
     "traceback": [
      "\u001b[0;31m---------------------------------------------------------------------------\u001b[0m",
      "\u001b[0;31mValueError\u001b[0m                                Traceback (most recent call last)",
      "\u001b[0;32m/tmp/ipykernel_35/588562844.py\u001b[0m in \u001b[0;36m<module>\u001b[0;34m\u001b[0m\n\u001b[1;32m     31\u001b[0m            \u001b[0;34m'rec_micro'\u001b[0m\u001b[0;34m:\u001b[0m \u001b[0;34m'recall_macro'\u001b[0m\u001b[0;34m,\u001b[0m \u001b[0;34m'fl_score'\u001b[0m\u001b[0;34m:\u001b[0m \u001b[0;34m'f1_macro'\u001b[0m\u001b[0;34m\u001b[0m\u001b[0;34m\u001b[0m\u001b[0m\n\u001b[1;32m     32\u001b[0m }\n\u001b[0;32m---> 33\u001b[0;31m \u001b[0mscores\u001b[0m \u001b[0;34m=\u001b[0m \u001b[0mcross_validate\u001b[0m\u001b[0;34m(\u001b[0m\u001b[0mmodel\u001b[0m\u001b[0;34m,\u001b[0m \u001b[0mX_image\u001b[0m\u001b[0;34m,\u001b[0m \u001b[0my_image\u001b[0m\u001b[0;34m,\u001b[0m \u001b[0mscoring\u001b[0m\u001b[0;34m=\u001b[0m\u001b[0mscoring\u001b[0m\u001b[0;34m,\u001b[0m \u001b[0mcv\u001b[0m\u001b[0;34m=\u001b[0m\u001b[0;36m2\u001b[0m\u001b[0;34m,\u001b[0m \u001b[0mreturn_train_score\u001b[0m\u001b[0;34m=\u001b[0m\u001b[0;32mTrue\u001b[0m\u001b[0;34m)\u001b[0m\u001b[0;34m\u001b[0m\u001b[0;34m\u001b[0m\u001b[0m\n\u001b[0m\u001b[1;32m     34\u001b[0m \u001b[0mprint\u001b[0m\u001b[0;34m(\u001b[0m\u001b[0;34m'CNN'\u001b[0m\u001b[0;34m)\u001b[0m\u001b[0;34m\u001b[0m\u001b[0;34m\u001b[0m\u001b[0m\n\u001b[1;32m     35\u001b[0m \u001b[0mscores\u001b[0m\u001b[0;34m\u001b[0m\u001b[0;34m\u001b[0m\u001b[0m\n",
      "\u001b[0;32m~/.local/lib/python3.10/site-packages/sklearn/model_selection/_validation.py\u001b[0m in \u001b[0;36mcross_validate\u001b[0;34m(estimator, X, y, groups, scoring, cv, n_jobs, verbose, fit_params, pre_dispatch, return_train_score, return_estimator, error_score)\u001b[0m\n\u001b[1;32m    283\u001b[0m     )\n\u001b[1;32m    284\u001b[0m \u001b[0;34m\u001b[0m\u001b[0m\n\u001b[0;32m--> 285\u001b[0;31m     \u001b[0m_warn_or_raise_about_fit_failures\u001b[0m\u001b[0;34m(\u001b[0m\u001b[0mresults\u001b[0m\u001b[0;34m,\u001b[0m \u001b[0merror_score\u001b[0m\u001b[0;34m)\u001b[0m\u001b[0;34m\u001b[0m\u001b[0;34m\u001b[0m\u001b[0m\n\u001b[0m\u001b[1;32m    286\u001b[0m \u001b[0;34m\u001b[0m\u001b[0m\n\u001b[1;32m    287\u001b[0m     \u001b[0;31m# For callabe scoring, the return type is only know after calling. If the\u001b[0m\u001b[0;34m\u001b[0m\u001b[0;34m\u001b[0m\u001b[0m\n",
      "\u001b[0;32m~/.local/lib/python3.10/site-packages/sklearn/model_selection/_validation.py\u001b[0m in \u001b[0;36m_warn_or_raise_about_fit_failures\u001b[0;34m(results, error_score)\u001b[0m\n\u001b[1;32m    365\u001b[0m                 \u001b[0;34mf\"Below are more details about the failures:\\n{fit_errors_summary}\"\u001b[0m\u001b[0;34m\u001b[0m\u001b[0;34m\u001b[0m\u001b[0m\n\u001b[1;32m    366\u001b[0m             )\n\u001b[0;32m--> 367\u001b[0;31m             \u001b[0;32mraise\u001b[0m \u001b[0mValueError\u001b[0m\u001b[0;34m(\u001b[0m\u001b[0mall_fits_failed_message\u001b[0m\u001b[0;34m)\u001b[0m\u001b[0;34m\u001b[0m\u001b[0;34m\u001b[0m\u001b[0m\n\u001b[0m\u001b[1;32m    368\u001b[0m \u001b[0;34m\u001b[0m\u001b[0m\n\u001b[1;32m    369\u001b[0m         \u001b[0;32melse\u001b[0m\u001b[0;34m:\u001b[0m\u001b[0;34m\u001b[0m\u001b[0;34m\u001b[0m\u001b[0m\n",
      "\u001b[0;31mValueError\u001b[0m: \nAll the 2 fits failed.\nIt is very likely that your model is misconfigured.\nYou can try to debug the error by setting error_score='raise'.\n\nBelow are more details about the failures:\n--------------------------------------------------------------------------------\n1 fits failed with the following error:\nTraceback (most recent call last):\n  File \"/home/toandokhanh/.local/lib/python3.10/site-packages/sklearn/model_selection/_validation.py\", line 686, in _fit_and_score\n    estimator.fit(X_train, y_train, **fit_params)\n  File \"/home/toandokhanh/.local/lib/python3.10/site-packages/keras/wrappers/scikit_learn.py\", line 248, in fit\n    return super().fit(x, y, **kwargs)\n  File \"/home/toandokhanh/.local/lib/python3.10/site-packages/keras/wrappers/scikit_learn.py\", line 164, in fit\n    self.model = self.build_fn(**self.filter_sk_params(self.build_fn))\n  File \"/tmp/ipykernel_35/588562844.py\", line 22, in create_model\n    model.add(Conv2D(64, kernel_size=9, activation='relu', input_shape=(8,8,1)))\n  File \"/home/toandokhanh/.local/lib/python3.10/site-packages/tensorflow/python/trackable/base.py\", line 205, in _method_wrapper\n    result = method(self, *args, **kwargs)\n  File \"/home/toandokhanh/.local/lib/python3.10/site-packages/keras/utils/traceback_utils.py\", line 70, in error_handler\n    raise e.with_traceback(filtered_tb) from None\n  File \"/home/toandokhanh/.local/lib/python3.10/site-packages/tensorflow/python/framework/ops.py\", line 1973, in _create_c_op\n    raise ValueError(e.message)\nValueError: Exception encountered when calling layer \"conv2d_18\" (type Conv2D).\n\nNegative dimension size caused by subtracting 9 from 8 for '{{node conv2d_18/Conv2D}} = Conv2D[T=DT_FLOAT, data_format=\"NHWC\", dilations=[1, 1, 1, 1], explicit_paddings=[], padding=\"VALID\", strides=[1, 1, 1, 1], use_cudnn_on_gpu=true](Placeholder, conv2d_18/Conv2D/ReadVariableOp)' with input shapes: [?,8,8,1], [9,9,1,64].\n\nCall arguments received by layer \"conv2d_18\" (type Conv2D):\n  • inputs=tf.Tensor(shape=(None, 8, 8, 1), dtype=float32)\n\n--------------------------------------------------------------------------------\n1 fits failed with the following error:\nTraceback (most recent call last):\n  File \"/home/toandokhanh/.local/lib/python3.10/site-packages/sklearn/model_selection/_validation.py\", line 686, in _fit_and_score\n    estimator.fit(X_train, y_train, **fit_params)\n  File \"/home/toandokhanh/.local/lib/python3.10/site-packages/keras/wrappers/scikit_learn.py\", line 248, in fit\n    return super().fit(x, y, **kwargs)\n  File \"/home/toandokhanh/.local/lib/python3.10/site-packages/keras/wrappers/scikit_learn.py\", line 164, in fit\n    self.model = self.build_fn(**self.filter_sk_params(self.build_fn))\n  File \"/tmp/ipykernel_35/588562844.py\", line 22, in create_model\n    model.add(Conv2D(64, kernel_size=9, activation='relu', input_shape=(8,8,1)))\n  File \"/home/toandokhanh/.local/lib/python3.10/site-packages/tensorflow/python/trackable/base.py\", line 205, in _method_wrapper\n    result = method(self, *args, **kwargs)\n  File \"/home/toandokhanh/.local/lib/python3.10/site-packages/keras/utils/traceback_utils.py\", line 70, in error_handler\n    raise e.with_traceback(filtered_tb) from None\n  File \"/home/toandokhanh/.local/lib/python3.10/site-packages/tensorflow/python/framework/ops.py\", line 1973, in _create_c_op\n    raise ValueError(e.message)\nValueError: Exception encountered when calling layer \"conv2d_19\" (type Conv2D).\n\nNegative dimension size caused by subtracting 9 from 8 for '{{node conv2d_19/Conv2D}} = Conv2D[T=DT_FLOAT, data_format=\"NHWC\", dilations=[1, 1, 1, 1], explicit_paddings=[], padding=\"VALID\", strides=[1, 1, 1, 1], use_cudnn_on_gpu=true](Placeholder, conv2d_19/Conv2D/ReadVariableOp)' with input shapes: [?,8,8,1], [9,9,1,64].\n\nCall arguments received by layer \"conv2d_19\" (type Conv2D):\n  • inputs=tf.Tensor(shape=(None, 8, 8, 1), dtype=float32)\n"
     ]
    }
   ],
   "source": [
    "# kernel-size 9\n",
    "from numpy.random import seed \n",
    "seed(1)\n",
    "import tensorflow\n",
    "tensorflow.random.set_seed(1)\n",
    "\n",
    "import pandas as pd\n",
    "import tensorflow as tf\n",
    "from keras.wrappers.scikit_learn import KerasClassifier\n",
    "from keras.models import Sequential\n",
    "from keras.layers import Dense, Conv2D, Flatten\n",
    "from sklearn.model_selection import cross_validate\n",
    "\n",
    "X_image = digits.images.reshape(digits.images.shape[0], digits.images.shape[1],\n",
    "                               digits.images.shape[1], 1).astype('float32')\n",
    "print(X_image.shape)\n",
    "y_image = y\n",
    "print(y_image.shape)\n",
    "#print(y.shape)\n",
    "def create_model():\n",
    "        model = Sequential()\n",
    "        model.add(Conv2D(64, kernel_size=9, activation='relu', input_shape=(8,8,1)))\n",
    "        model.add(Flatten())\n",
    "        model.add(Dense(64))\n",
    "        model.add(Dense(10, activation='softmax'))\n",
    "        model.compile(optimizer='adam', loss='categorical_crossentropy', metrics=['accuracy'])\n",
    "        return model\n",
    "model = KerasClassifier(build_fn = create_model, epochs=100, batch_size=256, verbose=0)\n",
    "    \n",
    "scoring = { 'acc': 'accuracy','prec_macro': 'precision_macro',\n",
    "           'rec_micro': 'recall_macro', 'fl_score': 'f1_macro'          \n",
    "}\n",
    "scores = cross_validate(model, X_image, y_image, scoring=scoring, cv=2, return_train_score=True)\n",
    "print('CNN')\n",
    "scores"
   ]
  },
  {
   "cell_type": "code",
   "execution_count": 42,
   "id": "ccdc8bd9",
   "metadata": {},
   "outputs": [
    {
     "name": "stdout",
     "output_type": "stream",
     "text": [
      "(1797, 8, 8, 1)\n",
      "(1797,)\n"
     ]
    },
    {
     "name": "stderr",
     "output_type": "stream",
     "text": [
      "/tmp/ipykernel_35/1137381970.py:28: DeprecationWarning: KerasClassifier is deprecated, use Sci-Keras (https://github.com/adriangb/scikeras) instead. See https://www.adriangb.com/scikeras/stable/migration.html for help migrating.\n",
      "  model = KerasClassifier(build_fn = create_model, epochs=100, batch_size=256, verbose=0)\n"
     ]
    },
    {
     "ename": "ValueError",
     "evalue": "\nAll the 2 fits failed.\nIt is very likely that your model is misconfigured.\nYou can try to debug the error by setting error_score='raise'.\n\nBelow are more details about the failures:\n--------------------------------------------------------------------------------\n1 fits failed with the following error:\nTraceback (most recent call last):\n  File \"/home/toandokhanh/.local/lib/python3.10/site-packages/sklearn/model_selection/_validation.py\", line 686, in _fit_and_score\n    estimator.fit(X_train, y_train, **fit_params)\n  File \"/home/toandokhanh/.local/lib/python3.10/site-packages/keras/wrappers/scikit_learn.py\", line 248, in fit\n    return super().fit(x, y, **kwargs)\n  File \"/home/toandokhanh/.local/lib/python3.10/site-packages/keras/wrappers/scikit_learn.py\", line 164, in fit\n    self.model = self.build_fn(**self.filter_sk_params(self.build_fn))\n  File \"/tmp/ipykernel_35/1137381970.py\", line 22, in create_model\n    model.add(Conv2D(64, kernel_size=11, activation='relu', input_shape=(8,8,1)))\n  File \"/home/toandokhanh/.local/lib/python3.10/site-packages/tensorflow/python/trackable/base.py\", line 205, in _method_wrapper\n    result = method(self, *args, **kwargs)\n  File \"/home/toandokhanh/.local/lib/python3.10/site-packages/keras/utils/traceback_utils.py\", line 70, in error_handler\n    raise e.with_traceback(filtered_tb) from None\n  File \"/home/toandokhanh/.local/lib/python3.10/site-packages/keras/layers/convolutional/base_conv.py\", line 354, in compute_output_shape\n    raise ValueError(\nValueError: One of the dimensions in the output is <= 0 due to downsampling in conv2d_20. Consider increasing the input size. Received input shape [None, 8, 8, 1] which would produce output shape with a zero or negative value in a dimension.\n\n--------------------------------------------------------------------------------\n1 fits failed with the following error:\nTraceback (most recent call last):\n  File \"/home/toandokhanh/.local/lib/python3.10/site-packages/sklearn/model_selection/_validation.py\", line 686, in _fit_and_score\n    estimator.fit(X_train, y_train, **fit_params)\n  File \"/home/toandokhanh/.local/lib/python3.10/site-packages/keras/wrappers/scikit_learn.py\", line 248, in fit\n    return super().fit(x, y, **kwargs)\n  File \"/home/toandokhanh/.local/lib/python3.10/site-packages/keras/wrappers/scikit_learn.py\", line 164, in fit\n    self.model = self.build_fn(**self.filter_sk_params(self.build_fn))\n  File \"/tmp/ipykernel_35/1137381970.py\", line 22, in create_model\n    model.add(Conv2D(64, kernel_size=11, activation='relu', input_shape=(8,8,1)))\n  File \"/home/toandokhanh/.local/lib/python3.10/site-packages/tensorflow/python/trackable/base.py\", line 205, in _method_wrapper\n    result = method(self, *args, **kwargs)\n  File \"/home/toandokhanh/.local/lib/python3.10/site-packages/keras/utils/traceback_utils.py\", line 70, in error_handler\n    raise e.with_traceback(filtered_tb) from None\n  File \"/home/toandokhanh/.local/lib/python3.10/site-packages/keras/layers/convolutional/base_conv.py\", line 354, in compute_output_shape\n    raise ValueError(\nValueError: One of the dimensions in the output is <= 0 due to downsampling in conv2d_21. Consider increasing the input size. Received input shape [None, 8, 8, 1] which would produce output shape with a zero or negative value in a dimension.\n",
     "output_type": "error",
     "traceback": [
      "\u001b[0;31m---------------------------------------------------------------------------\u001b[0m",
      "\u001b[0;31mValueError\u001b[0m                                Traceback (most recent call last)",
      "\u001b[0;32m/tmp/ipykernel_35/1137381970.py\u001b[0m in \u001b[0;36m<module>\u001b[0;34m\u001b[0m\n\u001b[1;32m     31\u001b[0m            \u001b[0;34m'rec_micro'\u001b[0m\u001b[0;34m:\u001b[0m \u001b[0;34m'recall_macro'\u001b[0m\u001b[0;34m,\u001b[0m \u001b[0;34m'fl_score'\u001b[0m\u001b[0;34m:\u001b[0m \u001b[0;34m'f1_macro'\u001b[0m\u001b[0;34m\u001b[0m\u001b[0;34m\u001b[0m\u001b[0m\n\u001b[1;32m     32\u001b[0m }\n\u001b[0;32m---> 33\u001b[0;31m \u001b[0mscores\u001b[0m \u001b[0;34m=\u001b[0m \u001b[0mcross_validate\u001b[0m\u001b[0;34m(\u001b[0m\u001b[0mmodel\u001b[0m\u001b[0;34m,\u001b[0m \u001b[0mX_image\u001b[0m\u001b[0;34m,\u001b[0m \u001b[0my_image\u001b[0m\u001b[0;34m,\u001b[0m \u001b[0mscoring\u001b[0m\u001b[0;34m=\u001b[0m\u001b[0mscoring\u001b[0m\u001b[0;34m,\u001b[0m \u001b[0mcv\u001b[0m\u001b[0;34m=\u001b[0m\u001b[0;36m2\u001b[0m\u001b[0;34m,\u001b[0m \u001b[0mreturn_train_score\u001b[0m\u001b[0;34m=\u001b[0m\u001b[0;32mTrue\u001b[0m\u001b[0;34m)\u001b[0m\u001b[0;34m\u001b[0m\u001b[0;34m\u001b[0m\u001b[0m\n\u001b[0m\u001b[1;32m     34\u001b[0m \u001b[0mprint\u001b[0m\u001b[0;34m(\u001b[0m\u001b[0;34m'CNN'\u001b[0m\u001b[0;34m)\u001b[0m\u001b[0;34m\u001b[0m\u001b[0;34m\u001b[0m\u001b[0m\n\u001b[1;32m     35\u001b[0m \u001b[0mscores\u001b[0m\u001b[0;34m\u001b[0m\u001b[0;34m\u001b[0m\u001b[0m\n",
      "\u001b[0;32m~/.local/lib/python3.10/site-packages/sklearn/model_selection/_validation.py\u001b[0m in \u001b[0;36mcross_validate\u001b[0;34m(estimator, X, y, groups, scoring, cv, n_jobs, verbose, fit_params, pre_dispatch, return_train_score, return_estimator, error_score)\u001b[0m\n\u001b[1;32m    283\u001b[0m     )\n\u001b[1;32m    284\u001b[0m \u001b[0;34m\u001b[0m\u001b[0m\n\u001b[0;32m--> 285\u001b[0;31m     \u001b[0m_warn_or_raise_about_fit_failures\u001b[0m\u001b[0;34m(\u001b[0m\u001b[0mresults\u001b[0m\u001b[0;34m,\u001b[0m \u001b[0merror_score\u001b[0m\u001b[0;34m)\u001b[0m\u001b[0;34m\u001b[0m\u001b[0;34m\u001b[0m\u001b[0m\n\u001b[0m\u001b[1;32m    286\u001b[0m \u001b[0;34m\u001b[0m\u001b[0m\n\u001b[1;32m    287\u001b[0m     \u001b[0;31m# For callabe scoring, the return type is only know after calling. If the\u001b[0m\u001b[0;34m\u001b[0m\u001b[0;34m\u001b[0m\u001b[0m\n",
      "\u001b[0;32m~/.local/lib/python3.10/site-packages/sklearn/model_selection/_validation.py\u001b[0m in \u001b[0;36m_warn_or_raise_about_fit_failures\u001b[0;34m(results, error_score)\u001b[0m\n\u001b[1;32m    365\u001b[0m                 \u001b[0;34mf\"Below are more details about the failures:\\n{fit_errors_summary}\"\u001b[0m\u001b[0;34m\u001b[0m\u001b[0;34m\u001b[0m\u001b[0m\n\u001b[1;32m    366\u001b[0m             )\n\u001b[0;32m--> 367\u001b[0;31m             \u001b[0;32mraise\u001b[0m \u001b[0mValueError\u001b[0m\u001b[0;34m(\u001b[0m\u001b[0mall_fits_failed_message\u001b[0m\u001b[0;34m)\u001b[0m\u001b[0;34m\u001b[0m\u001b[0;34m\u001b[0m\u001b[0m\n\u001b[0m\u001b[1;32m    368\u001b[0m \u001b[0;34m\u001b[0m\u001b[0m\n\u001b[1;32m    369\u001b[0m         \u001b[0;32melse\u001b[0m\u001b[0;34m:\u001b[0m\u001b[0;34m\u001b[0m\u001b[0;34m\u001b[0m\u001b[0m\n",
      "\u001b[0;31mValueError\u001b[0m: \nAll the 2 fits failed.\nIt is very likely that your model is misconfigured.\nYou can try to debug the error by setting error_score='raise'.\n\nBelow are more details about the failures:\n--------------------------------------------------------------------------------\n1 fits failed with the following error:\nTraceback (most recent call last):\n  File \"/home/toandokhanh/.local/lib/python3.10/site-packages/sklearn/model_selection/_validation.py\", line 686, in _fit_and_score\n    estimator.fit(X_train, y_train, **fit_params)\n  File \"/home/toandokhanh/.local/lib/python3.10/site-packages/keras/wrappers/scikit_learn.py\", line 248, in fit\n    return super().fit(x, y, **kwargs)\n  File \"/home/toandokhanh/.local/lib/python3.10/site-packages/keras/wrappers/scikit_learn.py\", line 164, in fit\n    self.model = self.build_fn(**self.filter_sk_params(self.build_fn))\n  File \"/tmp/ipykernel_35/1137381970.py\", line 22, in create_model\n    model.add(Conv2D(64, kernel_size=11, activation='relu', input_shape=(8,8,1)))\n  File \"/home/toandokhanh/.local/lib/python3.10/site-packages/tensorflow/python/trackable/base.py\", line 205, in _method_wrapper\n    result = method(self, *args, **kwargs)\n  File \"/home/toandokhanh/.local/lib/python3.10/site-packages/keras/utils/traceback_utils.py\", line 70, in error_handler\n    raise e.with_traceback(filtered_tb) from None\n  File \"/home/toandokhanh/.local/lib/python3.10/site-packages/keras/layers/convolutional/base_conv.py\", line 354, in compute_output_shape\n    raise ValueError(\nValueError: One of the dimensions in the output is <= 0 due to downsampling in conv2d_20. Consider increasing the input size. Received input shape [None, 8, 8, 1] which would produce output shape with a zero or negative value in a dimension.\n\n--------------------------------------------------------------------------------\n1 fits failed with the following error:\nTraceback (most recent call last):\n  File \"/home/toandokhanh/.local/lib/python3.10/site-packages/sklearn/model_selection/_validation.py\", line 686, in _fit_and_score\n    estimator.fit(X_train, y_train, **fit_params)\n  File \"/home/toandokhanh/.local/lib/python3.10/site-packages/keras/wrappers/scikit_learn.py\", line 248, in fit\n    return super().fit(x, y, **kwargs)\n  File \"/home/toandokhanh/.local/lib/python3.10/site-packages/keras/wrappers/scikit_learn.py\", line 164, in fit\n    self.model = self.build_fn(**self.filter_sk_params(self.build_fn))\n  File \"/tmp/ipykernel_35/1137381970.py\", line 22, in create_model\n    model.add(Conv2D(64, kernel_size=11, activation='relu', input_shape=(8,8,1)))\n  File \"/home/toandokhanh/.local/lib/python3.10/site-packages/tensorflow/python/trackable/base.py\", line 205, in _method_wrapper\n    result = method(self, *args, **kwargs)\n  File \"/home/toandokhanh/.local/lib/python3.10/site-packages/keras/utils/traceback_utils.py\", line 70, in error_handler\n    raise e.with_traceback(filtered_tb) from None\n  File \"/home/toandokhanh/.local/lib/python3.10/site-packages/keras/layers/convolutional/base_conv.py\", line 354, in compute_output_shape\n    raise ValueError(\nValueError: One of the dimensions in the output is <= 0 due to downsampling in conv2d_21. Consider increasing the input size. Received input shape [None, 8, 8, 1] which would produce output shape with a zero or negative value in a dimension.\n"
     ]
    }
   ],
   "source": [
    "# kernel-size 11\n",
    "from numpy.random import seed \n",
    "seed(1)\n",
    "import tensorflow\n",
    "tensorflow.random.set_seed(1)\n",
    "\n",
    "import pandas as pd\n",
    "import tensorflow as tf\n",
    "from keras.wrappers.scikit_learn import KerasClassifier\n",
    "from keras.models import Sequential\n",
    "from keras.layers import Dense, Conv2D, Flatten\n",
    "from sklearn.model_selection import cross_validate\n",
    "\n",
    "X_image = digits.images.reshape(digits.images.shape[0], digits.images.shape[1],\n",
    "                               digits.images.shape[1], 1).astype('float32')\n",
    "print(X_image.shape)\n",
    "y_image = y\n",
    "print(y_image.shape)\n",
    "#print(y.shape)\n",
    "def create_model():\n",
    "        model = Sequential()\n",
    "        model.add(Conv2D(64, kernel_size=11, activation='relu', input_shape=(8,8,1)))\n",
    "        model.add(Flatten())\n",
    "        model.add(Dense(64))\n",
    "        model.add(Dense(10, activation='softmax'))\n",
    "        model.compile(optimizer='adam', loss='categorical_crossentropy', metrics=['accuracy'])\n",
    "        return model\n",
    "model = KerasClassifier(build_fn = create_model, epochs=100, batch_size=256, verbose=0)\n",
    "    \n",
    "scoring = { 'acc': 'accuracy','prec_macro': 'precision_macro',\n",
    "           'rec_micro': 'recall_macro', 'fl_score': 'f1_macro'          \n",
    "}\n",
    "scores = cross_validate(model, X_image, y_image, scoring=scoring, cv=2, return_train_score=True)\n",
    "print('CNN')\n",
    "scores"
   ]
  },
  {
   "cell_type": "markdown",
   "id": "774ec375",
   "metadata": {},
   "source": [
    "### Bảng so sánh\n",
    "\n",
    "\n",
    "| Kernel Size | Accuracy (Test) | Recall (Test) | F1-score (Test) | Fit Time (s) | Score Time (s) |\n",
    "|-------------|-----------------|---------------|-----------------|--------------|-----------------|\n",
    "| 1           | 0.8843          | 0.8843        | 0.8873          | 3.6651       | 0.1244          |\n",
    "| 5           | 0.9333          | 0.9334        | 0.9336          | 2.0691       | 0.1176          |\n",
    "| 7           | 0.9288          | 0.9292        | 0.9293          | 1.5165       | 0.1282          |\n",
    "| 9           | error          | error      | error          | error       | error          |\n",
    "| 11           | error          | error        | error          | error       | error          |\n",
    "\n",
    "\n",
    "### Nhận xét:\n",
    "- Khi sử dụng kernel size là 5, mô hình đạt được hiệu suất tốt hơn với độ chính xác, Recall và F1-score cao hơn so với kernel size 1 và 7.\n",
    "- Kernel size 7 cũng có hiệu suất tốt nhưng có thời gian huấn luyện và thời gian đánh giá thấp hơn so với kernel size 5\n",
    "=> Kích thước kernel có ảnh hưởng đến hiệu suất của mô hình.\n",
    "\n",
    "###### Kernel Size = 9 và 11 báo lỗi là do:\n",
    "- kích thước đầu vào của ảnh là (8, 8, 1) nhưng kernel_size trong lớp Conv2D là 9 và 11 lớn hơn kích thước đầu vào nên mô hình báo lỗi"
   ]
  },
  {
   "cell_type": "markdown",
   "id": "6ce4b2cd",
   "metadata": {},
   "source": [
    "##### 10. Thực hiện đoạn code [11], ở dòng 21, trang 84, thay thế số neuron ở dòng 24 từ 10 thành một con số khác 10. Thử chạy và nhận xét kết quả, giải thích.\n"
   ]
  },
  {
   "cell_type": "code",
   "execution_count": 43,
   "id": "04bd937a",
   "metadata": {},
   "outputs": [
    {
     "data": {
      "text/plain": [
       "(1797, 8, 8)"
      ]
     },
     "execution_count": 43,
     "metadata": {},
     "output_type": "execute_result"
    }
   ],
   "source": [
    "from sklearn.datasets import load_digits\n",
    "digits = load_digits()\n",
    "digits.images.shape"
   ]
  },
  {
   "cell_type": "code",
   "execution_count": 44,
   "id": "742e3091",
   "metadata": {},
   "outputs": [
    {
     "name": "stdout",
     "output_type": "stream",
     "text": [
      "(1797, 8, 8, 1)\n",
      "(1797,)\n"
     ]
    },
    {
     "name": "stderr",
     "output_type": "stream",
     "text": [
      "/tmp/ipykernel_35/2063047132.py:28: DeprecationWarning: KerasClassifier is deprecated, use Sci-Keras (https://github.com/adriangb/scikeras) instead. See https://www.adriangb.com/scikeras/stable/migration.html for help migrating.\n",
      "  model = KerasClassifier(build_fn = create_model, epochs=100, batch_size=256, verbose=0)\n"
     ]
    },
    {
     "ename": "ValueError",
     "evalue": "\nAll the 2 fits failed.\nIt is very likely that your model is misconfigured.\nYou can try to debug the error by setting error_score='raise'.\n\nBelow are more details about the failures:\n--------------------------------------------------------------------------------\n2 fits failed with the following error:\nTraceback (most recent call last):\n  File \"/home/toandokhanh/.local/lib/python3.10/site-packages/sklearn/model_selection/_validation.py\", line 686, in _fit_and_score\n    estimator.fit(X_train, y_train, **fit_params)\n  File \"/home/toandokhanh/.local/lib/python3.10/site-packages/keras/wrappers/scikit_learn.py\", line 248, in fit\n    return super().fit(x, y, **kwargs)\n  File \"/home/toandokhanh/.local/lib/python3.10/site-packages/keras/wrappers/scikit_learn.py\", line 175, in fit\n    history = self.model.fit(x, y, **fit_args)\n  File \"/home/toandokhanh/.local/lib/python3.10/site-packages/keras/utils/traceback_utils.py\", line 70, in error_handler\n    raise e.with_traceback(filtered_tb) from None\n  File \"/tmp/__autograph_generated_filesjpx1diy.py\", line 15, in tf__train_function\n    retval_ = ag__.converted_call(ag__.ld(step_function), (ag__.ld(self), ag__.ld(iterator)), None, fscope)\nValueError: in user code:\n\n    File \"/home/toandokhanh/.local/lib/python3.10/site-packages/keras/engine/training.py\", line 1284, in train_function  *\n        return step_function(self, iterator)\n    File \"/home/toandokhanh/.local/lib/python3.10/site-packages/keras/engine/training.py\", line 1268, in step_function  **\n        outputs = model.distribute_strategy.run(run_step, args=(data,))\n    File \"/home/toandokhanh/.local/lib/python3.10/site-packages/keras/engine/training.py\", line 1249, in run_step  **\n        outputs = model.train_step(data)\n    File \"/home/toandokhanh/.local/lib/python3.10/site-packages/keras/engine/training.py\", line 1051, in train_step\n        loss = self.compute_loss(x, y, y_pred, sample_weight)\n    File \"/home/toandokhanh/.local/lib/python3.10/site-packages/keras/engine/training.py\", line 1109, in compute_loss\n        return self.compiled_loss(\n    File \"/home/toandokhanh/.local/lib/python3.10/site-packages/keras/engine/compile_utils.py\", line 265, in __call__\n        loss_value = loss_obj(y_t, y_p, sample_weight=sw)\n    File \"/home/toandokhanh/.local/lib/python3.10/site-packages/keras/losses.py\", line 142, in __call__\n        losses = call_fn(y_true, y_pred)\n    File \"/home/toandokhanh/.local/lib/python3.10/site-packages/keras/losses.py\", line 268, in call  **\n        return ag_fn(y_true, y_pred, **self._fn_kwargs)\n    File \"/home/toandokhanh/.local/lib/python3.10/site-packages/keras/losses.py\", line 1984, in categorical_crossentropy\n        return backend.categorical_crossentropy(\n    File \"/home/toandokhanh/.local/lib/python3.10/site-packages/keras/backend.py\", line 5559, in categorical_crossentropy\n        target.shape.assert_is_compatible_with(output.shape)\n\n    ValueError: Shapes (None, 10) and (None, 9) are incompatible\n\n",
     "output_type": "error",
     "traceback": [
      "\u001b[0;31m---------------------------------------------------------------------------\u001b[0m",
      "\u001b[0;31mValueError\u001b[0m                                Traceback (most recent call last)",
      "\u001b[0;32m/tmp/ipykernel_35/2063047132.py\u001b[0m in \u001b[0;36m<module>\u001b[0;34m\u001b[0m\n\u001b[1;32m     31\u001b[0m            \u001b[0;34m'rec_micro'\u001b[0m\u001b[0;34m:\u001b[0m \u001b[0;34m'recall_macro'\u001b[0m\u001b[0;34m,\u001b[0m \u001b[0;34m'fl_score'\u001b[0m\u001b[0;34m:\u001b[0m \u001b[0;34m'f1_macro'\u001b[0m\u001b[0;34m\u001b[0m\u001b[0;34m\u001b[0m\u001b[0m\n\u001b[1;32m     32\u001b[0m }\n\u001b[0;32m---> 33\u001b[0;31m \u001b[0mscores\u001b[0m \u001b[0;34m=\u001b[0m \u001b[0mcross_validate\u001b[0m\u001b[0;34m(\u001b[0m\u001b[0mmodel\u001b[0m\u001b[0;34m,\u001b[0m \u001b[0mX_image\u001b[0m\u001b[0;34m,\u001b[0m \u001b[0my_image\u001b[0m\u001b[0;34m,\u001b[0m \u001b[0mscoring\u001b[0m\u001b[0;34m=\u001b[0m\u001b[0mscoring\u001b[0m\u001b[0;34m,\u001b[0m \u001b[0mcv\u001b[0m\u001b[0;34m=\u001b[0m\u001b[0;36m2\u001b[0m\u001b[0;34m,\u001b[0m \u001b[0mreturn_train_score\u001b[0m\u001b[0;34m=\u001b[0m\u001b[0;32mTrue\u001b[0m\u001b[0;34m)\u001b[0m\u001b[0;34m\u001b[0m\u001b[0;34m\u001b[0m\u001b[0m\n\u001b[0m\u001b[1;32m     34\u001b[0m \u001b[0mprint\u001b[0m\u001b[0;34m(\u001b[0m\u001b[0;34m'CNN'\u001b[0m\u001b[0;34m)\u001b[0m\u001b[0;34m\u001b[0m\u001b[0;34m\u001b[0m\u001b[0m\n\u001b[1;32m     35\u001b[0m \u001b[0mscores\u001b[0m\u001b[0;34m\u001b[0m\u001b[0;34m\u001b[0m\u001b[0m\n",
      "\u001b[0;32m~/.local/lib/python3.10/site-packages/sklearn/model_selection/_validation.py\u001b[0m in \u001b[0;36mcross_validate\u001b[0;34m(estimator, X, y, groups, scoring, cv, n_jobs, verbose, fit_params, pre_dispatch, return_train_score, return_estimator, error_score)\u001b[0m\n\u001b[1;32m    283\u001b[0m     )\n\u001b[1;32m    284\u001b[0m \u001b[0;34m\u001b[0m\u001b[0m\n\u001b[0;32m--> 285\u001b[0;31m     \u001b[0m_warn_or_raise_about_fit_failures\u001b[0m\u001b[0;34m(\u001b[0m\u001b[0mresults\u001b[0m\u001b[0;34m,\u001b[0m \u001b[0merror_score\u001b[0m\u001b[0;34m)\u001b[0m\u001b[0;34m\u001b[0m\u001b[0;34m\u001b[0m\u001b[0m\n\u001b[0m\u001b[1;32m    286\u001b[0m \u001b[0;34m\u001b[0m\u001b[0m\n\u001b[1;32m    287\u001b[0m     \u001b[0;31m# For callabe scoring, the return type is only know after calling. If the\u001b[0m\u001b[0;34m\u001b[0m\u001b[0;34m\u001b[0m\u001b[0m\n",
      "\u001b[0;32m~/.local/lib/python3.10/site-packages/sklearn/model_selection/_validation.py\u001b[0m in \u001b[0;36m_warn_or_raise_about_fit_failures\u001b[0;34m(results, error_score)\u001b[0m\n\u001b[1;32m    365\u001b[0m                 \u001b[0;34mf\"Below are more details about the failures:\\n{fit_errors_summary}\"\u001b[0m\u001b[0;34m\u001b[0m\u001b[0;34m\u001b[0m\u001b[0m\n\u001b[1;32m    366\u001b[0m             )\n\u001b[0;32m--> 367\u001b[0;31m             \u001b[0;32mraise\u001b[0m \u001b[0mValueError\u001b[0m\u001b[0;34m(\u001b[0m\u001b[0mall_fits_failed_message\u001b[0m\u001b[0;34m)\u001b[0m\u001b[0;34m\u001b[0m\u001b[0;34m\u001b[0m\u001b[0m\n\u001b[0m\u001b[1;32m    368\u001b[0m \u001b[0;34m\u001b[0m\u001b[0m\n\u001b[1;32m    369\u001b[0m         \u001b[0;32melse\u001b[0m\u001b[0;34m:\u001b[0m\u001b[0;34m\u001b[0m\u001b[0;34m\u001b[0m\u001b[0m\n",
      "\u001b[0;31mValueError\u001b[0m: \nAll the 2 fits failed.\nIt is very likely that your model is misconfigured.\nYou can try to debug the error by setting error_score='raise'.\n\nBelow are more details about the failures:\n--------------------------------------------------------------------------------\n2 fits failed with the following error:\nTraceback (most recent call last):\n  File \"/home/toandokhanh/.local/lib/python3.10/site-packages/sklearn/model_selection/_validation.py\", line 686, in _fit_and_score\n    estimator.fit(X_train, y_train, **fit_params)\n  File \"/home/toandokhanh/.local/lib/python3.10/site-packages/keras/wrappers/scikit_learn.py\", line 248, in fit\n    return super().fit(x, y, **kwargs)\n  File \"/home/toandokhanh/.local/lib/python3.10/site-packages/keras/wrappers/scikit_learn.py\", line 175, in fit\n    history = self.model.fit(x, y, **fit_args)\n  File \"/home/toandokhanh/.local/lib/python3.10/site-packages/keras/utils/traceback_utils.py\", line 70, in error_handler\n    raise e.with_traceback(filtered_tb) from None\n  File \"/tmp/__autograph_generated_filesjpx1diy.py\", line 15, in tf__train_function\n    retval_ = ag__.converted_call(ag__.ld(step_function), (ag__.ld(self), ag__.ld(iterator)), None, fscope)\nValueError: in user code:\n\n    File \"/home/toandokhanh/.local/lib/python3.10/site-packages/keras/engine/training.py\", line 1284, in train_function  *\n        return step_function(self, iterator)\n    File \"/home/toandokhanh/.local/lib/python3.10/site-packages/keras/engine/training.py\", line 1268, in step_function  **\n        outputs = model.distribute_strategy.run(run_step, args=(data,))\n    File \"/home/toandokhanh/.local/lib/python3.10/site-packages/keras/engine/training.py\", line 1249, in run_step  **\n        outputs = model.train_step(data)\n    File \"/home/toandokhanh/.local/lib/python3.10/site-packages/keras/engine/training.py\", line 1051, in train_step\n        loss = self.compute_loss(x, y, y_pred, sample_weight)\n    File \"/home/toandokhanh/.local/lib/python3.10/site-packages/keras/engine/training.py\", line 1109, in compute_loss\n        return self.compiled_loss(\n    File \"/home/toandokhanh/.local/lib/python3.10/site-packages/keras/engine/compile_utils.py\", line 265, in __call__\n        loss_value = loss_obj(y_t, y_p, sample_weight=sw)\n    File \"/home/toandokhanh/.local/lib/python3.10/site-packages/keras/losses.py\", line 142, in __call__\n        losses = call_fn(y_true, y_pred)\n    File \"/home/toandokhanh/.local/lib/python3.10/site-packages/keras/losses.py\", line 268, in call  **\n        return ag_fn(y_true, y_pred, **self._fn_kwargs)\n    File \"/home/toandokhanh/.local/lib/python3.10/site-packages/keras/losses.py\", line 1984, in categorical_crossentropy\n        return backend.categorical_crossentropy(\n    File \"/home/toandokhanh/.local/lib/python3.10/site-packages/keras/backend.py\", line 5559, in categorical_crossentropy\n        target.shape.assert_is_compatible_with(output.shape)\n\n    ValueError: Shapes (None, 10) and (None, 9) are incompatible\n\n"
     ]
    }
   ],
   "source": [
    "# neuron = 9\n",
    "from numpy.random import seed \n",
    "seed(1)\n",
    "import tensorflow\n",
    "tensorflow.random.set_seed(1)\n",
    "\n",
    "import pandas as pd\n",
    "import tensorflow as tf\n",
    "from keras.wrappers.scikit_learn import KerasClassifier\n",
    "from keras.models import Sequential\n",
    "from keras.layers import Dense, Conv2D, Flatten\n",
    "from sklearn.model_selection import cross_validate\n",
    "\n",
    "X_image = digits.images.reshape(digits.images.shape[0], digits.images.shape[1],\n",
    "                               digits.images.shape[1], 1).astype('float32')\n",
    "print(X_image.shape)\n",
    "y_image = y\n",
    "print(y_image.shape)\n",
    "#print(y.shape)\n",
    "def create_model():\n",
    "        model = Sequential()\n",
    "        model.add(Conv2D(64, kernel_size=3, activation='relu', input_shape=(8,8,1)))\n",
    "        model.add(Flatten())\n",
    "        model.add(Dense(64))\n",
    "        model.add(Dense(9, activation='softmax'))\n",
    "        model.compile(optimizer='adam', loss='categorical_crossentropy', metrics=['accuracy'])\n",
    "        return model\n",
    "model = KerasClassifier(build_fn = create_model, epochs=100, batch_size=256, verbose=0)\n",
    "    \n",
    "scoring = { 'acc': 'accuracy','prec_macro': 'precision_macro',\n",
    "           'rec_micro': 'recall_macro', 'fl_score': 'f1_macro'          \n",
    "}\n",
    "scores = cross_validate(model, X_image, y_image, scoring=scoring, cv=2, return_train_score=True)\n",
    "print('CNN')\n",
    "scores"
   ]
  },
  {
   "cell_type": "markdown",
   "id": "571cefc1",
   "metadata": {},
   "source": [
    "### Nhận xét:\n",
    "###### code sẽ báo lỗi bởi vì:\n",
    "- có một vấn đề với các lớp convolutional và kích thước đầu vào. Khi thay đổi số lượng neuron trong lớp dense cuối cùng, nó ảnh hưởng đến hình dạng đầu ra của các lớp trước đó, bao gồm các lớp convolutional. Trong trường hợp này, có vẻ rằng các lớp convolutional được thiết kế với một hình dạng đầu ra cụ thể trong tâm trí và việc thay đổi số lượng neuron trong lớp dense cuối cùng đã dẫn đến một cấu hình không hợp lệ.\n",
    "\n"
   ]
  },
  {
   "cell_type": "code",
   "execution_count": null,
   "id": "8144fb63",
   "metadata": {},
   "outputs": [],
   "source": []
  },
  {
   "cell_type": "code",
   "execution_count": null,
   "id": "51ba061a",
   "metadata": {},
   "outputs": [],
   "source": []
  }
 ],
 "metadata": {
  "kernelspec": {
   "display_name": "Python 3 (ipykernel)",
   "language": "python",
   "name": "python3"
  },
  "language_info": {
   "codemirror_mode": {
    "name": "ipython",
    "version": 3
   },
   "file_extension": ".py",
   "mimetype": "text/x-python",
   "name": "python",
   "nbconvert_exporter": "python",
   "pygments_lexer": "ipython3",
   "version": "3.10.6"
  }
 },
 "nbformat": 4,
 "nbformat_minor": 5
}
