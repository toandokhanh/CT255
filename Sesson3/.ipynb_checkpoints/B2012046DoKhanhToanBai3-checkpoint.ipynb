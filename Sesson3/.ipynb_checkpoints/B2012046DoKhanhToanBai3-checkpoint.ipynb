{
 "cells": [
  {
   "cell_type": "markdown",
   "id": "93fc2218",
   "metadata": {},
   "source": [
    "# CT255 - Buổi 3 - Bài toán phân lớp"
   ]
  },
  {
   "cell_type": "markdown",
   "id": "3ae57925",
   "metadata": {},
   "source": [
    "### Đỗ Khánh Toàn B2012046"
   ]
  },
  {
   "cell_type": "markdown",
   "id": "88d10ad6",
   "metadata": {},
   "source": [
    "##### 1. Bài toán phân lớp là gì? Các ứng dụng của nó. Có bao nhiêu độ đo trong bài toán phân lớp. Trình bày các công thức tính các độ đo, chú thích rõ các thành phần trong công thức.\n"
   ]
  },
  {
   "attachments": {
    "image-2.png": {
     "image/png": "[encoded data removed]"
    },
    "image-3.png": {
     "image/png": "[encoded data removed]"
    },
    "image-4.png": {
     "image/png": "[encoded data removed]"
    },
    "image.png": {
     "image/png": "[encoded data removed]"
    }
   },
   "cell_type": "markdown",
   "id": "e205feee",
   "metadata": {},
   "source": [
    "Bài toán phân lớp là quá trình phân lớp một đối tượng dữ liệu vào một hay nhiều lớp đã cho trước nhờ một mô hình phân lớp1. Các ứng dụng của bài toán phân lớp có thể là phát hiện gian lận, nhận diện khuôn mặt, phân loại văn bản, chẩn đoán bệnh, v.v. Có nhiều độ đo trong bài toán phân lớp, nhưng một số độ đo phổ biến là độ chính xác (accuracy), độ nhạy (recall), độ chính xác tính theo từng lớp (precision) và điểm F1 (F1-score). Các công thức tính các độ đo như sau:\n",
    "\n",
    "Độ chính xác: tỉ lệ giữa số mẫu được phân lớp đúng và tổng số mẫu.\n",
    "![image.png](attachment:image.png)\n",
    "\n",
    "Độ nhạy: tỉ lệ giữa số mẫu thuộc lớp tích cực được phân lớp đúng và tổng số mẫu thuộc lớp tích cực. \n",
    "![image-2.png](attachment:image-2.png)\n",
    "\n",
    "Độ chính xác tính theo từng lớp: tỉ lệ giữa số mẫu thuộc lớp tích cực được phân lớp đúng và tổng số mẫu được phân lớp vào lớp tích cực. \n",
    "![image-3.png](attachment:image-3.png)\n",
    "\n",
    "Điểm F1: trung bình điều hòa của độ nhạy và độ chính xác tính theo từng lớp. \n",
    "![image-4.png](attachment:image-4.png)\n",
    "\n",
    "\n",
    "TP: số mẫu thuộc lớp tích cực được phân lớp đúng (true positive).\n",
    "TN: số mẫu thuộc lớp tiêu cực được phân lớp đúng (true negative).\n",
    "FP: số mẫu thuộc lớp tiêu cực bị phân lớp sai vào lớp tích cực (false positive).\n",
    "FN: số mẫu thuộc lớp tích cực bị phân lớp sai vào lớp tiêu cực (false negative)."
   ]
  },
  {
   "cell_type": "markdown",
   "id": "49616a32",
   "metadata": {},
   "source": [
    "Link tham khảo: \n",
    "\n",
    "https://www.iostream.vn/article/bai-toan-phan-lop-trong-machine-learning-classification-in-machine-learning-515OIh\n",
    "\n",
    "https://viblo.asia/p/thuat-toan-phan-lop-naive-bayes-924lJWPm5PM\n",
    "\n",
    "https://vndoc.com/tuyen-tap-cac-bai-bai-toan-ve-phan-so-lop-4-5-123286"
   ]
  },
  {
   "cell_type": "markdown",
   "id": "5f6dd2be",
   "metadata": {},
   "source": [
    "#####  2. Thực hiện lại các hướng dẫn từ trang 77 đến 84 để hiểu rõ cách cài đặt thực nghiệm bài toán phân lớp với các giải thuật khác nhau.\n"
   ]
  },
  {
   "cell_type": "markdown",
   "id": "40a4fcdd",
   "metadata": {},
   "source": [
    "Tải dữ liệu từ thư viện SKLEARN"
   ]
  },
  {
   "cell_type": "code",
   "execution_count": 2,
   "id": "efc0af86",
   "metadata": {},
   "outputs": [
    {
     "name": "stdout",
     "output_type": "stream",
     "text": [
      "(1797, 64)\n"
     ]
    }
   ],
   "source": [
    "from sklearn.datasets import load_digits\n",
    "X,y = load_digits(return_X_y=True)\n",
    "print(X.shape)"
   ]
  },
  {
   "cell_type": "code",
   "execution_count": 3,
   "id": "efc30137",
   "metadata": {},
   "outputs": [
    {
     "name": "stdout",
     "output_type": "stream",
     "text": [
      "[0 1 2 ... 8 9 8]\n",
      "[ 0.  0.  0. 12. 13.  5.  0.  0.  0.  0.  0. 11. 16.  9.  0.  0.  0.  0.\n",
      "  3. 15. 16.  6.  0.  0.  0.  7. 15. 16. 16.  2.  0.  0.  0.  0.  1. 16.\n",
      " 16.  3.  0.  0.  0.  0.  1. 16. 16.  6.  0.  0.  0.  0.  1. 16. 16.  6.\n",
      "  0.  0.  0.  0.  0. 11. 16. 10.  0.  0.]\n",
      "16.0\n",
      "0.0\n"
     ]
    }
   ],
   "source": [
    "import numpy as np\n",
    "print(y)\n",
    "print(X[1])\n",
    "print(np.max(X))\n",
    "print(np.min(X))"
   ]
  },
  {
   "cell_type": "markdown",
   "id": "f9d08f6d",
   "metadata": {},
   "source": [
    "Các mẫu dưới dạng ảnh trong thư viện matplotlib"
   ]
  },
  {
   "cell_type": "code",
   "execution_count": 4,
   "id": "fd70c014",
   "metadata": {},
   "outputs": [
    {
     "data": {
      "text/plain": [
       "<Figure size 432x288 with 0 Axes>"
      ]
     },
     "metadata": {},
     "output_type": "display_data"
    },
    {
     "data": {
      "image/png": "[encoded data removed]",
      "text/plain": [
       "<Figure size 288x288 with 1 Axes>"
      ]
     },
     "metadata": {
      "needs_background": "light"
     },
     "output_type": "display_data"
    },
    {
     "data": {
      "image/png": "[encoded data removed]",
      "text/plain": [
       "<Figure size 288x288 with 1 Axes>"
      ]
     },
     "metadata": {
      "needs_background": "light"
     },
     "output_type": "display_data"
    }
   ],
   "source": [
    "import matplotlib.pyplot as plt\n",
    "digits = load_digits()\n",
    "plt.gray()\n",
    "plt.matshow(digits.images[0])\n",
    "plt.matshow(digits.images[1])\n",
    "plt.show()"
   ]
  },
  {
   "cell_type": "markdown",
   "id": "e6a8e34b",
   "metadata": {},
   "source": [
    "Phân lớp ảnh với các thuật toán ML cổ điển"
   ]
  },
  {
   "cell_type": "code",
   "execution_count": 5,
   "id": "29c28285",
   "metadata": {},
   "outputs": [
    {
     "name": "stderr",
     "output_type": "stream",
     "text": [
      "/home/toandokhanh/.local/lib/python3.10/site-packages/sklearn/linear_model/_logistic.py:444: ConvergenceWarning: lbfgs failed to converge (status=1):\n",
      "STOP: TOTAL NO. of ITERATIONS REACHED LIMIT.\n",
      "\n",
      "Increase the number of iterations (max_iter) or scale the data as shown in:\n",
      "    https://scikit-learn.org/stable/modules/preprocessing.html\n",
      "Please also refer to the documentation for alternative solver options:\n",
      "    https://scikit-learn.org/stable/modules/linear_model.html#logistic-regression\n",
      "  n_iter_i = _check_optimize_result(\n"
     ]
    },
    {
     "name": "stdout",
     "output_type": "stream",
     "text": [
      "Lần lặp 1\n",
      "Kết quả trên tập huấn luyện bằng = \n",
      "              precision    recall  f1-score   support\n",
      "\n",
      "           0       1.00      1.00      1.00        89\n",
      "           1       1.00      1.00      1.00        91\n",
      "           2       1.00      1.00      1.00        88\n",
      "           3       1.00      1.00      1.00        92\n",
      "           4       1.00      1.00      1.00        90\n",
      "           5       1.00      1.00      1.00        91\n",
      "           6       1.00      1.00      1.00        91\n",
      "           7       1.00      1.00      1.00        89\n",
      "           8       1.00      1.00      1.00        87\n",
      "           9       1.00      1.00      1.00        90\n",
      "\n",
      "    accuracy                           1.00       898\n",
      "   macro avg       1.00      1.00      1.00       898\n",
      "weighted avg       1.00      1.00      1.00       898\n",
      "\n",
      "Kết quả logistic_cl tập kiểm tra = \n",
      "              precision    recall  f1-score   support\n",
      "\n",
      "           0       0.98      1.00      0.99        89\n",
      "           1       0.67      0.96      0.79        91\n",
      "           2       1.00      0.82      0.90        89\n",
      "           3       0.95      0.90      0.93        91\n",
      "           4       0.94      0.84      0.88        91\n",
      "           5       0.98      0.89      0.93        91\n",
      "           6       0.97      0.93      0.95        90\n",
      "           7       0.99      0.89      0.94        90\n",
      "           8       0.81      0.94      0.87        87\n",
      "           9       0.86      0.83      0.85        90\n",
      "\n",
      "    accuracy                           0.90       899\n",
      "   macro avg       0.91      0.90      0.90       899\n",
      "weighted avg       0.91      0.90      0.90       899\n",
      "\n",
      "[[89  0  0  0  0  0  0  0  0  0]\n",
      " [ 0 87  0  0  1  0  3  0  0  0]\n",
      " [ 0 13 73  0  0  0  0  0  3  0]\n",
      " [ 0  0  0 82  0  0  0  0  6  3]\n",
      " [ 0 14  0  0 76  0  0  1  0  0]\n",
      " [ 0  0  0  2  1 81  0  0  3  4]\n",
      " [ 0  0  0  0  2  1 84  0  3  0]\n",
      " [ 2  0  0  2  1  0  0 80  0  5]\n",
      " [ 0  5  0  0  0  0  0  0 82  0]\n",
      " [ 0 10  0  0  0  1  0  0  4 75]]\n"
     ]
    },
    {
     "data": {
      "image/png": "[encoded data removed]",
      "text/plain": [
       "<Figure size 288x288 with 2 Axes>"
      ]
     },
     "metadata": {
      "needs_background": "light"
     },
     "output_type": "display_data"
    },
    {
     "name": "stderr",
     "output_type": "stream",
     "text": [
      "/home/toandokhanh/.local/lib/python3.10/site-packages/sklearn/linear_model/_logistic.py:444: ConvergenceWarning: lbfgs failed to converge (status=1):\n",
      "STOP: TOTAL NO. of ITERATIONS REACHED LIMIT.\n",
      "\n",
      "Increase the number of iterations (max_iter) or scale the data as shown in:\n",
      "    https://scikit-learn.org/stable/modules/preprocessing.html\n",
      "Please also refer to the documentation for alternative solver options:\n",
      "    https://scikit-learn.org/stable/modules/linear_model.html#logistic-regression\n",
      "  n_iter_i = _check_optimize_result(\n"
     ]
    },
    {
     "name": "stdout",
     "output_type": "stream",
     "text": [
      "Lần lặp 2\n",
      "Kết quả trên tập huấn luyện bằng = \n",
      "              precision    recall  f1-score   support\n",
      "\n",
      "           0       1.00      1.00      1.00        89\n",
      "           1       1.00      1.00      1.00        91\n",
      "           2       1.00      1.00      1.00        89\n",
      "           3       1.00      1.00      1.00        91\n",
      "           4       1.00      1.00      1.00        91\n",
      "           5       1.00      1.00      1.00        91\n",
      "           6       1.00      1.00      1.00        90\n",
      "           7       1.00      1.00      1.00        90\n",
      "           8       1.00      1.00      1.00        87\n",
      "           9       1.00      1.00      1.00        90\n",
      "\n",
      "    accuracy                           1.00       899\n",
      "   macro avg       1.00      1.00      1.00       899\n",
      "weighted avg       1.00      1.00      1.00       899\n",
      "\n",
      "Kết quả logistic_cl tập kiểm tra = \n",
      "              precision    recall  f1-score   support\n",
      "\n",
      "           0       0.99      0.96      0.97        89\n",
      "           1       0.94      0.90      0.92        91\n",
      "           2       1.00      0.98      0.99        88\n",
      "           3       0.94      0.84      0.89        92\n",
      "           4       0.98      0.91      0.94        90\n",
      "           5       0.89      0.95      0.91        91\n",
      "           6       0.90      0.99      0.94        91\n",
      "           7       0.98      0.96      0.97        89\n",
      "           8       0.91      0.90      0.90        87\n",
      "           9       0.83      0.94      0.88        90\n",
      "\n",
      "    accuracy                           0.93       898\n",
      "   macro avg       0.93      0.93      0.93       898\n",
      "weighted avg       0.93      0.93      0.93       898\n",
      "\n",
      "[[85  0  0  0  1  0  3  0  0  0]\n",
      " [ 0 82  0  1  0  1  1  0  1  5]\n",
      " [ 0  0 86  2  0  0  0  0  0  0]\n",
      " [ 0  0  0 77  0  4  0  2  7  2]\n",
      " [ 0  0  0  0 82  0  4  0  0  4]\n",
      " [ 0  1  0  0  0 86  1  0  0  3]\n",
      " [ 0  1  0  0  0  0 90  0  0  0]\n",
      " [ 0  0  0  0  1  1  0 85  0  2]\n",
      " [ 0  3  0  0  0  3  1  0 78  2]\n",
      " [ 1  0  0  2  0  2  0  0  0 85]]\n"
     ]
    },
    {
     "data": {
      "image/png": "[encoded data removed]",
      "text/plain": [
       "<Figure size 288x288 with 2 Axes>"
      ]
     },
     "metadata": {
      "needs_background": "light"
     },
     "output_type": "display_data"
    }
   ],
   "source": [
    "from sklearn.model_selection import StratifiedKFold\n",
    "from sklearn import linear_model\n",
    "logistic_cl = linear_model.LogisticRegression()\n",
    "from sklearn.metrics import classification_report\n",
    "from sklearn.metrics import confusion_matrix\n",
    "import matplotlib.pyplot as plt\n",
    "skf  =StratifiedKFold(n_splits=2)\n",
    "skf.get_n_splits(X,y)\n",
    "i=1\n",
    "for train_index, test_index, in skf.split(X,y):\n",
    "    X_train, X_test = X[train_index], X[test_index]\n",
    "    y_train,y_test = y[train_index], y[test_index]\n",
    "    logistic_cl.fit(X_train,y_train)\n",
    "    print('Lần lặp', i)\n",
    "\n",
    "    y_train_pred =logistic_cl.predict(X_train)\n",
    "    print('Kết quả trên tập huấn luyện bằng = ')\n",
    "    print(classification_report(y_train, y_train_pred))\n",
    "\n",
    "    print('Kết quả logistic_cl tập kiểm tra = ')\n",
    "    y_test_pred = logistic_cl.predict(X_test)\n",
    "    print(classification_report(y_test, y_test_pred))\n",
    "    cm = confusion_matrix(y_test, y_test_pred)\n",
    "    print(cm)\n",
    "    plt.matshow(cm)\n",
    "    plt.title('Confusion matrix')\n",
    "    plt.colorbar()\n",
    "    plt.ylabel('Gia trị thực')\n",
    "    plt.xlabel('Gía trị dự đoán')\n",
    "    plt.show()\n",
    "    i=i+1\n"
   ]
  },
  {
   "cell_type": "markdown",
   "id": "5a924204",
   "metadata": {},
   "source": [
    "Dùng cross_val_score trong cross-validation"
   ]
  },
  {
   "cell_type": "code",
   "execution_count": 6,
   "id": "727cb8bd",
   "metadata": {},
   "outputs": [
    {
     "name": "stderr",
     "output_type": "stream",
     "text": [
      "/home/toandokhanh/.local/lib/python3.10/site-packages/sklearn/linear_model/_logistic.py:444: ConvergenceWarning: lbfgs failed to converge (status=1):\n",
      "STOP: TOTAL NO. of ITERATIONS REACHED LIMIT.\n",
      "\n",
      "Increase the number of iterations (max_iter) or scale the data as shown in:\n",
      "    https://scikit-learn.org/stable/modules/preprocessing.html\n",
      "Please also refer to the documentation for alternative solver options:\n",
      "    https://scikit-learn.org/stable/modules/linear_model.html#logistic-regression\n",
      "  n_iter_i = _check_optimize_result(\n",
      "/home/toandokhanh/.local/lib/python3.10/site-packages/sklearn/linear_model/_logistic.py:444: ConvergenceWarning: lbfgs failed to converge (status=1):\n",
      "STOP: TOTAL NO. of ITERATIONS REACHED LIMIT.\n",
      "\n",
      "Increase the number of iterations (max_iter) or scale the data as shown in:\n",
      "    https://scikit-learn.org/stable/modules/preprocessing.html\n",
      "Please also refer to the documentation for alternative solver options:\n",
      "    https://scikit-learn.org/stable/modules/linear_model.html#logistic-regression\n",
      "  n_iter_i = _check_optimize_result(\n"
     ]
    },
    {
     "data": {
      "text/plain": [
       "{'fit_time': array([0.06232738, 0.04740405]),\n",
       " 'score_time': array([0.00389814, 0.00379109]),\n",
       " 'test_acc': array([0.89988877, 0.93095768]),\n",
       " 'train_acc': array([1., 1.]),\n",
       " 'test_prec_macro': array([0.91472259, 0.93419446]),\n",
       " 'train_prec_macro': array([1., 1.]),\n",
       " 'test_rec_micro': array([0.90007266, 0.93116137]),\n",
       " 'train_rec_micro': array([1., 1.]),\n",
       " 'test_fl_score': array([0.90269647, 0.9314643 ]),\n",
       " 'train_fl_score': array([1., 1.])}"
      ]
     },
     "execution_count": 6,
     "metadata": {},
     "output_type": "execute_result"
    }
   ],
   "source": [
    "from sklearn.model_selection import cross_validate\n",
    "ligistic_cl = linear_model.LogisticRegression()\n",
    "scoring = { 'acc': 'accuracy','prec_macro': 'precision_macro',\n",
    "           'rec_micro': 'recall_macro', 'fl_score': 'f1_macro'\n",
    "    \n",
    "           \n",
    "}\n",
    "scores = cross_validate(logistic_cl, X, y, scoring=scoring, cv=2, return_train_score=True)\n",
    "scores"
   ]
  },
  {
   "cell_type": "markdown",
   "id": "72892f25",
   "metadata": {},
   "source": [
    "Thực hiện phân lớp với SVM"
   ]
  },
  {
   "cell_type": "code",
   "execution_count": 8,
   "id": "84e49233",
   "metadata": {},
   "outputs": [
    {
     "name": "stdout",
     "output_type": "stream",
     "text": [
      "svm\n"
     ]
    },
    {
     "data": {
      "text/plain": [
       "{'fit_time': array([0.02398205, 0.01599169]),\n",
       " 'score_time': array([0.03308725, 0.02644444]),\n",
       " 'test_acc': array([0.95439377, 0.95991091]),\n",
       " 'train_acc': array([0.99554566, 0.99888765]),\n",
       " 'test_prec_macro': array([0.95730055, 0.96098935]),\n",
       " 'train_prec_macro': array([0.99559972, 0.9989011 ]),\n",
       " 'test_rec_micro': array([0.95442358, 0.96012134]),\n",
       " 'train_rec_micro': array([0.99547893, 0.9989011 ]),\n",
       " 'test_fl_score': array([0.95483208, 0.95999411]),\n",
       " 'train_fl_score': array([0.9955089 , 0.99889503])}"
      ]
     },
     "execution_count": 8,
     "metadata": {},
     "output_type": "execute_result"
    }
   ],
   "source": [
    "from sklearn import svm\n",
    "svm_clf = svm.SVC()\n",
    "scoring = { 'acc': 'accuracy','prec_macro': 'precision_macro',\n",
    "           'rec_micro': 'recall_macro', 'fl_score': 'f1_macro'          \n",
    "}\n",
    "scores = cross_validate(svm_clf, X, y,scoring=scoring, cv=2, return_train_score=True)\n",
    "print('svm')\n",
    "scores"
   ]
  },
  {
   "cell_type": "markdown",
   "id": "f31063ff",
   "metadata": {},
   "source": [
    "K láng giềng (KNeighborClassifier)"
   ]
  },
  {
   "cell_type": "code",
   "execution_count": 9,
   "id": "5bf470d7",
   "metadata": {},
   "outputs": [
    {
     "name": "stdout",
     "output_type": "stream",
     "text": [
      "KNeighborsClassifier()\n"
     ]
    },
    {
     "data": {
      "text/plain": [
       "{'fit_time': array([0.00062823, 0.00042796]),\n",
       " 'score_time': array([0.10886884, 0.02285218]),\n",
       " 'test_acc': array([0.95216908, 0.95434298]),\n",
       " 'train_acc': array([0.99331849, 0.98887653]),\n",
       " 'test_prec_macro': array([0.95622072, 0.95508154]),\n",
       " 'train_prec_macro': array([0.99347775, 0.98906462]),\n",
       " 'test_rec_micro': array([0.95203757, 0.95418908]),\n",
       " 'train_rec_micro': array([0.99325561, 0.98874784]),\n",
       " 'test_fl_score': array([0.95260588, 0.95426541]),\n",
       " 'train_fl_score': array([0.99331071, 0.98880415])}"
      ]
     },
     "execution_count": 9,
     "metadata": {},
     "output_type": "execute_result"
    }
   ],
   "source": [
    "from sklearn.neighbors import KNeighborsClassifier\n",
    "neigh = KNeighborsClassifier()\n",
    "#neigh.fit(scoring)\n",
    "svm_clf = KNeighborsClassifier()\n",
    "scoring = { 'acc': 'accuracy','prec_macro': 'precision_macro',\n",
    "           'rec_micro': 'recall_macro', 'fl_score': 'f1_macro'          \n",
    "}\n",
    "\n",
    "scores = cross_validate(svm_clf, X,y, scoring=scoring, cv=2, return_train_score=True)\n",
    "\n",
    "print(neigh)\n",
    "scores\n"
   ]
  },
  {
   "cell_type": "markdown",
   "id": "c58bd372",
   "metadata": {},
   "source": [
    "Cây quyết định (DecisionTreeClassifier)"
   ]
  },
  {
   "cell_type": "code",
   "execution_count": 10,
   "id": "5a5eec6a",
   "metadata": {},
   "outputs": [
    {
     "name": "stdout",
     "output_type": "stream",
     "text": [
      "DecisionTreeClassifier()\n"
     ]
    },
    {
     "data": {
      "text/plain": [
       "{'fit_time': array([0.0082407 , 0.00664616]),\n",
       " 'score_time': array([0.00267673, 0.00244641]),\n",
       " 'test_acc': array([0.76418242, 0.76503341]),\n",
       " 'train_acc': array([1., 1.]),\n",
       " 'test_prec_macro': array([0.77985084, 0.77287652]),\n",
       " 'train_prec_macro': array([1., 1.]),\n",
       " 'test_rec_micro': array([0.76481756, 0.76441853]),\n",
       " 'train_rec_micro': array([1., 1.]),\n",
       " 'test_fl_score': array([0.76250543, 0.76410293]),\n",
       " 'train_fl_score': array([1., 1.])}"
      ]
     },
     "execution_count": 10,
     "metadata": {},
     "output_type": "execute_result"
    }
   ],
   "source": [
    "from sklearn.tree import DecisionTreeClassifier\n",
    "decis = DecisionTreeClassifier()\n",
    "#neigh.fit(scoring)\n",
    "svm_clf = DecisionTreeClassifier()\n",
    "scoring = { 'acc': 'accuracy','prec_macro': 'precision_macro',\n",
    "           'rec_micro': 'recall_macro', 'fl_score': 'f1_macro'          \n",
    "}\n",
    "\n",
    "scores = cross_validate(svm_clf, X,y, scoring=scoring, cv=2, return_train_score=True)\n",
    "\n",
    "print(decis)\n",
    "scores"
   ]
  },
  {
   "cell_type": "markdown",
   "id": "ddacd954",
   "metadata": {},
   "source": [
    "Rừng ngẫu nhiên (RandomForestClassifier)"
   ]
  },
  {
   "cell_type": "code",
   "execution_count": 11,
   "id": "dc60679b",
   "metadata": {},
   "outputs": [
    {
     "name": "stdout",
     "output_type": "stream",
     "text": [
      "RandomForestClassifier()\n"
     ]
    },
    {
     "data": {
      "text/plain": [
       "{'fit_time': array([0.14338923, 0.14292026]),\n",
       " 'score_time': array([0.01725078, 0.01830244]),\n",
       " 'test_acc': array([0.9243604 , 0.93429844]),\n",
       " 'train_acc': array([1., 1.]),\n",
       " 'test_prec_macro': array([0.9267631 , 0.93598206]),\n",
       " 'train_prec_macro': array([1., 1.]),\n",
       " 'test_rec_micro': array([0.92444322, 0.93439421]),\n",
       " 'train_rec_micro': array([1., 1.]),\n",
       " 'test_fl_score': array([0.92470981, 0.93442124]),\n",
       " 'train_fl_score': array([1., 1.])}"
      ]
     },
     "execution_count": 11,
     "metadata": {},
     "output_type": "execute_result"
    }
   ],
   "source": [
    "from sklearn.ensemble import RandomForestClassifier\n",
    "rand = RandomForestClassifier()\n",
    "#neigh.fit(scoring)\n",
    "svm_clf = RandomForestClassifier()\n",
    "scoring = { 'acc': 'accuracy','prec_macro': 'precision_macro',\n",
    "           'rec_micro': 'recall_macro', 'fl_score': 'f1_macro'          \n",
    "}\n",
    "\n",
    "scores = cross_validate(svm_clf, X,y, scoring=scoring, cv=2, return_train_score=True)\n",
    "\n",
    "print(rand)\n",
    "scores"
   ]
  },
  {
   "cell_type": "markdown",
   "id": "ca099a92",
   "metadata": {},
   "source": [
    "Tải dữ liệu Digits dưới dạng hình ảnh"
   ]
  },
  {
   "cell_type": "code",
   "execution_count": 12,
   "id": "acc3006d",
   "metadata": {},
   "outputs": [
    {
     "data": {
      "text/plain": [
       "(1797, 8, 8)"
      ]
     },
     "execution_count": 12,
     "metadata": {},
     "output_type": "execute_result"
    }
   ],
   "source": [
    "from sklearn.datasets import load_digits\n",
    "digits = load_digits()\n",
    "digits.images.shape"
   ]
  },
  {
   "cell_type": "markdown",
   "id": "c7aca689",
   "metadata": {},
   "source": [
    "Học sâu mạng nơ-ron tích chập"
   ]
  },
  {
   "cell_type": "code",
   "execution_count": 13,
   "id": "875d5e81",
   "metadata": {},
   "outputs": [
    {
     "name": "stderr",
     "output_type": "stream",
     "text": [
      "2023-09-07 09:53:11.100433: I tensorflow/tsl/cuda/cudart_stub.cc:28] Could not find cuda drivers on your machine, GPU will not be used.\n",
      "2023-09-07 09:53:11.485040: I tensorflow/tsl/cuda/cudart_stub.cc:28] Could not find cuda drivers on your machine, GPU will not be used.\n",
      "2023-09-07 09:53:11.490895: I tensorflow/core/platform/cpu_feature_guard.cc:182] This TensorFlow binary is optimized to use available CPU instructions in performance-critical operations.\n",
      "To enable the following instructions: AVX2 FMA, in other operations, rebuild TensorFlow with the appropriate compiler flags.\n",
      "2023-09-07 09:53:21.048362: W tensorflow/compiler/tf2tensorrt/utils/py_utils.cc:38] TF-TRT Warning: Could not find TensorRT\n"
     ]
    },
    {
     "name": "stdout",
     "output_type": "stream",
     "text": [
      "(1797, 8, 8, 1)\n",
      "(1797,)\n"
     ]
    },
    {
     "name": "stderr",
     "output_type": "stream",
     "text": [
      "/tmp/ipykernel_71/2172697974.py:27: DeprecationWarning: KerasClassifier is deprecated, use Sci-Keras (https://github.com/adriangb/scikeras) instead. See https://www.adriangb.com/scikeras/stable/migration.html for help migrating.\n",
      "  model = KerasClassifier(build_fn = create_model, epochs=100, batch_size=256, verbose=0)\n"
     ]
    },
    {
     "name": "stdout",
     "output_type": "stream",
     "text": [
      "29/29 [==============================] - 0s 1ms/step\n",
      "29/29 [==============================] - 0s 1ms/step\n",
      "29/29 [==============================] - 0s 1ms/step\n",
      "29/29 [==============================] - 0s 1ms/step\n",
      "CNN\n"
     ]
    },
    {
     "data": {
      "text/plain": [
       "{'fit_time': array([3.17655492, 2.57028461]),\n",
       " 'score_time': array([0.1604774 , 0.11971354]),\n",
       " 'test_acc': array([0.93214683, 0.94877506]),\n",
       " 'train_acc': array([1., 1.]),\n",
       " 'test_prec_macro': array([0.93631127, 0.94974845]),\n",
       " 'train_prec_macro': array([1., 1.]),\n",
       " 'test_rec_micro': array([0.93201114, 0.94885176]),\n",
       " 'train_rec_micro': array([1., 1.]),\n",
       " 'test_fl_score': array([0.9322238 , 0.94865897]),\n",
       " 'train_fl_score': array([1., 1.])}"
      ]
     },
     "execution_count": 13,
     "metadata": {},
     "output_type": "execute_result"
    }
   ],
   "source": [
    "from numpy.random import seed \n",
    "seed(1)\n",
    "import tensorflow\n",
    "tensorflow.random.set_seed(1)\n",
    "\n",
    "import pandas as pd\n",
    "import tensorflow as tf\n",
    "from keras.wrappers.scikit_learn import KerasClassifier\n",
    "from keras.models import Sequential\n",
    "from keras.layers import Dense, Conv2D, Flatten\n",
    "from sklearn.model_selection import cross_validate\n",
    "\n",
    "X_image = digits.images.reshape(digits.images.shape[0], digits.images.shape[1],\n",
    "                               digits.images.shape[1], 1).astype('float32')\n",
    "print(X_image.shape)\n",
    "y_image = y\n",
    "print(y_image.shape)\n",
    "#print(y.shape)\n",
    "def create_model():\n",
    "        model = Sequential()\n",
    "        model.add(Conv2D(64, kernel_size=3, activation='relu', input_shape=(8,8,1)))\n",
    "        model.add(Flatten())\n",
    "        model.add(Dense(64))\n",
    "        model.add(Dense(10, activation='softmax'))\n",
    "        model.compile(optimizer='adam', loss='categorical_crossentropy', metrics=['accuracy'])\n",
    "        return model\n",
    "model = KerasClassifier(build_fn = create_model, epochs=100, batch_size=256, verbose=0)\n",
    "    \n",
    "scoring = { 'acc': 'accuracy','prec_macro': 'precision_macro',\n",
    "           'rec_micro': 'recall_macro', 'fl_score': 'f1_macro'          \n",
    "}\n",
    "scores = cross_validate(model, X_image, y_image, scoring=scoring, cv=2, return_train_score=True)\n",
    "print('CNN')\n",
    "scores"
   ]
  },
  {
   "cell_type": "markdown",
   "id": "c0df25ea",
   "metadata": {},
   "source": [
    "##### 3. Hãy cho trình bày các loại cross validation. Phân tích cách sử dụng của mỗi loại.\n"
   ]
  },
  {
   "cell_type": "markdown",
   "id": "75470906",
   "metadata": {},
   "source": [
    "Cross validation là một phương pháp thống kê để ước lượng hiệu quả của các mô hình học máy. Có nhiều loại cross validation, nhưng ba loại phổ biến nhất là:\n",
    "\n",
    "Hold-out: chia dữ liệu thành hai tập: học và kiểm tra. Phù hợp với dữ liệu lớn và đồng nhất.\n",
    "\n",
    "\n",
    "K-fold: chia dữ liệu thành K tập con, mỗi tập con làm tập kiểm tra một lần13. Phù hợp với dữ liệu nhỏ và không đồng nhất.\n",
    "\n",
    "\n",
    "Leave-one-out: tương tự K-fold nhưng K bằng số dữ liệu. Phù hợp với dữ liệu rất nhỏ."
   ]
  },
  {
   "cell_type": "markdown",
   "id": "b00fd27b",
   "metadata": {},
   "source": [
    "Link tham khảo:\n",
    "\n",
    "https://trituenhantao.io/kien-thuc/gioi-thieu-ve-k-fold-cross-validation/\n",
    "\n",
    "https://scikit-learn.org/stable/modules/cross_validation.html\n",
    "\n",
    "https://miai.vn/2021/01/18/k-fold-cross-validation-tuyet-chieu-train-khi-it-du-lieu/"
   ]
  },
  {
   "cell_type": "markdown",
   "id": "2ee7ace3",
   "metadata": {},
   "source": [
    "##### 4.\tHãy cho biết số k trong cross validation ý nghĩa là gì? Nên chọn số k bao nhiêu cho phù hợp với các bài toán?"
   ]
  },
  {
   "cell_type": "markdown",
   "id": "ad5cbe55",
   "metadata": {},
   "source": [
    "Số k trong cross validation là số nhóm mà dữ liệu sẽ được chia ra để đánh giá mô hình học máy. Số k phù hợp phụ thuộc vào số lượng và tính chất của dữ liệu. Một số nguyên tắc cơ bản là:\n",
    "\n",
    "Nếu dữ liệu ít, k nên lớn để tận dụng tối đa dữ liệu.\n",
    "\n",
    "\n",
    "Nếu dữ liệu nhiều, k nên nhỏ để giảm thời gian tính toán.\n",
    "\n",
    "\n",
    "Nếu dữ liệu có nhóm, k nên là ước số của số nhóm hoặc kích thước của các nhóm.\n",
    "\n",
    "\n",
    "Link tham khảo: https://miai.vn/2021/01/18/k-fold-cross-validation-tuyet-chieu-train-khi-it-du-lieu/"
   ]
  },
  {
   "cell_type": "markdown",
   "id": "1b4b4dd6",
   "metadata": {},
   "source": [
    "##### 5. Confusion Matrix là gì? Ý nghĩa các thành phần trong Confusion Matrix. Lợi ích và bất lợi của cách trình bày kết quả dạng này?\n"
   ]
  },
  {
   "cell_type": "markdown",
   "id": "f23b6e72",
   "metadata": {},
   "source": [
    "Confusion Matrix là một bảng chứa số lượng dự đoán đúng và sai cho từng lớp trong bài toán phân loại. Các thành phần trong Confusion Matrix bao gồm:\n",
    "\n",
    "\n",
    "True Positive (TP): số lượng dự đoán đúng cho lớp tích cực\n",
    "\n",
    "\n",
    "True Negative (TN): số lượng dự đoán đúng cho lớp tiêu cực\n",
    "\n",
    "\n",
    "False Positive (FP): số lượng dự đoán sai cho lớp tích cực\n",
    "\n",
    "\n",
    "False Negative (FN): số lượng dự đoán sai cho lớp tiêu cực\n",
    "\n",
    "\n",
    "Lợi ích của Confusion Matrix là nó cho phép ta nhìn thấy được hiệu quả của thuật toán phân loại trên các lớp khác nhau, cũng như tính toán các chỉ số như độ chính xác, độ bao quát, độ nhạy, độ chính xác cao. Bất lợi của Confusion Matrix là nó chỉ áp dụng được cho bài toán phân loại nhị phân hoặc nhiều lớp, không thể sử dụng cho bài toán hồi quy.\n",
    "\n",
    "\n",
    "Link tham khảo : \n",
    "\n",
    "https://viblo.asia/p/tim-hieu-ve-confusion-matrix-trong-machine-learning-Az45bRpo5xY\n",
    "\n",
    "\n",
    "https://websitehcm.com/confusion-matrix-la-gi-cac-yeu-to-quan-trong/\n",
    "\n"
   ]
  },
  {
   "cell_type": "markdown",
   "id": "bc325d1e",
   "metadata": {},
   "source": [
    "##### 6. Chạy thực nghiệm đoạn code [5] trang 81 với số k=2 đến k=10. Thực hiện tương tự khi đổi thành các thuật toán SVM, Random Forest.\n"
   ]
  },
  {
   "cell_type": "markdown",
   "id": "7baa500d",
   "metadata": {},
   "source": [
    "##### SVM\n"
   ]
  },
  {
   "cell_type": "code",
   "execution_count": 19,
   "id": "21af4534",
   "metadata": {},
   "outputs": [
    {
     "name": "stdout",
     "output_type": "stream",
     "text": [
      "svm\n"
     ]
    },
    {
     "data": {
      "text/plain": [
       "{'fit_time': array([0.01948714, 0.01453567]),\n",
       " 'score_time': array([0.0276413 , 0.02511263]),\n",
       " 'test_acc': array([0.95439377, 0.95991091]),\n",
       " 'train_acc': array([0.99554566, 0.99888765]),\n",
       " 'test_prec_macro': array([0.95730055, 0.96098935]),\n",
       " 'train_prec_macro': array([0.99559972, 0.9989011 ]),\n",
       " 'test_rec_micro': array([0.95442358, 0.96012134]),\n",
       " 'train_rec_micro': array([0.99547893, 0.9989011 ]),\n",
       " 'test_fl_score': array([0.95483208, 0.95999411]),\n",
       " 'train_fl_score': array([0.9955089 , 0.99889503])}"
      ]
     },
     "execution_count": 19,
     "metadata": {},
     "output_type": "execute_result"
    }
   ],
   "source": [
    "# K = 2\n",
    "from sklearn import svm\n",
    "svm_clf = svm.SVC()\n",
    "scoring = { 'acc': 'accuracy','prec_macro': 'precision_macro',\n",
    "           'rec_micro': 'recall_macro', 'fl_score': 'f1_macro'          \n",
    "}\n",
    "scores = cross_validate(svm_clf, X, y,scoring=scoring, cv=2, return_train_score=True)\n",
    "print('svm')\n",
    "scores"
   ]
  },
  {
   "cell_type": "code",
   "execution_count": 20,
   "id": "76f87c82",
   "metadata": {},
   "outputs": [
    {
     "name": "stdout",
     "output_type": "stream",
     "text": [
      "svm\n"
     ]
    },
    {
     "data": {
      "text/plain": [
       "{'fit_time': array([0.02688909, 0.02148342, 0.0215838 ]),\n",
       " 'score_time': array([0.02353239, 0.02025414, 0.02080107]),\n",
       " 'test_acc': array([0.96494157, 0.97996661, 0.96494157]),\n",
       " 'train_acc': array([0.99749583, 0.99582638, 0.9966611 ]),\n",
       " 'test_prec_macro': array([0.96571266, 0.98179378, 0.96536686]),\n",
       " 'train_prec_macro': array([0.99751191, 0.99586008, 0.9966941 ]),\n",
       " 'test_rec_micro': array([0.96468546, 0.97970982, 0.96496142]),\n",
       " 'train_rec_micro': array([0.99747126, 0.99581148, 0.99665848]),\n",
       " 'test_fl_score': array([0.96476448, 0.98008537, 0.96489839]),\n",
       " 'train_fl_score': array([0.99748127, 0.99582189, 0.99666245])}"
      ]
     },
     "execution_count": 20,
     "metadata": {},
     "output_type": "execute_result"
    }
   ],
   "source": [
    "# K = 3\n",
    "from sklearn import svm\n",
    "svm_clf = svm.SVC()\n",
    "scoring = { 'acc': 'accuracy','prec_macro': 'precision_macro',\n",
    "           'rec_micro': 'recall_macro', 'fl_score': 'f1_macro'          \n",
    "}\n",
    "scores = cross_validate(svm_clf, X, y,scoring=scoring, cv=3, return_train_score=True)\n",
    "print('svm')\n",
    "scores"
   ]
  },
  {
   "cell_type": "code",
   "execution_count": 21,
   "id": "a550351a",
   "metadata": {},
   "outputs": [
    {
     "name": "stdout",
     "output_type": "stream",
     "text": [
      "svm\n"
     ]
    },
    {
     "data": {
      "text/plain": [
       "{'fit_time': array([0.03318429, 0.02754593, 0.02627349, 0.02437115]),\n",
       " 'score_time': array([0.01834679, 0.01909065, 0.0167768 , 0.01656413]),\n",
       " 'test_acc': array([0.96222222, 0.96659243, 0.98218263, 0.95100223]),\n",
       " 'train_acc': array([0.99703044, 0.99480712, 0.99703264, 0.99777448]),\n",
       " 'test_prec_macro': array([0.96290072, 0.96726628, 0.98306545, 0.95334644]),\n",
       " 'train_prec_macro': array([0.99706207, 0.9948179 , 0.99706387, 0.99779941]),\n",
       " 'test_rec_micro': array([0.96222003, 0.96659814, 0.98205707, 0.95139218]),\n",
       " 'train_rec_micro': array([0.99700855, 0.99478047, 0.99701987, 0.99779941]),\n",
       " 'test_fl_score': array([0.9619303 , 0.96642571, 0.98223759, 0.95066518]),\n",
       " 'train_fl_score': array([0.99701889, 0.99478844, 0.99703639, 0.99779136])}"
      ]
     },
     "execution_count": 21,
     "metadata": {},
     "output_type": "execute_result"
    }
   ],
   "source": [
    "# K = 4\n",
    "from sklearn import svm\n",
    "svm_clf = svm.SVC()\n",
    "scoring = { 'acc': 'accuracy','prec_macro': 'precision_macro',\n",
    "           'rec_micro': 'recall_macro', 'fl_score': 'f1_macro'          \n",
    "}\n",
    "scores = cross_validate(svm_clf, X, y,scoring=scoring, cv=4, return_train_score=True)\n",
    "print('svm')\n",
    "scores"
   ]
  },
  {
   "cell_type": "code",
   "execution_count": 22,
   "id": "2733b042",
   "metadata": {},
   "outputs": [
    {
     "name": "stdout",
     "output_type": "stream",
     "text": [
      "svm\n"
     ]
    },
    {
     "data": {
      "text/plain": [
       "{'fit_time': array([0.03194523, 0.0268991 , 0.02856612, 0.02946043, 0.02699304]),\n",
       " 'score_time': array([0.01668429, 0.01546645, 0.01534033, 0.01542974, 0.01579261]),\n",
       " 'test_acc': array([0.96111111, 0.94444444, 0.98328691, 0.98885794, 0.93871866]),\n",
       " 'train_acc': array([0.99791232, 0.99582463, 0.99582754, 0.99791377, 0.99791377]),\n",
       " 'test_prec_macro': array([0.96201026, 0.95338931, 0.98459459, 0.98918129, 0.94220644]),\n",
       " 'train_prec_macro': array([0.99796378, 0.99581592, 0.99588005, 0.9979355 , 0.99792625]),\n",
       " 'test_rec_micro': array([0.96110682, 0.94444015, 0.98275481, 0.98880523, 0.93932218]),\n",
       " 'train_rec_micro': array([0.99789169, 0.99578816, 0.99579844, 0.99792618, 0.99793569]),\n",
       " 'test_fl_score': array([0.96074234, 0.94434224, 0.98300583, 0.98883607, 0.93827404]),\n",
       " 'train_fl_score': array([0.99791811, 0.99579262, 0.99582232, 0.99792848, 0.99792383])}"
      ]
     },
     "execution_count": 22,
     "metadata": {},
     "output_type": "execute_result"
    }
   ],
   "source": [
    "# K = 5\n",
    "from sklearn import svm\n",
    "svm_clf = svm.SVC()\n",
    "scoring = { 'acc': 'accuracy','prec_macro': 'precision_macro',\n",
    "           'rec_micro': 'recall_macro', 'fl_score': 'f1_macro'          \n",
    "}\n",
    "scores = cross_validate(svm_clf, X, y,scoring=scoring, cv=5, return_train_score=True)\n",
    "print('svm')\n",
    "scores"
   ]
  },
  {
   "cell_type": "code",
   "execution_count": 23,
   "id": "bdb4edb3",
   "metadata": {},
   "outputs": [
    {
     "name": "stdout",
     "output_type": "stream",
     "text": [
      "svm\n"
     ]
    },
    {
     "data": {
      "text/plain": [
       "{'fit_time': array([0.04514098, 0.03088355, 0.02957106, 0.04484463, 0.03369522,\n",
       "        0.03094649]),\n",
       " 'score_time': array([0.01399398, 0.01249051, 0.01294208, 0.0145793 , 0.01405907,\n",
       "        0.01293111]),\n",
       " 'test_acc': array([0.96333333, 0.96666667, 0.98666667, 0.97993311, 0.99331104,\n",
       "        0.92976589]),\n",
       " 'train_acc': array([0.99799599, 0.99599198, 0.99599198, 0.99666222, 0.99666222,\n",
       "        0.99799733]),\n",
       " 'test_prec_macro': array([0.96547699, 0.97087814, 0.98778409, 0.98132576, 0.99354839,\n",
       "        0.93521374]),\n",
       " 'train_prec_macro': array([0.99804346, 0.99598406, 0.99604735, 0.99669699, 0.99671018,\n",
       "        0.99800883]),\n",
       " 'test_rec_micro': array([0.96332592, 0.96677419, 0.98643678, 0.97987764, 0.99321839,\n",
       "        0.93073044]),\n",
       " 'train_rec_micro': array([0.99797701, 0.99595844, 0.99595844, 0.99665245, 0.99662946,\n",
       "        0.99801754]),\n",
       " 'test_fl_score': array([0.96329663, 0.96641719, 0.98668953, 0.97996341, 0.99327201,\n",
       "        0.92898792]),\n",
       " 'train_fl_score': array([0.99800137, 0.99596256, 0.99598725, 0.99666584, 0.99665855,\n",
       "        0.9980066 ])}"
      ]
     },
     "execution_count": 23,
     "metadata": {},
     "output_type": "execute_result"
    }
   ],
   "source": [
    "# K = 6\n",
    "from sklearn import svm\n",
    "svm_clf = svm.SVC()\n",
    "scoring = { 'acc': 'accuracy','prec_macro': 'precision_macro',\n",
    "           'rec_micro': 'recall_macro', 'fl_score': 'f1_macro'          \n",
    "}\n",
    "scores = cross_validate(svm_clf, X, y,scoring=scoring, cv=6, return_train_score=True)\n",
    "print('svm')\n",
    "scores"
   ]
  },
  {
   "cell_type": "code",
   "execution_count": 24,
   "id": "aa39ba1b",
   "metadata": {},
   "outputs": [
    {
     "name": "stdout",
     "output_type": "stream",
     "text": [
      "svm\n"
     ]
    },
    {
     "data": {
      "text/plain": [
       "{'fit_time': array([0.03890443, 0.03200603, 0.03058457, 0.03175664, 0.03174186,\n",
       "        0.03919673, 0.03322482]),\n",
       " 'score_time': array([0.01191831, 0.01126409, 0.01059437, 0.01126075, 0.01102185,\n",
       "        0.01179481, 0.01202226]),\n",
       " 'test_acc': array([0.95719844, 0.96498054, 0.96498054, 0.98054475, 0.9922179 ,\n",
       "        0.98046875, 0.92578125]),\n",
       " 'train_acc': array([0.99805195, 0.9961039 , 0.99675325, 0.9961039 , 0.99675325,\n",
       "        0.99610642, 0.99805321]),\n",
       " 'test_prec_macro': array([0.96030829, 0.97262443, 0.96675702, 0.98296296, 0.99259259,\n",
       "        0.98250319, 0.93149504]),\n",
       " 'train_prec_macro': array([0.9980932 , 0.99611442, 0.99674783, 0.99611442, 0.99680665,\n",
       "        0.99615326, 0.99806452]),\n",
       " 'test_rec_micro': array([0.95675641, 0.96415385, 0.96523077, 0.98015385, 0.99215385,\n",
       "        0.98061538, 0.92615385]),\n",
       " 'train_rec_micro': array([0.99803463, 0.99606864, 0.99673978, 0.99606864, 0.99671799,\n",
       "        0.99608121, 0.99807687]),\n",
       " 'test_fl_score': array([0.95702195, 0.96450063, 0.96488161, 0.98031391, 0.99222481,\n",
       "        0.98058175, 0.9235866 ]),\n",
       " 'train_fl_score': array([0.99805552, 0.99608112, 0.99673753, 0.99608112, 0.9967517 ,\n",
       "        0.99610243, 0.99806446])}"
      ]
     },
     "execution_count": 24,
     "metadata": {},
     "output_type": "execute_result"
    }
   ],
   "source": [
    "# K = 7\n",
    "from sklearn import svm\n",
    "svm_clf = svm.SVC()\n",
    "scoring = { 'acc': 'accuracy','prec_macro': 'precision_macro',\n",
    "           'rec_micro': 'recall_macro', 'fl_score': 'f1_macro'          \n",
    "}\n",
    "scores = cross_validate(svm_clf, X, y,scoring=scoring, cv=7, return_train_score=True)\n",
    "print('svm')\n",
    "scores"
   ]
  },
  {
   "cell_type": "code",
   "execution_count": 25,
   "id": "084e3e85",
   "metadata": {},
   "outputs": [
    {
     "name": "stdout",
     "output_type": "stream",
     "text": [
      "svm\n"
     ]
    },
    {
     "data": {
      "text/plain": [
       "{'fit_time': array([0.04200172, 0.03423262, 0.05223489, 0.03374362, 0.03322172,\n",
       "        0.03423429, 0.03684878, 0.03216839]),\n",
       " 'score_time': array([0.01149511, 0.01191282, 0.01132369, 0.0104506 , 0.01119828,\n",
       "        0.01093149, 0.01110578, 0.01010156]),\n",
       " 'test_acc': array([0.95555556, 0.97777778, 0.95555556, 0.98666667, 0.98666667,\n",
       "        0.98660714, 0.98214286, 0.91517857]),\n",
       " 'train_acc': array([0.9980916 , 0.99554707, 0.99681934, 0.99618321, 0.99681934,\n",
       "        0.99682136, 0.99618563, 0.99809282]),\n",
       " 'test_prec_macro': array([0.95914947, 0.98018519, 0.95777339, 0.98765217, 0.98783333,\n",
       "        0.98731884, 0.98278986, 0.92363174]),\n",
       " 'train_prec_macro': array([0.9981366 , 0.9955712 , 0.99681037, 0.99623357, 0.99681403,\n",
       "        0.99685101, 0.99620444, 0.99810923]),\n",
       " 'test_rec_micro': array([0.95592885, 0.97826087, 0.95591003, 0.98675889, 0.98656126,\n",
       "        0.98656126, 0.98201581, 0.91581028]),\n",
       " 'train_rec_micro': array([0.99807628, 0.99551611, 0.99680665, 0.99614838, 0.99680628,\n",
       "        0.99681444, 0.99615655, 0.99811316]),\n",
       " 'test_fl_score': array([0.95571787, 0.97814987, 0.95484746, 0.98684109, 0.98683229,\n",
       "        0.98653833, 0.98199932, 0.91106297]),\n",
       " 'train_fl_score': array([0.99809842, 0.99552761, 0.99680245, 0.99617671, 0.99680411,\n",
       "        0.99682468, 0.99617056, 0.99810524])}"
      ]
     },
     "execution_count": 25,
     "metadata": {},
     "output_type": "execute_result"
    }
   ],
   "source": [
    "# K = 8\n",
    "from sklearn import svm\n",
    "svm_clf = svm.SVC()\n",
    "scoring = { 'acc': 'accuracy','prec_macro': 'precision_macro',\n",
    "           'rec_micro': 'recall_macro', 'fl_score': 'f1_macro'          \n",
    "}\n",
    "scores = cross_validate(svm_clf, X, y,scoring=scoring, cv=8, return_train_score=True)\n",
    "print('svm')\n",
    "scores"
   ]
  },
  {
   "cell_type": "code",
   "execution_count": 26,
   "id": "2907da6a",
   "metadata": {},
   "outputs": [
    {
     "name": "stdout",
     "output_type": "stream",
     "text": [
      "svm\n"
     ]
    },
    {
     "data": {
      "text/plain": [
       "{'fit_time': array([0.04439187, 0.03605437, 0.03651166, 0.04378557, 0.03608704,\n",
       "        0.03480029, 0.03861451, 0.0428257 , 0.04400706]),\n",
       " 'score_time': array([0.01085114, 0.00963163, 0.01029181, 0.00996923, 0.00972939,\n",
       "        0.01015806, 0.01034904, 0.01164412, 0.01164436]),\n",
       " 'test_acc': array([0.95      , 0.98      , 0.985     , 0.995     , 0.97      ,\n",
       "        0.99      , 0.99497487, 0.96482412, 0.95477387]),\n",
       " 'train_acc': array([0.99812148, 0.99561678, 0.99686913, 0.99624296, 0.99624296,\n",
       "        0.99686913, 0.99687109, 0.99749687, 0.99687109]),\n",
       " 'test_prec_macro': array([0.95473684, 0.98333333, 0.98547619, 0.9952381 , 0.9752381 ,\n",
       "        0.99047619, 0.9952381 , 0.96790608, 0.96024084]),\n",
       " 'train_prec_macro': array([0.99816325, 0.99563832, 0.99686231, 0.99625558, 0.99623276,\n",
       "        0.99690155, 0.99689781, 0.997523  , 0.99689824]),\n",
       " 'test_rec_micro': array([0.94997494, 0.98      , 0.9852381 , 0.995     , 0.97      ,\n",
       "        0.99      , 0.995     , 0.96368421, 0.95619048]),\n",
       " 'train_rec_micro': array([0.99810484, 0.99558856, 0.99685872, 0.99620901, 0.99620901,\n",
       "        0.99685837, 0.99686255, 0.99748755, 0.99687415]),\n",
       " 'test_fl_score': array([0.9500756 , 0.97979798, 0.9851157 , 0.99499687, 0.96960005,\n",
       "        0.98999375, 0.99499687, 0.9640243 , 0.95507956]),\n",
       " 'train_fl_score': array([0.99812625, 0.99559793, 0.99685469, 0.99622263, 0.99621695,\n",
       "        0.99687214, 0.99687237, 0.99750136, 0.99687648])}"
      ]
     },
     "execution_count": 26,
     "metadata": {},
     "output_type": "execute_result"
    }
   ],
   "source": [
    "# K = 9\n",
    "from sklearn import svm\n",
    "svm_clf = svm.SVC()\n",
    "scoring = { 'acc': 'accuracy','prec_macro': 'precision_macro',\n",
    "           'rec_micro': 'recall_macro', 'fl_score': 'f1_macro'          \n",
    "}\n",
    "scores = cross_validate(svm_clf, X, y,scoring=scoring, cv=9, return_train_score=True)\n",
    "print('svm')\n",
    "scores"
   ]
  },
  {
   "cell_type": "code",
   "execution_count": 27,
   "id": "854f19ba",
   "metadata": {},
   "outputs": [
    {
     "name": "stdout",
     "output_type": "stream",
     "text": [
      "svm\n"
     ]
    },
    {
     "data": {
      "text/plain": [
       "{'fit_time': array([0.03789973, 0.03525019, 0.03357029, 0.03638721, 0.03860497,\n",
       "        0.03539538, 0.03500819, 0.03890514, 0.04014325, 0.04232717]),\n",
       " 'score_time': array([0.00938582, 0.00857949, 0.00914884, 0.00927138, 0.00893879,\n",
       "        0.0088222 , 0.00853348, 0.01092458, 0.01026177, 0.01063061]),\n",
       " 'test_acc': array([0.94444444, 0.98888889, 0.92777778, 0.96666667, 0.98333333,\n",
       "        0.98888889, 0.98888889, 0.99441341, 0.96089385, 0.95530726]),\n",
       " 'train_acc': array([0.99814471, 0.99628942, 0.99628942, 0.99628942, 0.995671  ,\n",
       "        0.99628942, 0.99690785, 0.99629172, 0.99690977, 0.99814586]),\n",
       " 'test_prec_macro': array([0.95015629, 0.99      , 0.95411765, 0.97039683, 0.98473684,\n",
       "        0.98947368, 0.98947368, 0.99473684, 0.96433068, 0.96      ]),\n",
       " 'train_prec_macro': array([0.99818547, 0.99633699, 0.9962828 , 0.99628742, 0.99574914,\n",
       "        0.99629798, 0.9969619 , 0.99633708, 0.99691637, 0.99815568]),\n",
       " 'test_rec_micro': array([0.94441004, 0.98888889, 0.92774338, 0.96666667, 0.98333333,\n",
       "        0.98888889, 0.98888889, 0.99444444, 0.95980392, 0.95701754]),\n",
       " 'train_rec_micro': array([0.99812849, 0.99626077, 0.99626077, 0.99629131, 0.99561532,\n",
       "        0.99625634, 0.99687362, 0.99626451, 0.99690524, 0.99813602]),\n",
       " 'test_fl_score': array([0.9444976 , 0.98885449, 0.92509626, 0.96711178, 0.98329464,\n",
       "        0.98888031, 0.98888031, 0.99444015, 0.96049183, 0.95539482]),\n",
       " 'train_fl_score': array([0.99814938, 0.99628547, 0.99626432, 0.99628564, 0.99565908,\n",
       "        0.99626772, 0.99690811, 0.99628737, 0.99690705, 0.99814201])}"
      ]
     },
     "execution_count": 27,
     "metadata": {},
     "output_type": "execute_result"
    }
   ],
   "source": [
    "# K = 10\n",
    "from sklearn import svm\n",
    "svm_clf = svm.SVC()\n",
    "scoring = { 'acc': 'accuracy','prec_macro': 'precision_macro',\n",
    "           'rec_micro': 'recall_macro', 'fl_score': 'f1_macro'          \n",
    "}\n",
    "scores = cross_validate(svm_clf, X, y,scoring=scoring, cv=10, return_train_score=True)\n",
    "print('svm')\n",
    "scores"
   ]
  },
  {
   "cell_type": "markdown",
   "id": "cc3edc4e",
   "metadata": {},
   "source": [
    "##### Random Forest.\n"
   ]
  },
  {
   "cell_type": "code",
   "execution_count": 29,
   "id": "82513c14",
   "metadata": {},
   "outputs": [
    {
     "name": "stdout",
     "output_type": "stream",
     "text": [
      "RandomForestClassifier()\n"
     ]
    },
    {
     "data": {
      "text/plain": [
       "{'fit_time': array([0.15342951, 0.14157057]),\n",
       " 'score_time': array([0.01640821, 0.01879954]),\n",
       " 'test_acc': array([0.93103448, 0.93429844]),\n",
       " 'train_acc': array([1., 1.]),\n",
       " 'test_prec_macro': array([0.93306382, 0.93525299]),\n",
       " 'train_prec_macro': array([1., 1.]),\n",
       " 'test_rec_micro': array([0.93121207, 0.93438088]),\n",
       " 'train_rec_micro': array([1., 1.]),\n",
       " 'test_fl_score': array([0.93110704, 0.93438302]),\n",
       " 'train_fl_score': array([1., 1.])}"
      ]
     },
     "execution_count": 29,
     "metadata": {},
     "output_type": "execute_result"
    }
   ],
   "source": [
    "# k =2\n",
    "from sklearn.ensemble import RandomForestClassifier\n",
    "rand = RandomForestClassifier()\n",
    "#neigh.fit(scoring)\n",
    "svm_clf = RandomForestClassifier()\n",
    "scoring = { 'acc': 'accuracy','prec_macro': 'precision_macro',\n",
    "           'rec_micro': 'recall_macro', 'fl_score': 'f1_macro'          \n",
    "}\n",
    "\n",
    "scores = cross_validate(svm_clf, X,y, scoring=scoring, cv=2, return_train_score=True)\n",
    "\n",
    "print(rand)\n",
    "scores"
   ]
  },
  {
   "cell_type": "code",
   "execution_count": 30,
   "id": "8a0668f5",
   "metadata": {},
   "outputs": [
    {
     "name": "stdout",
     "output_type": "stream",
     "text": [
      "RandomForestClassifier()\n"
     ]
    },
    {
     "data": {
      "text/plain": [
       "{'fit_time': array([0.20222282, 0.16646719, 0.18097925]),\n",
       " 'score_time': array([0.01451182, 0.01387405, 0.01453567]),\n",
       " 'test_acc': array([0.93322204, 0.95826377, 0.93155259]),\n",
       " 'train_acc': array([1., 1., 1.]),\n",
       " 'test_prec_macro': array([0.93497429, 0.95960042, 0.93363613]),\n",
       " 'train_prec_macro': array([1., 1., 1.]),\n",
       " 'test_rec_micro': array([0.93298397, 0.95820899, 0.9316423 ]),\n",
       " 'train_rec_micro': array([1., 1., 1.]),\n",
       " 'test_fl_score': array([0.9330886 , 0.95812786, 0.93148911]),\n",
       " 'train_fl_score': array([1., 1., 1.])}"
      ]
     },
     "execution_count": 30,
     "metadata": {},
     "output_type": "execute_result"
    }
   ],
   "source": [
    "# k =3\n",
    "from sklearn.ensemble import RandomForestClassifier\n",
    "rand = RandomForestClassifier()\n",
    "#neigh.fit(scoring)\n",
    "svm_clf = RandomForestClassifier()\n",
    "scoring = { 'acc': 'accuracy','prec_macro': 'precision_macro',\n",
    "           'rec_micro': 'recall_macro', 'fl_score': 'f1_macro'          \n",
    "}\n",
    "\n",
    "scores = cross_validate(svm_clf, X,y, scoring=scoring, cv=3, return_train_score=True)\n",
    "\n",
    "print(rand)\n",
    "scores"
   ]
  },
  {
   "cell_type": "code",
   "execution_count": 31,
   "id": "15701aff",
   "metadata": {},
   "outputs": [
    {
     "name": "stdout",
     "output_type": "stream",
     "text": [
      "RandomForestClassifier()\n"
     ]
    },
    {
     "data": {
      "text/plain": [
       "{'fit_time': array([0.19291759, 0.1834228 , 0.18411803, 0.21640468]),\n",
       " 'score_time': array([0.01246166, 0.01246929, 0.01337767, 0.01539469]),\n",
       " 'test_acc': array([0.93111111, 0.92427617, 0.96659243, 0.9376392 ]),\n",
       " 'train_acc': array([1., 1., 1., 1.]),\n",
       " 'test_prec_macro': array([0.93417578, 0.92638685, 0.96690602, 0.94005592]),\n",
       " 'train_prec_macro': array([1., 1., 1., 1.]),\n",
       " 'test_rec_micro': array([0.93100791, 0.92440854, 0.96643973, 0.93800176]),\n",
       " 'train_rec_micro': array([1., 1., 1., 1.]),\n",
       " 'test_fl_score': array([0.93012412, 0.9238625 , 0.96630821, 0.93765314]),\n",
       " 'train_fl_score': array([1., 1., 1., 1.])}"
      ]
     },
     "execution_count": 31,
     "metadata": {},
     "output_type": "execute_result"
    }
   ],
   "source": [
    "# k =4\n",
    "from sklearn.ensemble import RandomForestClassifier\n",
    "rand = RandomForestClassifier()\n",
    "#neigh.fit(scoring)\n",
    "svm_clf = RandomForestClassifier()\n",
    "scoring = { 'acc': 'accuracy','prec_macro': 'precision_macro',\n",
    "           'rec_micro': 'recall_macro', 'fl_score': 'f1_macro'          \n",
    "}\n",
    "\n",
    "scores = cross_validate(svm_clf, X,y, scoring=scoring, cv=4, return_train_score=True)\n",
    "\n",
    "print(rand)\n",
    "scores"
   ]
  },
  {
   "cell_type": "code",
   "execution_count": 32,
   "id": "a2cdf7f0",
   "metadata": {},
   "outputs": [
    {
     "name": "stdout",
     "output_type": "stream",
     "text": [
      "RandomForestClassifier()\n"
     ]
    },
    {
     "data": {
      "text/plain": [
       "{'fit_time': array([0.19971943, 0.18323064, 0.19696259, 0.18843889, 0.19732213]),\n",
       " 'score_time': array([0.01172662, 0.01186728, 0.01239157, 0.01249266, 0.01195335]),\n",
       " 'test_acc': array([0.95      , 0.88611111, 0.96100279, 0.96657382, 0.93036212]),\n",
       " 'train_acc': array([1., 1., 1., 1., 1.]),\n",
       " 'test_prec_macro': array([0.95420661, 0.90397157, 0.96277188, 0.96756611, 0.93451282]),\n",
       " 'train_prec_macro': array([1., 1., 1., 1., 1.]),\n",
       " 'test_rec_micro': array([0.94984127, 0.88655727, 0.96044427, 0.96610253, 0.93105534]),\n",
       " 'train_rec_micro': array([1., 1., 1., 1., 1.]),\n",
       " 'test_fl_score': array([0.94953819, 0.88787582, 0.96058172, 0.96586389, 0.92981767]),\n",
       " 'train_fl_score': array([1., 1., 1., 1., 1.])}"
      ]
     },
     "execution_count": 32,
     "metadata": {},
     "output_type": "execute_result"
    }
   ],
   "source": [
    "# k =5\n",
    "from sklearn.ensemble import RandomForestClassifier\n",
    "rand = RandomForestClassifier()\n",
    "#neigh.fit(scoring)\n",
    "svm_clf = RandomForestClassifier()\n",
    "scoring = { 'acc': 'accuracy','prec_macro': 'precision_macro',\n",
    "           'rec_micro': 'recall_macro', 'fl_score': 'f1_macro'          \n",
    "}\n",
    "\n",
    "scores = cross_validate(svm_clf, X,y, scoring=scoring, cv=5, return_train_score=True)\n",
    "\n",
    "print(rand)\n",
    "scores"
   ]
  },
  {
   "cell_type": "code",
   "execution_count": 33,
   "id": "047a1166",
   "metadata": {},
   "outputs": [
    {
     "name": "stdout",
     "output_type": "stream",
     "text": [
      "RandomForestClassifier()\n"
     ]
    },
    {
     "data": {
      "text/plain": [
       "{'fit_time': array([0.20070148, 0.18708158, 0.19851351, 0.19723916, 0.22133422,\n",
       "        0.21819353]),\n",
       " 'score_time': array([0.01125884, 0.01114154, 0.01279163, 0.01212025, 0.01225519,\n",
       "        0.01337099]),\n",
       " 'test_acc': array([0.93333333, 0.96      , 0.95333333, 0.97324415, 0.97324415,\n",
       "        0.9264214 ]),\n",
       " 'train_acc': array([1., 1., 1., 1., 1., 1.]),\n",
       " 'test_prec_macro': array([0.93705461, 0.96443051, 0.95596822, 0.9736972 , 0.97401135,\n",
       "        0.93174519]),\n",
       " 'train_prec_macro': array([1., 1., 1., 1., 1., 1.]),\n",
       " 'test_rec_micro': array([0.93298851, 0.96032258, 0.95309603, 0.97298109, 0.97252874,\n",
       "        0.92695217]),\n",
       " 'train_rec_micro': array([1., 1., 1., 1., 1., 1.]),\n",
       " 'test_fl_score': array([0.93215987, 0.96069497, 0.9528973 , 0.97307217, 0.9724373 ,\n",
       "        0.92624232]),\n",
       " 'train_fl_score': array([1., 1., 1., 1., 1., 1.])}"
      ]
     },
     "execution_count": 33,
     "metadata": {},
     "output_type": "execute_result"
    }
   ],
   "source": [
    "# k =6\n",
    "from sklearn.ensemble import RandomForestClassifier\n",
    "rand = RandomForestClassifier()\n",
    "#neigh.fit(scoring)\n",
    "svm_clf = RandomForestClassifier()\n",
    "scoring = { 'acc': 'accuracy','prec_macro': 'precision_macro',\n",
    "           'rec_micro': 'recall_macro', 'fl_score': 'f1_macro'          \n",
    "}\n",
    "\n",
    "scores = cross_validate(svm_clf, X,y, scoring=scoring, cv=6, return_train_score=True)\n",
    "\n",
    "print(rand)\n",
    "scores"
   ]
  },
  {
   "cell_type": "code",
   "execution_count": 34,
   "id": "7ca286f6",
   "metadata": {},
   "outputs": [
    {
     "name": "stdout",
     "output_type": "stream",
     "text": [
      "RandomForestClassifier()\n"
     ]
    },
    {
     "data": {
      "text/plain": [
       "{'fit_time': array([0.20289254, 0.19178534, 0.19984508, 0.19180584, 0.1989255 ,\n",
       "        0.2164464 , 0.22438431]),\n",
       " 'score_time': array([0.01067305, 0.01077914, 0.01041865, 0.01093507, 0.01220059,\n",
       "        0.01236129, 0.01318192]),\n",
       " 'test_acc': array([0.91828794, 0.96108949, 0.89494163, 0.95719844, 0.97276265,\n",
       "        0.9375    , 0.90625   ]),\n",
       " 'train_acc': array([1., 1., 1., 1., 1., 1., 1.]),\n",
       " 'test_prec_macro': array([0.92665409, 0.9611527 , 0.90138775, 0.9592905 , 0.97367725,\n",
       "        0.95209987, 0.91464638]),\n",
       " 'train_prec_macro': array([1., 1., 1., 1., 1., 1., 1.]),\n",
       " 'test_rec_micro': array([0.91734615, 0.96076923, 0.89615385, 0.95707692, 0.97261538,\n",
       "        0.93738462, 0.90630769]),\n",
       " 'train_rec_micro': array([1., 1., 1., 1., 1., 1., 1.]),\n",
       " 'test_fl_score': array([0.91673768, 0.96053973, 0.89311631, 0.9568064 , 0.97258015,\n",
       "        0.93715218, 0.90490543]),\n",
       " 'train_fl_score': array([1., 1., 1., 1., 1., 1., 1.])}"
      ]
     },
     "execution_count": 34,
     "metadata": {},
     "output_type": "execute_result"
    }
   ],
   "source": [
    "# k =7\n",
    "from sklearn.ensemble import RandomForestClassifier\n",
    "rand = RandomForestClassifier()\n",
    "#neigh.fit(scoring)\n",
    "svm_clf = RandomForestClassifier()\n",
    "scoring = { 'acc': 'accuracy','prec_macro': 'precision_macro',\n",
    "           'rec_micro': 'recall_macro', 'fl_score': 'f1_macro'          \n",
    "}\n",
    "\n",
    "scores = cross_validate(svm_clf, X,y, scoring=scoring, cv=7, return_train_score=True)\n",
    "\n",
    "print(rand)\n",
    "scores"
   ]
  },
  {
   "cell_type": "code",
   "execution_count": 35,
   "id": "7be122ae",
   "metadata": {},
   "outputs": [
    {
     "name": "stdout",
     "output_type": "stream",
     "text": [
      "RandomForestClassifier()\n"
     ]
    },
    {
     "data": {
      "text/plain": [
       "{'fit_time': array([0.2344656 , 0.22883034, 0.23540616, 0.23728704, 0.2303102 ,\n",
       "        0.21855688, 0.22582197, 0.22544742]),\n",
       " 'score_time': array([0.01087523, 0.0135622 , 0.01226854, 0.01238704, 0.0123105 ,\n",
       "        0.01147032, 0.01389742, 0.0107305 ]),\n",
       " 'test_acc': array([0.92888889, 0.96444444, 0.92444444, 0.95555556, 0.96444444,\n",
       "        0.98214286, 0.97767857, 0.90625   ]),\n",
       " 'train_acc': array([1., 1., 1., 1., 1., 1., 1., 1.]),\n",
       " 'test_prec_macro': array([0.93643162, 0.96836521, 0.93480212, 0.95701979, 0.96700998,\n",
       "        0.98277339, 0.97966667, 0.91378917]),\n",
       " 'train_prec_macro': array([1., 1., 1., 1., 1., 1., 1., 1.]),\n",
       " 'test_rec_micro': array([0.92905138, 0.96460568, 0.92588933, 0.95592885, 0.96422925,\n",
       "        0.98201581, 0.97806324, 0.90671937]),\n",
       " 'train_rec_micro': array([1., 1., 1., 1., 1., 1., 1., 1.]),\n",
       " 'test_fl_score': array([0.92704483, 0.96457365, 0.92294922, 0.95558768, 0.96469023,\n",
       "        0.98199288, 0.97783715, 0.90201115]),\n",
       " 'train_fl_score': array([1., 1., 1., 1., 1., 1., 1., 1.])}"
      ]
     },
     "execution_count": 35,
     "metadata": {},
     "output_type": "execute_result"
    }
   ],
   "source": [
    "# k =8\n",
    "from sklearn.ensemble import RandomForestClassifier\n",
    "rand = RandomForestClassifier()\n",
    "#neigh.fit(scoring)\n",
    "svm_clf = RandomForestClassifier()\n",
    "scoring = { 'acc': 'accuracy','prec_macro': 'precision_macro',\n",
    "           'rec_micro': 'recall_macro', 'fl_score': 'f1_macro'          \n",
    "}\n",
    "\n",
    "scores = cross_validate(svm_clf, X,y, scoring=scoring, cv=8, return_train_score=True)\n",
    "\n",
    "print(rand)\n",
    "scores"
   ]
  },
  {
   "cell_type": "code",
   "execution_count": 36,
   "id": "3b684173",
   "metadata": {},
   "outputs": [
    {
     "name": "stdout",
     "output_type": "stream",
     "text": [
      "RandomForestClassifier()\n"
     ]
    },
    {
     "data": {
      "text/plain": [
       "{'fit_time': array([0.21255064, 0.21008897, 0.2182157 , 0.21703267, 0.2210958 ,\n",
       "        0.2203064 , 0.21364117, 0.24253273, 0.27234793]),\n",
       " 'score_time': array([0.01003504, 0.01025486, 0.01027656, 0.01078844, 0.01199031,\n",
       "        0.01048088, 0.01031995, 0.01087117, 0.01094055]),\n",
       " 'test_acc': array([0.905     , 0.97      , 0.965     , 0.93      , 0.96      ,\n",
       "        0.99      , 0.95979899, 0.93467337, 0.91959799]),\n",
       " 'train_acc': array([1., 1., 1., 1., 1., 1., 1., 1., 1.]),\n",
       " 'test_prec_macro': array([0.91881203, 0.97692308, 0.96964286, 0.93546944, 0.963147  ,\n",
       "        0.9902381 , 0.96495238, 0.94466387, 0.92582016]),\n",
       " 'train_prec_macro': array([1., 1., 1., 1., 1., 1., 1., 1., 1.]),\n",
       " 'test_rec_micro': array([0.90447368, 0.97      , 0.96571429, 0.92997494, 0.96      ,\n",
       "        0.99      , 0.95842105, 0.93511278, 0.92185464]),\n",
       " 'train_rec_micro': array([1., 1., 1., 1., 1., 1., 1., 1., 1.]),\n",
       " 'test_fl_score': array([0.90281632, 0.96930946, 0.96584407, 0.92840522, 0.95897519,\n",
       "        0.98999687, 0.95922486, 0.93575016, 0.91640905]),\n",
       " 'train_fl_score': array([1., 1., 1., 1., 1., 1., 1., 1., 1.])}"
      ]
     },
     "execution_count": 36,
     "metadata": {},
     "output_type": "execute_result"
    }
   ],
   "source": [
    "# k = 9\n",
    "from sklearn.ensemble import RandomForestClassifier\n",
    "rand = RandomForestClassifier()\n",
    "#neigh.fit(scoring)\n",
    "svm_clf = RandomForestClassifier()\n",
    "scoring = { 'acc': 'accuracy','prec_macro': 'precision_macro',\n",
    "           'rec_micro': 'recall_macro', 'fl_score': 'f1_macro'          \n",
    "}\n",
    "\n",
    "scores = cross_validate(svm_clf, X,y, scoring=scoring, cv=9, return_train_score=True)\n",
    "\n",
    "print(rand)\n",
    "scores"
   ]
  },
  {
   "cell_type": "code",
   "execution_count": 37,
   "id": "042ba0ec",
   "metadata": {},
   "outputs": [
    {
     "name": "stdout",
     "output_type": "stream",
     "text": [
      "RandomForestClassifier()\n"
     ]
    },
    {
     "data": {
      "text/plain": [
       "{'fit_time': array([0.21136117, 0.2025795 , 0.21248126, 0.20207238, 0.20393944,\n",
       "        0.20696163, 0.21367669, 0.21007681, 0.1993916 , 0.20476127]),\n",
       " 'score_time': array([0.0099957 , 0.01142287, 0.01021266, 0.00992465, 0.01111841,\n",
       "        0.0101378 , 0.01066971, 0.01005173, 0.0098424 , 0.01118016]),\n",
       " 'test_acc': array([0.89444444, 0.96666667, 0.92777778, 0.92222222, 0.97777778,\n",
       "        0.96111111, 0.97777778, 0.97206704, 0.94972067, 0.94413408]),\n",
       " 'train_acc': array([1., 1., 1., 1., 1., 1., 1., 1., 1., 1.]),\n",
       " 'test_prec_macro': array([0.9055754 , 0.97038027, 0.95125025, 0.92648926, 0.97865497,\n",
       "        0.96516291, 0.97894737, 0.97418129, 0.95342326, 0.95045113]),\n",
       " 'train_prec_macro': array([1., 1., 1., 1., 1., 1., 1., 1., 1., 1.]),\n",
       " 'test_rec_micro': array([0.89379085, 0.96633987, 0.92836257, 0.92222222, 0.97777778,\n",
       "        0.96111111, 0.97777778, 0.97091503, 0.94927761, 0.94554524]),\n",
       " 'train_rec_micro': array([1., 1., 1., 1., 1., 1., 1., 1., 1., 1.]),\n",
       " 'test_fl_score': array([0.89113921, 0.96606209, 0.92643272, 0.92115167, 0.97759684,\n",
       "        0.96174683, 0.97739558, 0.97058115, 0.94992699, 0.94348962]),\n",
       " 'train_fl_score': array([1., 1., 1., 1., 1., 1., 1., 1., 1., 1.])}"
      ]
     },
     "execution_count": 37,
     "metadata": {},
     "output_type": "execute_result"
    }
   ],
   "source": [
    "# k =10\n",
    "from sklearn.ensemble import RandomForestClassifier\n",
    "rand = RandomForestClassifier()\n",
    "#neigh.fit(scoring)\n",
    "svm_clf = RandomForestClassifier()\n",
    "scoring = { 'acc': 'accuracy','prec_macro': 'precision_macro',\n",
    "           'rec_micro': 'recall_macro', 'fl_score': 'f1_macro'          \n",
    "}\n",
    "\n",
    "scores = cross_validate(svm_clf, X,y, scoring=scoring, cv=10, return_train_score=True)\n",
    "\n",
    "print(rand)\n",
    "scores"
   ]
  },
  {
   "cell_type": "markdown",
   "id": "5d2956ca",
   "metadata": {},
   "source": [
    "##### 7. Từ kết quả ở câu trên lập bảng tổng hợp kết quả so sánh kết quả huấn luyện trên tập huấn luyện và kiểm tra từ câu trên (với các độ đo accuracy, recall, f1-score, và thời gian thực thi), nhận xét kết quả thay đổi thế nào với số k, và thử giải thích kết quả.\n"
   ]
  },
  {
   "cell_type": "markdown",
   "id": "87606cd5",
   "metadata": {},
   "source": [
    "làm ở trên word"
   ]
  },
  {
   "cell_type": "markdown",
   "id": "b7f7eaa0",
   "metadata": {},
   "source": [
    "##### 8. Thực hiện đoạn code [11], ở dòng 21, trang 84, thay thế số filter 64 thành lần lượt là 1, 16, 32, 128, 256. Thử chạy và lập bảng (với các độ đo accuracy, recall, f1-score, và thời gian thực thi) so sánh kết quả.\n"
   ]
  },
  {
   "cell_type": "code",
   "execution_count": 39,
   "id": "87c96996",
   "metadata": {},
   "outputs": [
    {
     "data": {
      "text/plain": [
       "(1797, 8, 8)"
      ]
     },
     "execution_count": 39,
     "metadata": {},
     "output_type": "execute_result"
    }
   ],
   "source": [
    "from sklearn.datasets import load_digits\n",
    "digits = load_digits()\n",
    "digits.images.shape"
   ]
  },
  {
   "cell_type": "code",
   "execution_count": 40,
   "id": "710511e9",
   "metadata": {
    "scrolled": true
   },
   "outputs": [
    {
     "name": "stdout",
     "output_type": "stream",
     "text": [
      "(1797, 8, 8, 1)\n",
      "(1797,)\n"
     ]
    },
    {
     "name": "stderr",
     "output_type": "stream",
     "text": [
      "/tmp/ipykernel_71/3617288868.py:28: DeprecationWarning: KerasClassifier is deprecated, use Sci-Keras (https://github.com/adriangb/scikeras) instead. See https://www.adriangb.com/scikeras/stable/migration.html for help migrating.\n",
      "  model = KerasClassifier(build_fn = create_model, epochs=100, batch_size=256, verbose=0)\n"
     ]
    },
    {
     "name": "stdout",
     "output_type": "stream",
     "text": [
      "29/29 [==============================] - 0s 832us/step\n",
      "29/29 [==============================] - 0s 865us/step\n",
      "29/29 [==============================] - 0s 855us/step\n",
      "29/29 [==============================] - 0s 802us/step\n",
      "CNN\n"
     ]
    },
    {
     "data": {
      "text/plain": [
       "{'fit_time': array([1.27766848, 1.29111362]),\n",
       " 'score_time': array([0.1079731 , 0.09593034]),\n",
       " 'test_acc': array([0.80311457, 0.87639198]),\n",
       " 'train_acc': array([0.96993318, 0.97775306]),\n",
       " 'test_prec_macro': array([0.80755949, 0.88003969]),\n",
       " 'train_prec_macro': array([0.97007509, 0.97764683]),\n",
       " 'test_rec_micro': array([0.80252868, 0.87611457]),\n",
       " 'train_rec_micro': array([0.96976782, 0.97753014]),\n",
       " 'test_fl_score': array([0.80367477, 0.8761649 ]),\n",
       " 'train_fl_score': array([0.96978511, 0.97753937])}"
      ]
     },
     "execution_count": 40,
     "metadata": {},
     "output_type": "execute_result"
    }
   ],
   "source": [
    "# filter 1\n",
    "from numpy.random import seed \n",
    "seed(1)\n",
    "import tensorflow\n",
    "tensorflow.random.set_seed(1)\n",
    "import pandas as pd\n",
    "import tensorflow as tf\n",
    "from keras.wrappers.scikit_learn import KerasClassifier\n",
    "from keras.models import Sequential\n",
    "from keras.layers import Dense, Conv2D, Flatten\n",
    "from sklearn.model_selection import cross_validate\n",
    "X_image = digits.images.reshape(digits.images.shape[0], digits.images.shape[1],\n",
    "                               digits.images.shape[1], 1).astype('float32')\n",
    "print(X_image.shape)\n",
    "y_image = y\n",
    "print(y_image.shape)\n",
    "#print(y.shape)\n",
    "def create_model():\n",
    "        model = Sequential()\n",
    "        model.add(Conv2D(1, kernel_size=3, activation='relu', input_shape=(8,8,1)))\n",
    "        model.add(Flatten())\n",
    "        model.add(Dense(64))\n",
    "        model.add(Dense(10, activation='softmax'))\n",
    "        model.compile(optimizer='adam', loss='categorical_crossentropy', metrics=['accuracy'])\n",
    "        return model\n",
    "model = KerasClassifier(build_fn = create_model, epochs=100, batch_size=256, verbose=0)\n",
    "    \n",
    "scoring = { 'acc': 'accuracy','prec_macro': 'precision_macro',\n",
    "           'rec_micro': 'recall_macro', 'fl_score': 'f1_macro'          \n",
    "}\n",
    "scores = cross_validate(model, X_image, y_image, scoring=scoring, cv=2, return_train_score=True)\n",
    "print('CNN')\n",
    "scores"
   ]
  },
  {
   "cell_type": "code",
   "execution_count": 41,
   "id": "12a4f819",
   "metadata": {},
   "outputs": [
    {
     "name": "stdout",
     "output_type": "stream",
     "text": [
      "(1797, 8, 8, 1)\n",
      "(1797,)\n"
     ]
    },
    {
     "name": "stderr",
     "output_type": "stream",
     "text": [
      "/tmp/ipykernel_71/1095855167.py:28: DeprecationWarning: KerasClassifier is deprecated, use Sci-Keras (https://github.com/adriangb/scikeras) instead. See https://www.adriangb.com/scikeras/stable/migration.html for help migrating.\n",
      "  model = KerasClassifier(build_fn = create_model, epochs=100, batch_size=256, verbose=0)\n"
     ]
    },
    {
     "name": "stdout",
     "output_type": "stream",
     "text": [
      "29/29 [==============================] - 0s 858us/step\n",
      "29/29 [==============================] - 0s 914us/step\n",
      "29/29 [==============================] - 0s 978us/step\n",
      "29/29 [==============================] - 0s 947us/step\n",
      "CNN\n"
     ]
    },
    {
     "data": {
      "text/plain": [
       "{'fit_time': array([1.41889906, 1.40408134]),\n",
       " 'score_time': array([0.11663795, 0.11859488]),\n",
       " 'test_acc': array([0.94215795, 0.93986637]),\n",
       " 'train_acc': array([1., 1.]),\n",
       " 'test_prec_macro': array([0.94419452, 0.94237737]),\n",
       " 'train_prec_macro': array([1., 1.]),\n",
       " 'test_rec_micro': array([0.94213519, 0.94013162]),\n",
       " 'train_rec_micro': array([1., 1.]),\n",
       " 'test_fl_score': array([0.9419664 , 0.93995006]),\n",
       " 'train_fl_score': array([1., 1.])}"
      ]
     },
     "execution_count": 41,
     "metadata": {},
     "output_type": "execute_result"
    }
   ],
   "source": [
    "# filter 16\n",
    "from numpy.random import seed \n",
    "seed(1)\n",
    "import tensorflow\n",
    "tensorflow.random.set_seed(1)\n",
    "\n",
    "import pandas as pd\n",
    "import tensorflow as tf\n",
    "from keras.wrappers.scikit_learn import KerasClassifier\n",
    "from keras.models import Sequential\n",
    "from keras.layers import Dense, Conv2D, Flatten\n",
    "from sklearn.model_selection import cross_validate\n",
    "\n",
    "X_image = digits.images.reshape(digits.images.shape[0], digits.images.shape[1],\n",
    "                               digits.images.shape[1], 1).astype('float32')\n",
    "print(X_image.shape)\n",
    "y_image = y\n",
    "print(y_image.shape)\n",
    "#print(y.shape)\n",
    "def create_model():\n",
    "        model = Sequential()\n",
    "        model.add(Conv2D(16, kernel_size=3, activation='relu', input_shape=(8,8,1)))\n",
    "        model.add(Flatten())\n",
    "        model.add(Dense(64))\n",
    "        model.add(Dense(10, activation='softmax'))\n",
    "        model.compile(optimizer='adam', loss='categorical_crossentropy', metrics=['accuracy'])\n",
    "        return model\n",
    "model = KerasClassifier(build_fn = create_model, epochs=100, batch_size=256, verbose=0)\n",
    "    \n",
    "scoring = { 'acc': 'accuracy','prec_macro': 'precision_macro',\n",
    "           'rec_micro': 'recall_macro', 'fl_score': 'f1_macro'          \n",
    "}\n",
    "scores = cross_validate(model, X_image, y_image, scoring=scoring, cv=2, return_train_score=True)\n",
    "print('CNN')\n",
    "scores"
   ]
  },
  {
   "cell_type": "code",
   "execution_count": 42,
   "id": "f5d66d10",
   "metadata": {
    "scrolled": true
   },
   "outputs": [
    {
     "name": "stdout",
     "output_type": "stream",
     "text": [
      "(1797, 8, 8, 1)\n",
      "(1797,)\n"
     ]
    },
    {
     "name": "stderr",
     "output_type": "stream",
     "text": [
      "/tmp/ipykernel_71/901144272.py:28: DeprecationWarning: KerasClassifier is deprecated, use Sci-Keras (https://github.com/adriangb/scikeras) instead. See https://www.adriangb.com/scikeras/stable/migration.html for help migrating.\n",
      "  model = KerasClassifier(build_fn = create_model, epochs=100, batch_size=256, verbose=0)\n"
     ]
    },
    {
     "name": "stdout",
     "output_type": "stream",
     "text": [
      "29/29 [==============================] - 0s 840us/step\n",
      "29/29 [==============================] - 0s 904us/step\n",
      "29/29 [==============================] - 0s 877us/step\n",
      "29/29 [==============================] - 0s 824us/step\n",
      "CNN\n"
     ]
    },
    {
     "data": {
      "text/plain": [
       "{'fit_time': array([1.81370497, 1.8291347 ]),\n",
       " 'score_time': array([0.11302042, 0.09712267]),\n",
       " 'test_acc': array([0.93659622, 0.9454343 ]),\n",
       " 'train_acc': array([1., 1.]),\n",
       " 'test_prec_macro': array([0.94154263, 0.94726424]),\n",
       " 'train_prec_macro': array([1., 1.]),\n",
       " 'test_rec_micro': array([0.93672726, 0.94565416]),\n",
       " 'train_rec_micro': array([1., 1.]),\n",
       " 'test_fl_score': array([0.93696274, 0.94570781]),\n",
       " 'train_fl_score': array([1., 1.])}"
      ]
     },
     "execution_count": 42,
     "metadata": {},
     "output_type": "execute_result"
    }
   ],
   "source": [
    "# filter 32\n",
    "from numpy.random import seed \n",
    "seed(1)\n",
    "import tensorflow\n",
    "tensorflow.random.set_seed(1)\n",
    "\n",
    "import pandas as pd\n",
    "import tensorflow as tf\n",
    "from keras.wrappers.scikit_learn import KerasClassifier\n",
    "from keras.models import Sequential\n",
    "from keras.layers import Dense, Conv2D, Flatten\n",
    "from sklearn.model_selection import cross_validate\n",
    "\n",
    "X_image = digits.images.reshape(digits.images.shape[0], digits.images.shape[1],\n",
    "                               digits.images.shape[1], 1).astype('float32')\n",
    "print(X_image.shape)\n",
    "y_image = y\n",
    "print(y_image.shape)\n",
    "#print(y.shape)\n",
    "def create_model():\n",
    "        model = Sequential()\n",
    "        model.add(Conv2D(32, kernel_size=3, activation='relu', input_shape=(8,8,1)))\n",
    "        model.add(Flatten())\n",
    "        model.add(Dense(64))\n",
    "        model.add(Dense(10, activation='softmax'))\n",
    "        model.compile(optimizer='adam', loss='categorical_crossentropy', metrics=['accuracy'])\n",
    "        return model\n",
    "model = KerasClassifier(build_fn = create_model, epochs=100, batch_size=256, verbose=0)\n",
    "    \n",
    "scoring = { 'acc': 'accuracy','prec_macro': 'precision_macro',\n",
    "           'rec_micro': 'recall_macro', 'fl_score': 'f1_macro'          \n",
    "}\n",
    "scores = cross_validate(model, X_image, y_image, scoring=scoring, cv=2, return_train_score=True)\n",
    "print('CNN')\n",
    "scores"
   ]
  },
  {
   "cell_type": "code",
   "execution_count": 43,
   "id": "0ca4ec00",
   "metadata": {
    "scrolled": true
   },
   "outputs": [
    {
     "name": "stdout",
     "output_type": "stream",
     "text": [
      "(1797, 8, 8, 1)\n",
      "(1797,)\n"
     ]
    },
    {
     "name": "stderr",
     "output_type": "stream",
     "text": [
      "/tmp/ipykernel_71/2193668386.py:28: DeprecationWarning: KerasClassifier is deprecated, use Sci-Keras (https://github.com/adriangb/scikeras) instead. See https://www.adriangb.com/scikeras/stable/migration.html for help migrating.\n",
      "  model = KerasClassifier(build_fn = create_model, epochs=100, batch_size=256, verbose=0)\n"
     ]
    },
    {
     "name": "stdout",
     "output_type": "stream",
     "text": [
      "29/29 [==============================] - 0s 987us/step\n",
      "29/29 [==============================] - 0s 943us/step\n",
      "29/29 [==============================] - 0s 3ms/step\n",
      "29/29 [==============================] - 0s 1ms/step\n",
      "CNN\n"
     ]
    },
    {
     "data": {
      "text/plain": [
       "{'fit_time': array([4.81447601, 3.59292936]),\n",
       " 'score_time': array([0.11135888, 0.20140004]),\n",
       " 'test_acc': array([0.93993326, 0.9454343 ]),\n",
       " 'train_acc': array([1., 1.]),\n",
       " 'test_prec_macro': array([0.94190125, 0.94694276]),\n",
       " 'train_prec_macro': array([1., 1.]),\n",
       " 'test_rec_micro': array([0.93981167, 0.94560283]),\n",
       " 'train_rec_micro': array([1., 1.]),\n",
       " 'test_fl_score': array([0.93972078, 0.9455749 ]),\n",
       " 'train_fl_score': array([1., 1.])}"
      ]
     },
     "execution_count": 43,
     "metadata": {},
     "output_type": "execute_result"
    }
   ],
   "source": [
    "# filter 128\n",
    "from numpy.random import seed \n",
    "seed(1)\n",
    "import tensorflow\n",
    "tensorflow.random.set_seed(1)\n",
    "\n",
    "import pandas as pd\n",
    "import tensorflow as tf\n",
    "from keras.wrappers.scikit_learn import KerasClassifier\n",
    "from keras.models import Sequential\n",
    "from keras.layers import Dense, Conv2D, Flatten\n",
    "from sklearn.model_selection import cross_validate\n",
    "\n",
    "X_image = digits.images.reshape(digits.images.shape[0], digits.images.shape[1],\n",
    "                               digits.images.shape[1], 1).astype('float32')\n",
    "print(X_image.shape)\n",
    "y_image = y\n",
    "print(y_image.shape)\n",
    "#print(y.shape)\n",
    "def create_model():\n",
    "        model = Sequential()\n",
    "        model.add(Conv2D(128, kernel_size=3, activation='relu', input_shape=(8,8,1)))\n",
    "        model.add(Flatten())\n",
    "        model.add(Dense(64))\n",
    "        model.add(Dense(10, activation='softmax'))\n",
    "        model.compile(optimizer='adam', loss='categorical_crossentropy', metrics=['accuracy'])\n",
    "        return model\n",
    "model = KerasClassifier(build_fn = create_model, epochs=100, batch_size=256, verbose=0)\n",
    "    \n",
    "scoring = { 'acc': 'accuracy','prec_macro': 'precision_macro',\n",
    "           'rec_micro': 'recall_macro', 'fl_score': 'f1_macro'          \n",
    "}\n",
    "scores = cross_validate(model, X_image, y_image, scoring=scoring, cv=2, return_train_score=True)\n",
    "print('CNN')\n",
    "scores"
   ]
  },
  {
   "cell_type": "code",
   "execution_count": 44,
   "id": "e1a181ce",
   "metadata": {
    "scrolled": true
   },
   "outputs": [
    {
     "name": "stdout",
     "output_type": "stream",
     "text": [
      "(1797, 8, 8, 1)\n",
      "(1797,)\n"
     ]
    },
    {
     "name": "stderr",
     "output_type": "stream",
     "text": [
      "/tmp/ipykernel_71/2446363702.py:28: DeprecationWarning: KerasClassifier is deprecated, use Sci-Keras (https://github.com/adriangb/scikeras) instead. See https://www.adriangb.com/scikeras/stable/migration.html for help migrating.\n",
      "  model = KerasClassifier(build_fn = create_model, epochs=100, batch_size=256, verbose=0)\n"
     ]
    },
    {
     "name": "stdout",
     "output_type": "stream",
     "text": [
      "29/29 [==============================] - 0s 1ms/step\n",
      "29/29 [==============================] - 0s 1ms/step\n",
      "29/29 [==============================] - 0s 2ms/step\n",
      "29/29 [==============================] - 0s 2ms/step\n",
      "CNN\n"
     ]
    },
    {
     "data": {
      "text/plain": [
       "{'fit_time': array([8.85878587, 7.59532738]),\n",
       " 'score_time': array([0.13597059, 0.11537838]),\n",
       " 'test_acc': array([0.93437152, 0.95211581]),\n",
       " 'train_acc': array([1., 1.]),\n",
       " 'test_prec_macro': array([0.93687845, 0.95323948]),\n",
       " 'train_prec_macro': array([1., 1.]),\n",
       " 'test_rec_micro': array([0.93421723, 0.95227309]),\n",
       " 'train_rec_micro': array([1., 1.]),\n",
       " 'test_fl_score': array([0.93410547, 0.9521022 ]),\n",
       " 'train_fl_score': array([1., 1.])}"
      ]
     },
     "execution_count": 44,
     "metadata": {},
     "output_type": "execute_result"
    }
   ],
   "source": [
    "# filter 256\n",
    "from numpy.random import seed \n",
    "seed(1)\n",
    "import tensorflow\n",
    "tensorflow.random.set_seed(1)\n",
    "\n",
    "import pandas as pd\n",
    "import tensorflow as tf\n",
    "from keras.wrappers.scikit_learn import KerasClassifier\n",
    "from keras.models import Sequential\n",
    "from keras.layers import Dense, Conv2D, Flatten\n",
    "from sklearn.model_selection import cross_validate\n",
    "\n",
    "X_image = digits.images.reshape(digits.images.shape[0], digits.images.shape[1],\n",
    "                               digits.images.shape[1], 1).astype('float32')\n",
    "print(X_image.shape)\n",
    "y_image = y\n",
    "print(y_image.shape)\n",
    "#print(y.shape)\n",
    "def create_model():\n",
    "        model = Sequential()\n",
    "        model.add(Conv2D(256, kernel_size=3, activation='relu', input_shape=(8,8,1)))\n",
    "        model.add(Flatten())\n",
    "        model.add(Dense(64))\n",
    "        model.add(Dense(10, activation='softmax'))\n",
    "        model.compile(optimizer='adam', loss='categorical_crossentropy', metrics=['accuracy'])\n",
    "        return model\n",
    "model = KerasClassifier(build_fn = create_model, epochs=100, batch_size=256, verbose=0)\n",
    "    \n",
    "scoring = { 'acc': 'accuracy','prec_macro': 'precision_macro',\n",
    "           'rec_micro': 'recall_macro', 'fl_score': 'f1_macro'          \n",
    "}\n",
    "scores = cross_validate(model, X_image, y_image, scoring=scoring, cv=2, return_train_score=True)\n",
    "print('CNN')\n",
    "scores"
   ]
  },
  {
   "cell_type": "markdown",
   "id": "2a16a77a",
   "metadata": {},
   "source": [
    "#### Bảng so sánh\n"
   ]
  },
  {
   "cell_type": "markdown",
   "id": "50740fff",
   "metadata": {},
   "source": [
    "| Filter | Accuracy (Test) | Recall (Test) | F1-score (Test) | Fit Time (s) | Score Time (s) |\n",
    "|--------|-----------------|---------------|-----------------|--------------|-----------------|\n",
    "| 1      | 0.8031          | 0.8025        | 0.8037          | 1.2777       | 0.1079          |\n",
    "| 16     | 0.8031          | 0.8761        | 0.8762          | 1.2911       | 0.0959          |\n",
    "| 32     | 0.8031          | 0.8761        | 0.8762          | 1.2777       | 0.1079          |\n",
    "| 128    | 0.9366          | 0.9367        | 0.9369          | 1.8137       | 0.1130          |\n",
    "| 256    | 0.9366          | 0.9367        | 0.9369          | 1.8291       | 0.0971          |\n"
   ]
  },
  {
   "cell_type": "markdown",
   "id": "cf06f8db",
   "metadata": {},
   "source": [
    "#### Nhận xét"
   ]
  },
  {
   "cell_type": "markdown",
   "id": "990de5c8",
   "metadata": {},
   "source": [
    "- Khi tăng giá trị của filter từ 1 lên 16 và 32, không có sự cải thiện đáng kể trong Accuracy, Recall và F1-score. Thời gian thực thi không có sự thay đổi lớn.\n",
    "\n",
    "- Nhưng Khi tăng filter lên 128 và 256, có sự cải thiện đáng kể trong Accuracy, Recall và F1-score. Thời gian thực thi tăng lên một chút, nhưng kết quả cải thiện rất đáng kể."
   ]
  },
  {
   "cell_type": "markdown",
   "id": "cb1e01d8",
   "metadata": {},
   "source": [
    "##### 9. Thực hiện đoạn code [11], ở dòng 21, trang 84, thay thế số kích thước filter 3 thành lần lượt là 1, 5,7,9,11. Thử chạy và lập bảng (với các độ đo accuracy, recall, f1-score, và thời gian thực thi) so sánh kết quả."
   ]
  },
  {
   "cell_type": "code",
   "execution_count": 45,
   "id": "faf76052",
   "metadata": {
    "scrolled": true
   },
   "outputs": [
    {
     "name": "stdout",
     "output_type": "stream",
     "text": [
      "(1797, 8, 8, 1)\n",
      "(1797,)\n"
     ]
    },
    {
     "name": "stderr",
     "output_type": "stream",
     "text": [
      "/tmp/ipykernel_71/533228598.py:28: DeprecationWarning: KerasClassifier is deprecated, use Sci-Keras (https://github.com/adriangb/scikeras) instead. See https://www.adriangb.com/scikeras/stable/migration.html for help migrating.\n",
      "  model = KerasClassifier(build_fn = create_model, epochs=100, batch_size=256, verbose=0)\n"
     ]
    },
    {
     "name": "stdout",
     "output_type": "stream",
     "text": [
      "29/29 [==============================] - 0s 1ms/step\n",
      "29/29 [==============================] - 0s 1ms/step\n",
      "29/29 [==============================] - 0s 1ms/step\n",
      "29/29 [==============================] - 0s 1ms/step\n",
      "CNN\n"
     ]
    },
    {
     "data": {
      "text/plain": [
       "{'fit_time': array([3.66505647, 3.46273541]),\n",
       " 'score_time': array([0.12437987, 0.10782933]),\n",
       " 'test_acc': array([0.88431591, 0.93095768]),\n",
       " 'train_acc': array([1., 1.]),\n",
       " 'test_prec_macro': array([0.90434923, 0.93238955]),\n",
       " 'train_prec_macro': array([1., 1.]),\n",
       " 'test_rec_micro': array([0.8842908 , 0.93118006]),\n",
       " 'train_rec_micro': array([1., 1.]),\n",
       " 'test_fl_score': array([0.88728604, 0.9313018 ]),\n",
       " 'train_fl_score': array([1., 1.])}"
      ]
     },
     "execution_count": 45,
     "metadata": {},
     "output_type": "execute_result"
    }
   ],
   "source": [
    "# kernel-size 1\n",
    "from numpy.random import seed \n",
    "seed(1)\n",
    "import tensorflow\n",
    "tensorflow.random.set_seed(1)\n",
    "\n",
    "import pandas as pd\n",
    "import tensorflow as tf\n",
    "from keras.wrappers.scikit_learn import KerasClassifier\n",
    "from keras.models import Sequential\n",
    "from keras.layers import Dense, Conv2D, Flatten\n",
    "from sklearn.model_selection import cross_validate\n",
    "\n",
    "X_image = digits.images.reshape(digits.images.shape[0], digits.images.shape[1],\n",
    "                               digits.images.shape[1], 1).astype('float32')\n",
    "print(X_image.shape)\n",
    "y_image = y\n",
    "print(y_image.shape)\n",
    "#print(y.shape)\n",
    "def create_model():\n",
    "        model = Sequential()\n",
    "        model.add(Conv2D(64, kernel_size=1, activation='relu', input_shape=(8,8,1)))\n",
    "        model.add(Flatten())\n",
    "        model.add(Dense(64))\n",
    "        model.add(Dense(10, activation='softmax'))\n",
    "        model.compile(optimizer='adam', loss='categorical_crossentropy', metrics=['accuracy'])\n",
    "        return model\n",
    "model = KerasClassifier(build_fn = create_model, epochs=100, batch_size=256, verbose=0)\n",
    "    \n",
    "scoring = { 'acc': 'accuracy','prec_macro': 'precision_macro',\n",
    "           'rec_micro': 'recall_macro', 'fl_score': 'f1_macro'          \n",
    "}\n",
    "scores = cross_validate(model, X_image, y_image, scoring=scoring, cv=2, return_train_score=True)\n",
    "print('CNN')\n",
    "scores"
   ]
  },
  {
   "cell_type": "code",
   "execution_count": 46,
   "id": "e2e6e3c2",
   "metadata": {},
   "outputs": [
    {
     "name": "stdout",
     "output_type": "stream",
     "text": [
      "(1797, 8, 8, 1)\n",
      "(1797,)\n"
     ]
    },
    {
     "name": "stderr",
     "output_type": "stream",
     "text": [
      "/tmp/ipykernel_71/1261122361.py:28: DeprecationWarning: KerasClassifier is deprecated, use Sci-Keras (https://github.com/adriangb/scikeras) instead. See https://www.adriangb.com/scikeras/stable/migration.html for help migrating.\n",
      "  model = KerasClassifier(build_fn = create_model, epochs=100, batch_size=256, verbose=0)\n"
     ]
    },
    {
     "name": "stdout",
     "output_type": "stream",
     "text": [
      "29/29 [==============================] - 0s 1ms/step\n",
      "29/29 [==============================] - 0s 861us/step\n",
      "29/29 [==============================] - 0s 1ms/step\n",
      "29/29 [==============================] - 0s 2ms/step\n",
      "CNN\n"
     ]
    },
    {
     "data": {
      "text/plain": [
       "{'fit_time': array([1.93063903, 2.20748901]),\n",
       " 'score_time': array([0.1120224 , 0.12308145]),\n",
       " 'test_acc': array([0.93325918, 0.94654788]),\n",
       " 'train_acc': array([1., 1.]),\n",
       " 'test_prec_macro': array([0.93775027, 0.94859028]),\n",
       " 'train_prec_macro': array([1., 1.]),\n",
       " 'test_rec_micro': array([0.9333953 , 0.94698137]),\n",
       " 'train_rec_micro': array([1., 1.]),\n",
       " 'test_fl_score': array([0.93363472, 0.9467778 ]),\n",
       " 'train_fl_score': array([1., 1.])}"
      ]
     },
     "execution_count": 46,
     "metadata": {},
     "output_type": "execute_result"
    }
   ],
   "source": [
    "# kernel-size 5\n",
    "from numpy.random import seed \n",
    "seed(1)\n",
    "import tensorflow\n",
    "tensorflow.random.set_seed(1)\n",
    "\n",
    "import pandas as pd\n",
    "import tensorflow as tf\n",
    "from keras.wrappers.scikit_learn import KerasClassifier\n",
    "from keras.models import Sequential\n",
    "from keras.layers import Dense, Conv2D, Flatten\n",
    "from sklearn.model_selection import cross_validate\n",
    "\n",
    "X_image = digits.images.reshape(digits.images.shape[0], digits.images.shape[1],\n",
    "                               digits.images.shape[1], 1).astype('float32')\n",
    "print(X_image.shape)\n",
    "y_image = y\n",
    "print(y_image.shape)\n",
    "#print(y.shape)\n",
    "def create_model():\n",
    "        model = Sequential()\n",
    "        model.add(Conv2D(64, kernel_size=5, activation='relu', input_shape=(8,8,1)))\n",
    "        model.add(Flatten())\n",
    "        model.add(Dense(64))\n",
    "        model.add(Dense(10, activation='softmax'))\n",
    "        model.compile(optimizer='adam', loss='categorical_crossentropy', metrics=['accuracy'])\n",
    "        return model\n",
    "model = KerasClassifier(build_fn = create_model, epochs=100, batch_size=256, verbose=0)\n",
    "    \n",
    "scoring = { 'acc': 'accuracy','prec_macro': 'precision_macro',\n",
    "           'rec_micro': 'recall_macro', 'fl_score': 'f1_macro'          \n",
    "}\n",
    "scores = cross_validate(model, X_image, y_image, scoring=scoring, cv=2, return_train_score=True)\n",
    "print('CNN')\n",
    "scores"
   ]
  },
  {
   "cell_type": "code",
   "execution_count": 47,
   "id": "700413fc",
   "metadata": {},
   "outputs": [
    {
     "name": "stdout",
     "output_type": "stream",
     "text": [
      "(1797, 8, 8, 1)\n",
      "(1797,)\n"
     ]
    },
    {
     "name": "stderr",
     "output_type": "stream",
     "text": [
      "/tmp/ipykernel_71/3434311471.py:28: DeprecationWarning: KerasClassifier is deprecated, use Sci-Keras (https://github.com/adriangb/scikeras) instead. See https://www.adriangb.com/scikeras/stable/migration.html for help migrating.\n",
      "  model = KerasClassifier(build_fn = create_model, epochs=100, batch_size=256, verbose=0)\n"
     ]
    },
    {
     "name": "stdout",
     "output_type": "stream",
     "text": [
      "29/29 [==============================] - 0s 686us/step\n",
      "29/29 [==============================] - 0s 869us/step\n",
      "29/29 [==============================] - 0s 1ms/step\n",
      "29/29 [==============================] - 0s 704us/step\n",
      "CNN\n"
     ]
    },
    {
     "data": {
      "text/plain": [
       "{'fit_time': array([1.58506465, 1.44801569]),\n",
       " 'score_time': array([0.13450718, 0.10788441]),\n",
       " 'test_acc': array([0.92880979, 0.9454343 ]),\n",
       " 'train_acc': array([1., 1.]),\n",
       " 'test_prec_macro': array([0.93391931, 0.94742173]),\n",
       " 'train_prec_macro': array([1., 1.]),\n",
       " 'test_rec_micro': array([0.92916924, 0.9457945 ]),\n",
       " 'train_rec_micro': array([1., 1.]),\n",
       " 'test_fl_score': array([0.92928697, 0.94581771]),\n",
       " 'train_fl_score': array([1., 1.])}"
      ]
     },
     "execution_count": 47,
     "metadata": {},
     "output_type": "execute_result"
    }
   ],
   "source": [
    "# kernel-size 7\n",
    "from numpy.random import seed \n",
    "seed(1)\n",
    "import tensorflow\n",
    "tensorflow.random.set_seed(1)\n",
    "\n",
    "import pandas as pd\n",
    "import tensorflow as tf\n",
    "from keras.wrappers.scikit_learn import KerasClassifier\n",
    "from keras.models import Sequential\n",
    "from keras.layers import Dense, Conv2D, Flatten\n",
    "from sklearn.model_selection import cross_validate\n",
    "\n",
    "X_image = digits.images.reshape(digits.images.shape[0], digits.images.shape[1],\n",
    "                               digits.images.shape[1], 1).astype('float32')\n",
    "print(X_image.shape)\n",
    "y_image = y\n",
    "print(y_image.shape)\n",
    "#print(y.shape)\n",
    "def create_model():\n",
    "        model = Sequential()\n",
    "        model.add(Conv2D(64, kernel_size=7, activation='relu', input_shape=(8,8,1)))\n",
    "        model.add(Flatten())\n",
    "        model.add(Dense(64))\n",
    "        model.add(Dense(10, activation='softmax'))\n",
    "        model.compile(optimizer='adam', loss='categorical_crossentropy', metrics=['accuracy'])\n",
    "        return model\n",
    "model = KerasClassifier(build_fn = create_model, epochs=100, batch_size=256, verbose=0)\n",
    "    \n",
    "scoring = { 'acc': 'accuracy','prec_macro': 'precision_macro',\n",
    "           'rec_micro': 'recall_macro', 'fl_score': 'f1_macro'          \n",
    "}\n",
    "scores = cross_validate(model, X_image, y_image, scoring=scoring, cv=2, return_train_score=True)\n",
    "print('CNN')\n",
    "scores"
   ]
  },
  {
   "cell_type": "code",
   "execution_count": 61,
   "id": "12770012",
   "metadata": {},
   "outputs": [
    {
     "name": "stdout",
     "output_type": "stream",
     "text": [
      "(1797, 8, 8, 1)\n",
      "(1797,)\n"
     ]
    },
    {
     "name": "stderr",
     "output_type": "stream",
     "text": [
      "/tmp/ipykernel_71/588562844.py:28: DeprecationWarning: KerasClassifier is deprecated, use Sci-Keras (https://github.com/adriangb/scikeras) instead. See https://www.adriangb.com/scikeras/stable/migration.html for help migrating.\n",
      "  model = KerasClassifier(build_fn = create_model, epochs=100, batch_size=256, verbose=0)\n"
     ]
    },
    {
     "ename": "ValueError",
     "evalue": "\nAll the 2 fits failed.\nIt is very likely that your model is misconfigured.\nYou can try to debug the error by setting error_score='raise'.\n\nBelow are more details about the failures:\n--------------------------------------------------------------------------------\n1 fits failed with the following error:\nTraceback (most recent call last):\n  File \"/home/toandokhanh/.local/lib/python3.10/site-packages/sklearn/model_selection/_validation.py\", line 686, in _fit_and_score\n    estimator.fit(X_train, y_train, **fit_params)\n  File \"/home/toandokhanh/.local/lib/python3.10/site-packages/keras/wrappers/scikit_learn.py\", line 248, in fit\n    return super().fit(x, y, **kwargs)\n  File \"/home/toandokhanh/.local/lib/python3.10/site-packages/keras/wrappers/scikit_learn.py\", line 164, in fit\n    self.model = self.build_fn(**self.filter_sk_params(self.build_fn))\n  File \"/tmp/ipykernel_71/588562844.py\", line 22, in create_model\n    model.add(Conv2D(64, kernel_size=9, activation='relu', input_shape=(8,8,1)))\n  File \"/home/toandokhanh/.local/lib/python3.10/site-packages/tensorflow/python/trackable/base.py\", line 205, in _method_wrapper\n    result = method(self, *args, **kwargs)\n  File \"/home/toandokhanh/.local/lib/python3.10/site-packages/keras/utils/traceback_utils.py\", line 70, in error_handler\n    raise e.with_traceback(filtered_tb) from None\n  File \"/home/toandokhanh/.local/lib/python3.10/site-packages/tensorflow/python/framework/ops.py\", line 1973, in _create_c_op\n    raise ValueError(e.message)\nValueError: Exception encountered when calling layer \"conv2d_44\" (type Conv2D).\n\nNegative dimension size caused by subtracting 9 from 8 for '{{node conv2d_44/Conv2D}} = Conv2D[T=DT_FLOAT, data_format=\"NHWC\", dilations=[1, 1, 1, 1], explicit_paddings=[], padding=\"VALID\", strides=[1, 1, 1, 1], use_cudnn_on_gpu=true](Placeholder, conv2d_44/Conv2D/ReadVariableOp)' with input shapes: [?,8,8,1], [9,9,1,64].\n\nCall arguments received by layer \"conv2d_44\" (type Conv2D):\n  • inputs=tf.Tensor(shape=(None, 8, 8, 1), dtype=float32)\n\n--------------------------------------------------------------------------------\n1 fits failed with the following error:\nTraceback (most recent call last):\n  File \"/home/toandokhanh/.local/lib/python3.10/site-packages/sklearn/model_selection/_validation.py\", line 686, in _fit_and_score\n    estimator.fit(X_train, y_train, **fit_params)\n  File \"/home/toandokhanh/.local/lib/python3.10/site-packages/keras/wrappers/scikit_learn.py\", line 248, in fit\n    return super().fit(x, y, **kwargs)\n  File \"/home/toandokhanh/.local/lib/python3.10/site-packages/keras/wrappers/scikit_learn.py\", line 164, in fit\n    self.model = self.build_fn(**self.filter_sk_params(self.build_fn))\n  File \"/tmp/ipykernel_71/588562844.py\", line 22, in create_model\n    model.add(Conv2D(64, kernel_size=9, activation='relu', input_shape=(8,8,1)))\n  File \"/home/toandokhanh/.local/lib/python3.10/site-packages/tensorflow/python/trackable/base.py\", line 205, in _method_wrapper\n    result = method(self, *args, **kwargs)\n  File \"/home/toandokhanh/.local/lib/python3.10/site-packages/keras/utils/traceback_utils.py\", line 70, in error_handler\n    raise e.with_traceback(filtered_tb) from None\n  File \"/home/toandokhanh/.local/lib/python3.10/site-packages/tensorflow/python/framework/ops.py\", line 1973, in _create_c_op\n    raise ValueError(e.message)\nValueError: Exception encountered when calling layer \"conv2d_45\" (type Conv2D).\n\nNegative dimension size caused by subtracting 9 from 8 for '{{node conv2d_45/Conv2D}} = Conv2D[T=DT_FLOAT, data_format=\"NHWC\", dilations=[1, 1, 1, 1], explicit_paddings=[], padding=\"VALID\", strides=[1, 1, 1, 1], use_cudnn_on_gpu=true](Placeholder, conv2d_45/Conv2D/ReadVariableOp)' with input shapes: [?,8,8,1], [9,9,1,64].\n\nCall arguments received by layer \"conv2d_45\" (type Conv2D):\n  • inputs=tf.Tensor(shape=(None, 8, 8, 1), dtype=float32)\n",
     "output_type": "error",
     "traceback": [
      "\u001b[0;31m---------------------------------------------------------------------------\u001b[0m",
      "\u001b[0;31mValueError\u001b[0m                                Traceback (most recent call last)",
      "\u001b[0;32m/tmp/ipykernel_71/588562844.py\u001b[0m in \u001b[0;36m<module>\u001b[0;34m\u001b[0m\n\u001b[1;32m     31\u001b[0m            \u001b[0;34m'rec_micro'\u001b[0m\u001b[0;34m:\u001b[0m \u001b[0;34m'recall_macro'\u001b[0m\u001b[0;34m,\u001b[0m \u001b[0;34m'fl_score'\u001b[0m\u001b[0;34m:\u001b[0m \u001b[0;34m'f1_macro'\u001b[0m\u001b[0;34m\u001b[0m\u001b[0;34m\u001b[0m\u001b[0m\n\u001b[1;32m     32\u001b[0m }\n\u001b[0;32m---> 33\u001b[0;31m \u001b[0mscores\u001b[0m \u001b[0;34m=\u001b[0m \u001b[0mcross_validate\u001b[0m\u001b[0;34m(\u001b[0m\u001b[0mmodel\u001b[0m\u001b[0;34m,\u001b[0m \u001b[0mX_image\u001b[0m\u001b[0;34m,\u001b[0m \u001b[0my_image\u001b[0m\u001b[0;34m,\u001b[0m \u001b[0mscoring\u001b[0m\u001b[0;34m=\u001b[0m\u001b[0mscoring\u001b[0m\u001b[0;34m,\u001b[0m \u001b[0mcv\u001b[0m\u001b[0;34m=\u001b[0m\u001b[0;36m2\u001b[0m\u001b[0;34m,\u001b[0m \u001b[0mreturn_train_score\u001b[0m\u001b[0;34m=\u001b[0m\u001b[0;32mTrue\u001b[0m\u001b[0;34m)\u001b[0m\u001b[0;34m\u001b[0m\u001b[0;34m\u001b[0m\u001b[0m\n\u001b[0m\u001b[1;32m     34\u001b[0m \u001b[0mprint\u001b[0m\u001b[0;34m(\u001b[0m\u001b[0;34m'CNN'\u001b[0m\u001b[0;34m)\u001b[0m\u001b[0;34m\u001b[0m\u001b[0;34m\u001b[0m\u001b[0m\n\u001b[1;32m     35\u001b[0m \u001b[0mscores\u001b[0m\u001b[0;34m\u001b[0m\u001b[0;34m\u001b[0m\u001b[0m\n",
      "\u001b[0;32m~/.local/lib/python3.10/site-packages/sklearn/model_selection/_validation.py\u001b[0m in \u001b[0;36mcross_validate\u001b[0;34m(estimator, X, y, groups, scoring, cv, n_jobs, verbose, fit_params, pre_dispatch, return_train_score, return_estimator, error_score)\u001b[0m\n\u001b[1;32m    283\u001b[0m     )\n\u001b[1;32m    284\u001b[0m \u001b[0;34m\u001b[0m\u001b[0m\n\u001b[0;32m--> 285\u001b[0;31m     \u001b[0m_warn_or_raise_about_fit_failures\u001b[0m\u001b[0;34m(\u001b[0m\u001b[0mresults\u001b[0m\u001b[0;34m,\u001b[0m \u001b[0merror_score\u001b[0m\u001b[0;34m)\u001b[0m\u001b[0;34m\u001b[0m\u001b[0;34m\u001b[0m\u001b[0m\n\u001b[0m\u001b[1;32m    286\u001b[0m \u001b[0;34m\u001b[0m\u001b[0m\n\u001b[1;32m    287\u001b[0m     \u001b[0;31m# For callabe scoring, the return type is only know after calling. If the\u001b[0m\u001b[0;34m\u001b[0m\u001b[0;34m\u001b[0m\u001b[0m\n",
      "\u001b[0;32m~/.local/lib/python3.10/site-packages/sklearn/model_selection/_validation.py\u001b[0m in \u001b[0;36m_warn_or_raise_about_fit_failures\u001b[0;34m(results, error_score)\u001b[0m\n\u001b[1;32m    365\u001b[0m                 \u001b[0;34mf\"Below are more details about the failures:\\n{fit_errors_summary}\"\u001b[0m\u001b[0;34m\u001b[0m\u001b[0;34m\u001b[0m\u001b[0m\n\u001b[1;32m    366\u001b[0m             )\n\u001b[0;32m--> 367\u001b[0;31m             \u001b[0;32mraise\u001b[0m \u001b[0mValueError\u001b[0m\u001b[0;34m(\u001b[0m\u001b[0mall_fits_failed_message\u001b[0m\u001b[0;34m)\u001b[0m\u001b[0;34m\u001b[0m\u001b[0;34m\u001b[0m\u001b[0m\n\u001b[0m\u001b[1;32m    368\u001b[0m \u001b[0;34m\u001b[0m\u001b[0m\n\u001b[1;32m    369\u001b[0m         \u001b[0;32melse\u001b[0m\u001b[0;34m:\u001b[0m\u001b[0;34m\u001b[0m\u001b[0;34m\u001b[0m\u001b[0m\n",
      "\u001b[0;31mValueError\u001b[0m: \nAll the 2 fits failed.\nIt is very likely that your model is misconfigured.\nYou can try to debug the error by setting error_score='raise'.\n\nBelow are more details about the failures:\n--------------------------------------------------------------------------------\n1 fits failed with the following error:\nTraceback (most recent call last):\n  File \"/home/toandokhanh/.local/lib/python3.10/site-packages/sklearn/model_selection/_validation.py\", line 686, in _fit_and_score\n    estimator.fit(X_train, y_train, **fit_params)\n  File \"/home/toandokhanh/.local/lib/python3.10/site-packages/keras/wrappers/scikit_learn.py\", line 248, in fit\n    return super().fit(x, y, **kwargs)\n  File \"/home/toandokhanh/.local/lib/python3.10/site-packages/keras/wrappers/scikit_learn.py\", line 164, in fit\n    self.model = self.build_fn(**self.filter_sk_params(self.build_fn))\n  File \"/tmp/ipykernel_71/588562844.py\", line 22, in create_model\n    model.add(Conv2D(64, kernel_size=9, activation='relu', input_shape=(8,8,1)))\n  File \"/home/toandokhanh/.local/lib/python3.10/site-packages/tensorflow/python/trackable/base.py\", line 205, in _method_wrapper\n    result = method(self, *args, **kwargs)\n  File \"/home/toandokhanh/.local/lib/python3.10/site-packages/keras/utils/traceback_utils.py\", line 70, in error_handler\n    raise e.with_traceback(filtered_tb) from None\n  File \"/home/toandokhanh/.local/lib/python3.10/site-packages/tensorflow/python/framework/ops.py\", line 1973, in _create_c_op\n    raise ValueError(e.message)\nValueError: Exception encountered when calling layer \"conv2d_44\" (type Conv2D).\n\nNegative dimension size caused by subtracting 9 from 8 for '{{node conv2d_44/Conv2D}} = Conv2D[T=DT_FLOAT, data_format=\"NHWC\", dilations=[1, 1, 1, 1], explicit_paddings=[], padding=\"VALID\", strides=[1, 1, 1, 1], use_cudnn_on_gpu=true](Placeholder, conv2d_44/Conv2D/ReadVariableOp)' with input shapes: [?,8,8,1], [9,9,1,64].\n\nCall arguments received by layer \"conv2d_44\" (type Conv2D):\n  • inputs=tf.Tensor(shape=(None, 8, 8, 1), dtype=float32)\n\n--------------------------------------------------------------------------------\n1 fits failed with the following error:\nTraceback (most recent call last):\n  File \"/home/toandokhanh/.local/lib/python3.10/site-packages/sklearn/model_selection/_validation.py\", line 686, in _fit_and_score\n    estimator.fit(X_train, y_train, **fit_params)\n  File \"/home/toandokhanh/.local/lib/python3.10/site-packages/keras/wrappers/scikit_learn.py\", line 248, in fit\n    return super().fit(x, y, **kwargs)\n  File \"/home/toandokhanh/.local/lib/python3.10/site-packages/keras/wrappers/scikit_learn.py\", line 164, in fit\n    self.model = self.build_fn(**self.filter_sk_params(self.build_fn))\n  File \"/tmp/ipykernel_71/588562844.py\", line 22, in create_model\n    model.add(Conv2D(64, kernel_size=9, activation='relu', input_shape=(8,8,1)))\n  File \"/home/toandokhanh/.local/lib/python3.10/site-packages/tensorflow/python/trackable/base.py\", line 205, in _method_wrapper\n    result = method(self, *args, **kwargs)\n  File \"/home/toandokhanh/.local/lib/python3.10/site-packages/keras/utils/traceback_utils.py\", line 70, in error_handler\n    raise e.with_traceback(filtered_tb) from None\n  File \"/home/toandokhanh/.local/lib/python3.10/site-packages/tensorflow/python/framework/ops.py\", line 1973, in _create_c_op\n    raise ValueError(e.message)\nValueError: Exception encountered when calling layer \"conv2d_45\" (type Conv2D).\n\nNegative dimension size caused by subtracting 9 from 8 for '{{node conv2d_45/Conv2D}} = Conv2D[T=DT_FLOAT, data_format=\"NHWC\", dilations=[1, 1, 1, 1], explicit_paddings=[], padding=\"VALID\", strides=[1, 1, 1, 1], use_cudnn_on_gpu=true](Placeholder, conv2d_45/Conv2D/ReadVariableOp)' with input shapes: [?,8,8,1], [9,9,1,64].\n\nCall arguments received by layer \"conv2d_45\" (type Conv2D):\n  • inputs=tf.Tensor(shape=(None, 8, 8, 1), dtype=float32)\n"
     ]
    }
   ],
   "source": [
    "# kernel-size 9\n",
    "from numpy.random import seed \n",
    "seed(1)\n",
    "import tensorflow\n",
    "tensorflow.random.set_seed(1)\n",
    "\n",
    "import pandas as pd\n",
    "import tensorflow as tf\n",
    "from keras.wrappers.scikit_learn import KerasClassifier\n",
    "from keras.models import Sequential\n",
    "from keras.layers import Dense, Conv2D, Flatten\n",
    "from sklearn.model_selection import cross_validate\n",
    "\n",
    "X_image = digits.images.reshape(digits.images.shape[0], digits.images.shape[1],\n",
    "                               digits.images.shape[1], 1).astype('float32')\n",
    "print(X_image.shape)\n",
    "y_image = y\n",
    "print(y_image.shape)\n",
    "#print(y.shape)\n",
    "def create_model():\n",
    "        model = Sequential()\n",
    "        model.add(Conv2D(64, kernel_size=9, activation='relu', input_shape=(8,8,1)))\n",
    "        model.add(Flatten())\n",
    "        model.add(Dense(64))\n",
    "        model.add(Dense(10, activation='softmax'))\n",
    "        model.compile(optimizer='adam', loss='categorical_crossentropy', metrics=['accuracy'])\n",
    "        return model\n",
    "model = KerasClassifier(build_fn = create_model, epochs=100, batch_size=256, verbose=0)\n",
    "    \n",
    "scoring = { 'acc': 'accuracy','prec_macro': 'precision_macro',\n",
    "           'rec_micro': 'recall_macro', 'fl_score': 'f1_macro'          \n",
    "}\n",
    "scores = cross_validate(model, X_image, y_image, scoring=scoring, cv=2, return_train_score=True)\n",
    "print('CNN')\n",
    "scores"
   ]
  },
  {
   "cell_type": "code",
   "execution_count": 59,
   "id": "90b25531",
   "metadata": {},
   "outputs": [
    {
     "name": "stdout",
     "output_type": "stream",
     "text": [
      "(1797, 8, 8, 1)\n",
      "(1797,)\n"
     ]
    },
    {
     "name": "stderr",
     "output_type": "stream",
     "text": [
      "/tmp/ipykernel_71/1137381970.py:28: DeprecationWarning: KerasClassifier is deprecated, use Sci-Keras (https://github.com/adriangb/scikeras) instead. See https://www.adriangb.com/scikeras/stable/migration.html for help migrating.\n",
      "  model = KerasClassifier(build_fn = create_model, epochs=100, batch_size=256, verbose=0)\n"
     ]
    },
    {
     "ename": "ValueError",
     "evalue": "\nAll the 2 fits failed.\nIt is very likely that your model is misconfigured.\nYou can try to debug the error by setting error_score='raise'.\n\nBelow are more details about the failures:\n--------------------------------------------------------------------------------\n1 fits failed with the following error:\nTraceback (most recent call last):\n  File \"/home/toandokhanh/.local/lib/python3.10/site-packages/sklearn/model_selection/_validation.py\", line 686, in _fit_and_score\n    estimator.fit(X_train, y_train, **fit_params)\n  File \"/home/toandokhanh/.local/lib/python3.10/site-packages/keras/wrappers/scikit_learn.py\", line 248, in fit\n    return super().fit(x, y, **kwargs)\n  File \"/home/toandokhanh/.local/lib/python3.10/site-packages/keras/wrappers/scikit_learn.py\", line 164, in fit\n    self.model = self.build_fn(**self.filter_sk_params(self.build_fn))\n  File \"/tmp/ipykernel_71/1137381970.py\", line 22, in create_model\n    model.add(Conv2D(64, kernel_size=11, activation='relu', input_shape=(8,8,1)))\n  File \"/home/toandokhanh/.local/lib/python3.10/site-packages/tensorflow/python/trackable/base.py\", line 205, in _method_wrapper\n    result = method(self, *args, **kwargs)\n  File \"/home/toandokhanh/.local/lib/python3.10/site-packages/keras/utils/traceback_utils.py\", line 70, in error_handler\n    raise e.with_traceback(filtered_tb) from None\n  File \"/home/toandokhanh/.local/lib/python3.10/site-packages/keras/layers/convolutional/base_conv.py\", line 354, in compute_output_shape\n    raise ValueError(\nValueError: One of the dimensions in the output is <= 0 due to downsampling in conv2d_40. Consider increasing the input size. Received input shape [None, 8, 8, 1] which would produce output shape with a zero or negative value in a dimension.\n\n--------------------------------------------------------------------------------\n1 fits failed with the following error:\nTraceback (most recent call last):\n  File \"/home/toandokhanh/.local/lib/python3.10/site-packages/sklearn/model_selection/_validation.py\", line 686, in _fit_and_score\n    estimator.fit(X_train, y_train, **fit_params)\n  File \"/home/toandokhanh/.local/lib/python3.10/site-packages/keras/wrappers/scikit_learn.py\", line 248, in fit\n    return super().fit(x, y, **kwargs)\n  File \"/home/toandokhanh/.local/lib/python3.10/site-packages/keras/wrappers/scikit_learn.py\", line 164, in fit\n    self.model = self.build_fn(**self.filter_sk_params(self.build_fn))\n  File \"/tmp/ipykernel_71/1137381970.py\", line 22, in create_model\n    model.add(Conv2D(64, kernel_size=11, activation='relu', input_shape=(8,8,1)))\n  File \"/home/toandokhanh/.local/lib/python3.10/site-packages/tensorflow/python/trackable/base.py\", line 205, in _method_wrapper\n    result = method(self, *args, **kwargs)\n  File \"/home/toandokhanh/.local/lib/python3.10/site-packages/keras/utils/traceback_utils.py\", line 70, in error_handler\n    raise e.with_traceback(filtered_tb) from None\n  File \"/home/toandokhanh/.local/lib/python3.10/site-packages/keras/layers/convolutional/base_conv.py\", line 354, in compute_output_shape\n    raise ValueError(\nValueError: One of the dimensions in the output is <= 0 due to downsampling in conv2d_41. Consider increasing the input size. Received input shape [None, 8, 8, 1] which would produce output shape with a zero or negative value in a dimension.\n",
     "output_type": "error",
     "traceback": [
      "\u001b[0;31m---------------------------------------------------------------------------\u001b[0m",
      "\u001b[0;31mValueError\u001b[0m                                Traceback (most recent call last)",
      "\u001b[0;32m/tmp/ipykernel_71/1137381970.py\u001b[0m in \u001b[0;36m<module>\u001b[0;34m\u001b[0m\n\u001b[1;32m     31\u001b[0m            \u001b[0;34m'rec_micro'\u001b[0m\u001b[0;34m:\u001b[0m \u001b[0;34m'recall_macro'\u001b[0m\u001b[0;34m,\u001b[0m \u001b[0;34m'fl_score'\u001b[0m\u001b[0;34m:\u001b[0m \u001b[0;34m'f1_macro'\u001b[0m\u001b[0;34m\u001b[0m\u001b[0;34m\u001b[0m\u001b[0m\n\u001b[1;32m     32\u001b[0m }\n\u001b[0;32m---> 33\u001b[0;31m \u001b[0mscores\u001b[0m \u001b[0;34m=\u001b[0m \u001b[0mcross_validate\u001b[0m\u001b[0;34m(\u001b[0m\u001b[0mmodel\u001b[0m\u001b[0;34m,\u001b[0m \u001b[0mX_image\u001b[0m\u001b[0;34m,\u001b[0m \u001b[0my_image\u001b[0m\u001b[0;34m,\u001b[0m \u001b[0mscoring\u001b[0m\u001b[0;34m=\u001b[0m\u001b[0mscoring\u001b[0m\u001b[0;34m,\u001b[0m \u001b[0mcv\u001b[0m\u001b[0;34m=\u001b[0m\u001b[0;36m2\u001b[0m\u001b[0;34m,\u001b[0m \u001b[0mreturn_train_score\u001b[0m\u001b[0;34m=\u001b[0m\u001b[0;32mTrue\u001b[0m\u001b[0;34m)\u001b[0m\u001b[0;34m\u001b[0m\u001b[0;34m\u001b[0m\u001b[0m\n\u001b[0m\u001b[1;32m     34\u001b[0m \u001b[0mprint\u001b[0m\u001b[0;34m(\u001b[0m\u001b[0;34m'CNN'\u001b[0m\u001b[0;34m)\u001b[0m\u001b[0;34m\u001b[0m\u001b[0;34m\u001b[0m\u001b[0m\n\u001b[1;32m     35\u001b[0m \u001b[0mscores\u001b[0m\u001b[0;34m\u001b[0m\u001b[0;34m\u001b[0m\u001b[0m\n",
      "\u001b[0;32m~/.local/lib/python3.10/site-packages/sklearn/model_selection/_validation.py\u001b[0m in \u001b[0;36mcross_validate\u001b[0;34m(estimator, X, y, groups, scoring, cv, n_jobs, verbose, fit_params, pre_dispatch, return_train_score, return_estimator, error_score)\u001b[0m\n\u001b[1;32m    283\u001b[0m     )\n\u001b[1;32m    284\u001b[0m \u001b[0;34m\u001b[0m\u001b[0m\n\u001b[0;32m--> 285\u001b[0;31m     \u001b[0m_warn_or_raise_about_fit_failures\u001b[0m\u001b[0;34m(\u001b[0m\u001b[0mresults\u001b[0m\u001b[0;34m,\u001b[0m \u001b[0merror_score\u001b[0m\u001b[0;34m)\u001b[0m\u001b[0;34m\u001b[0m\u001b[0;34m\u001b[0m\u001b[0m\n\u001b[0m\u001b[1;32m    286\u001b[0m \u001b[0;34m\u001b[0m\u001b[0m\n\u001b[1;32m    287\u001b[0m     \u001b[0;31m# For callabe scoring, the return type is only know after calling. If the\u001b[0m\u001b[0;34m\u001b[0m\u001b[0;34m\u001b[0m\u001b[0m\n",
      "\u001b[0;32m~/.local/lib/python3.10/site-packages/sklearn/model_selection/_validation.py\u001b[0m in \u001b[0;36m_warn_or_raise_about_fit_failures\u001b[0;34m(results, error_score)\u001b[0m\n\u001b[1;32m    365\u001b[0m                 \u001b[0;34mf\"Below are more details about the failures:\\n{fit_errors_summary}\"\u001b[0m\u001b[0;34m\u001b[0m\u001b[0;34m\u001b[0m\u001b[0m\n\u001b[1;32m    366\u001b[0m             )\n\u001b[0;32m--> 367\u001b[0;31m             \u001b[0;32mraise\u001b[0m \u001b[0mValueError\u001b[0m\u001b[0;34m(\u001b[0m\u001b[0mall_fits_failed_message\u001b[0m\u001b[0;34m)\u001b[0m\u001b[0;34m\u001b[0m\u001b[0;34m\u001b[0m\u001b[0m\n\u001b[0m\u001b[1;32m    368\u001b[0m \u001b[0;34m\u001b[0m\u001b[0m\n\u001b[1;32m    369\u001b[0m         \u001b[0;32melse\u001b[0m\u001b[0;34m:\u001b[0m\u001b[0;34m\u001b[0m\u001b[0;34m\u001b[0m\u001b[0m\n",
      "\u001b[0;31mValueError\u001b[0m: \nAll the 2 fits failed.\nIt is very likely that your model is misconfigured.\nYou can try to debug the error by setting error_score='raise'.\n\nBelow are more details about the failures:\n--------------------------------------------------------------------------------\n1 fits failed with the following error:\nTraceback (most recent call last):\n  File \"/home/toandokhanh/.local/lib/python3.10/site-packages/sklearn/model_selection/_validation.py\", line 686, in _fit_and_score\n    estimator.fit(X_train, y_train, **fit_params)\n  File \"/home/toandokhanh/.local/lib/python3.10/site-packages/keras/wrappers/scikit_learn.py\", line 248, in fit\n    return super().fit(x, y, **kwargs)\n  File \"/home/toandokhanh/.local/lib/python3.10/site-packages/keras/wrappers/scikit_learn.py\", line 164, in fit\n    self.model = self.build_fn(**self.filter_sk_params(self.build_fn))\n  File \"/tmp/ipykernel_71/1137381970.py\", line 22, in create_model\n    model.add(Conv2D(64, kernel_size=11, activation='relu', input_shape=(8,8,1)))\n  File \"/home/toandokhanh/.local/lib/python3.10/site-packages/tensorflow/python/trackable/base.py\", line 205, in _method_wrapper\n    result = method(self, *args, **kwargs)\n  File \"/home/toandokhanh/.local/lib/python3.10/site-packages/keras/utils/traceback_utils.py\", line 70, in error_handler\n    raise e.with_traceback(filtered_tb) from None\n  File \"/home/toandokhanh/.local/lib/python3.10/site-packages/keras/layers/convolutional/base_conv.py\", line 354, in compute_output_shape\n    raise ValueError(\nValueError: One of the dimensions in the output is <= 0 due to downsampling in conv2d_40. Consider increasing the input size. Received input shape [None, 8, 8, 1] which would produce output shape with a zero or negative value in a dimension.\n\n--------------------------------------------------------------------------------\n1 fits failed with the following error:\nTraceback (most recent call last):\n  File \"/home/toandokhanh/.local/lib/python3.10/site-packages/sklearn/model_selection/_validation.py\", line 686, in _fit_and_score\n    estimator.fit(X_train, y_train, **fit_params)\n  File \"/home/toandokhanh/.local/lib/python3.10/site-packages/keras/wrappers/scikit_learn.py\", line 248, in fit\n    return super().fit(x, y, **kwargs)\n  File \"/home/toandokhanh/.local/lib/python3.10/site-packages/keras/wrappers/scikit_learn.py\", line 164, in fit\n    self.model = self.build_fn(**self.filter_sk_params(self.build_fn))\n  File \"/tmp/ipykernel_71/1137381970.py\", line 22, in create_model\n    model.add(Conv2D(64, kernel_size=11, activation='relu', input_shape=(8,8,1)))\n  File \"/home/toandokhanh/.local/lib/python3.10/site-packages/tensorflow/python/trackable/base.py\", line 205, in _method_wrapper\n    result = method(self, *args, **kwargs)\n  File \"/home/toandokhanh/.local/lib/python3.10/site-packages/keras/utils/traceback_utils.py\", line 70, in error_handler\n    raise e.with_traceback(filtered_tb) from None\n  File \"/home/toandokhanh/.local/lib/python3.10/site-packages/keras/layers/convolutional/base_conv.py\", line 354, in compute_output_shape\n    raise ValueError(\nValueError: One of the dimensions in the output is <= 0 due to downsampling in conv2d_41. Consider increasing the input size. Received input shape [None, 8, 8, 1] which would produce output shape with a zero or negative value in a dimension.\n"
     ]
    }
   ],
   "source": [
    "# kernel-size 11\n",
    "from numpy.random import seed \n",
    "seed(1)\n",
    "import tensorflow\n",
    "tensorflow.random.set_seed(1)\n",
    "\n",
    "import pandas as pd\n",
    "import tensorflow as tf\n",
    "from keras.wrappers.scikit_learn import KerasClassifier\n",
    "from keras.models import Sequential\n",
    "from keras.layers import Dense, Conv2D, Flatten\n",
    "from sklearn.model_selection import cross_validate\n",
    "\n",
    "X_image = digits.images.reshape(digits.images.shape[0], digits.images.shape[1],\n",
    "                               digits.images.shape[1], 1).astype('float32')\n",
    "print(X_image.shape)\n",
    "y_image = y\n",
    "print(y_image.shape)\n",
    "#print(y.shape)\n",
    "def create_model():\n",
    "        model = Sequential()\n",
    "        model.add(Conv2D(64, kernel_size=11, activation='relu', input_shape=(8,8,1)))\n",
    "        model.add(Flatten())\n",
    "        model.add(Dense(64))\n",
    "        model.add(Dense(10, activation='softmax'))\n",
    "        model.compile(optimizer='adam', loss='categorical_crossentropy', metrics=['accuracy'])\n",
    "        return model\n",
    "model = KerasClassifier(build_fn = create_model, epochs=100, batch_size=256, verbose=0)\n",
    "    \n",
    "scoring = { 'acc': 'accuracy','prec_macro': 'precision_macro',\n",
    "           'rec_micro': 'recall_macro', 'fl_score': 'f1_macro'          \n",
    "}\n",
    "scores = cross_validate(model, X_image, y_image, scoring=scoring, cv=2, return_train_score=True)\n",
    "print('CNN')\n",
    "scores"
   ]
  },
  {
   "cell_type": "markdown",
   "id": "fe335ea6",
   "metadata": {},
   "source": [
    "### Bảng so sánh\n",
    "\n",
    "\n",
    "| Kernel Size | Accuracy (Test) | Recall (Test) | F1-score (Test) | Fit Time (s) | Score Time (s) |\n",
    "|-------------|-----------------|---------------|-----------------|--------------|-----------------|\n",
    "| 1           | 0.8843          | 0.8843        | 0.8873          | 3.6651       | 0.1244          |\n",
    "| 5           | 0.9333          | 0.9334        | 0.9336          | 2.0691       | 0.1176          |\n",
    "| 7           | 0.9288          | 0.9292        | 0.9293          | 1.5165       | 0.1282          |\n",
    "| 9           | error          | error      | error          | error       | error          |\n",
    "| 11           | error          | error        | error          | error       | error          |\n",
    "\n",
    "\n",
    "### Nhận xét:\n",
    "- Khi sử dụng kernel size là 5, mô hình đạt được hiệu suất tốt hơn với độ chính xác, Recall và F1-score cao hơn so với kernel size 1 và 7.\n",
    "- Kernel size 7 cũng có hiệu suất tốt nhưng có thời gian huấn luyện và thời gian đánh giá thấp hơn so với kernel size 5\n",
    "=> Kích thước kernel có ảnh hưởng đến hiệu suất của mô hình.\n",
    "\n",
    "###### Kernel Size = 9 và 11 báo lỗi là do:\n",
    "- kích thước đầu vào của ảnh là (8, 8, 1) nhưng kernel_size trong lớp Conv2D là 9 và 11 lớn hơn kích thước đầu vào nên mô hình báo lỗi"
   ]
  },
  {
   "cell_type": "markdown",
   "id": "050bab4a",
   "metadata": {},
   "source": [
    "##### 10. Thực hiện đoạn code [11], ở dòng 21, trang 84, thay thế số neuron ở dòng 24 từ 10 thành một con số khác 10. Thử chạy và nhận xét kết quả, giải thích.\n"
   ]
  },
  {
   "cell_type": "code",
   "execution_count": 81,
   "id": "fa2dafd8",
   "metadata": {},
   "outputs": [
    {
     "name": "stdout",
     "output_type": "stream",
     "text": [
      "(1797, 8, 8, 1)\n",
      "(1797,)\n"
     ]
    },
    {
     "name": "stderr",
     "output_type": "stream",
     "text": [
      "/tmp/ipykernel_71/3265169761.py:28: DeprecationWarning: KerasClassifier is deprecated, use Sci-Keras (https://github.com/adriangb/scikeras) instead. See https://www.adriangb.com/scikeras/stable/migration.html for help migrating.\n",
      "  model = KerasClassifier(build_fn = create_model, epochs=100, batch_size=256, verbose=0)\n"
     ]
    },
    {
     "ename": "ValueError",
     "evalue": "\nAll the 2 fits failed.\nIt is very likely that your model is misconfigured.\nYou can try to debug the error by setting error_score='raise'.\n\nBelow are more details about the failures:\n--------------------------------------------------------------------------------\n1 fits failed with the following error:\nTraceback (most recent call last):\n  File \"/home/toandokhanh/.local/lib/python3.10/site-packages/sklearn/model_selection/_validation.py\", line 686, in _fit_and_score\n    estimator.fit(X_train, y_train, **fit_params)\n  File \"/home/toandokhanh/.local/lib/python3.10/site-packages/keras/wrappers/scikit_learn.py\", line 248, in fit\n    return super().fit(x, y, **kwargs)\n  File \"/home/toandokhanh/.local/lib/python3.10/site-packages/keras/wrappers/scikit_learn.py\", line 164, in fit\n    self.model = self.build_fn(**self.filter_sk_params(self.build_fn))\n  File \"/tmp/ipykernel_71/3265169761.py\", line 22, in create_model\n    model.add(Conv2D(64, kernel_size=11, activation='relu', input_shape=(8,8,1)))\n  File \"/home/toandokhanh/.local/lib/python3.10/site-packages/tensorflow/python/trackable/base.py\", line 205, in _method_wrapper\n    result = method(self, *args, **kwargs)\n  File \"/home/toandokhanh/.local/lib/python3.10/site-packages/keras/utils/traceback_utils.py\", line 70, in error_handler\n    raise e.with_traceback(filtered_tb) from None\n  File \"/home/toandokhanh/.local/lib/python3.10/site-packages/keras/layers/convolutional/base_conv.py\", line 354, in compute_output_shape\n    raise ValueError(\nValueError: One of the dimensions in the output is <= 0 due to downsampling in conv2d_84. Consider increasing the input size. Received input shape [None, 8, 8, 1] which would produce output shape with a zero or negative value in a dimension.\n\n--------------------------------------------------------------------------------\n1 fits failed with the following error:\nTraceback (most recent call last):\n  File \"/home/toandokhanh/.local/lib/python3.10/site-packages/sklearn/model_selection/_validation.py\", line 686, in _fit_and_score\n    estimator.fit(X_train, y_train, **fit_params)\n  File \"/home/toandokhanh/.local/lib/python3.10/site-packages/keras/wrappers/scikit_learn.py\", line 248, in fit\n    return super().fit(x, y, **kwargs)\n  File \"/home/toandokhanh/.local/lib/python3.10/site-packages/keras/wrappers/scikit_learn.py\", line 164, in fit\n    self.model = self.build_fn(**self.filter_sk_params(self.build_fn))\n  File \"/tmp/ipykernel_71/3265169761.py\", line 22, in create_model\n    model.add(Conv2D(64, kernel_size=11, activation='relu', input_shape=(8,8,1)))\n  File \"/home/toandokhanh/.local/lib/python3.10/site-packages/tensorflow/python/trackable/base.py\", line 205, in _method_wrapper\n    result = method(self, *args, **kwargs)\n  File \"/home/toandokhanh/.local/lib/python3.10/site-packages/keras/utils/traceback_utils.py\", line 70, in error_handler\n    raise e.with_traceback(filtered_tb) from None\n  File \"/home/toandokhanh/.local/lib/python3.10/site-packages/keras/layers/convolutional/base_conv.py\", line 354, in compute_output_shape\n    raise ValueError(\nValueError: One of the dimensions in the output is <= 0 due to downsampling in conv2d_85. Consider increasing the input size. Received input shape [None, 8, 8, 1] which would produce output shape with a zero or negative value in a dimension.\n",
     "output_type": "error",
     "traceback": [
      "\u001b[0;31m---------------------------------------------------------------------------\u001b[0m",
      "\u001b[0;31mValueError\u001b[0m                                Traceback (most recent call last)",
      "\u001b[0;32m/tmp/ipykernel_71/3265169761.py\u001b[0m in \u001b[0;36m<module>\u001b[0;34m\u001b[0m\n\u001b[1;32m     31\u001b[0m            \u001b[0;34m'rec_micro'\u001b[0m\u001b[0;34m:\u001b[0m \u001b[0;34m'recall_macro'\u001b[0m\u001b[0;34m,\u001b[0m \u001b[0;34m'fl_score'\u001b[0m\u001b[0;34m:\u001b[0m \u001b[0;34m'f1_macro'\u001b[0m\u001b[0;34m\u001b[0m\u001b[0;34m\u001b[0m\u001b[0m\n\u001b[1;32m     32\u001b[0m }\n\u001b[0;32m---> 33\u001b[0;31m \u001b[0mscores\u001b[0m \u001b[0;34m=\u001b[0m \u001b[0mcross_validate\u001b[0m\u001b[0;34m(\u001b[0m\u001b[0mmodel\u001b[0m\u001b[0;34m,\u001b[0m \u001b[0mX_image\u001b[0m\u001b[0;34m,\u001b[0m \u001b[0my_image\u001b[0m\u001b[0;34m,\u001b[0m \u001b[0mscoring\u001b[0m\u001b[0;34m=\u001b[0m\u001b[0mscoring\u001b[0m\u001b[0;34m,\u001b[0m \u001b[0mcv\u001b[0m\u001b[0;34m=\u001b[0m\u001b[0;36m2\u001b[0m\u001b[0;34m,\u001b[0m \u001b[0mreturn_train_score\u001b[0m\u001b[0;34m=\u001b[0m\u001b[0;32mTrue\u001b[0m\u001b[0;34m)\u001b[0m\u001b[0;34m\u001b[0m\u001b[0;34m\u001b[0m\u001b[0m\n\u001b[0m\u001b[1;32m     34\u001b[0m \u001b[0mprint\u001b[0m\u001b[0;34m(\u001b[0m\u001b[0;34m'CNN'\u001b[0m\u001b[0;34m)\u001b[0m\u001b[0;34m\u001b[0m\u001b[0;34m\u001b[0m\u001b[0m\n\u001b[1;32m     35\u001b[0m \u001b[0mscores\u001b[0m\u001b[0;34m\u001b[0m\u001b[0;34m\u001b[0m\u001b[0m\n",
      "\u001b[0;32m~/.local/lib/python3.10/site-packages/sklearn/model_selection/_validation.py\u001b[0m in \u001b[0;36mcross_validate\u001b[0;34m(estimator, X, y, groups, scoring, cv, n_jobs, verbose, fit_params, pre_dispatch, return_train_score, return_estimator, error_score)\u001b[0m\n\u001b[1;32m    283\u001b[0m     )\n\u001b[1;32m    284\u001b[0m \u001b[0;34m\u001b[0m\u001b[0m\n\u001b[0;32m--> 285\u001b[0;31m     \u001b[0m_warn_or_raise_about_fit_failures\u001b[0m\u001b[0;34m(\u001b[0m\u001b[0mresults\u001b[0m\u001b[0;34m,\u001b[0m \u001b[0merror_score\u001b[0m\u001b[0;34m)\u001b[0m\u001b[0;34m\u001b[0m\u001b[0;34m\u001b[0m\u001b[0m\n\u001b[0m\u001b[1;32m    286\u001b[0m \u001b[0;34m\u001b[0m\u001b[0m\n\u001b[1;32m    287\u001b[0m     \u001b[0;31m# For callabe scoring, the return type is only know after calling. If the\u001b[0m\u001b[0;34m\u001b[0m\u001b[0;34m\u001b[0m\u001b[0m\n",
      "\u001b[0;32m~/.local/lib/python3.10/site-packages/sklearn/model_selection/_validation.py\u001b[0m in \u001b[0;36m_warn_or_raise_about_fit_failures\u001b[0;34m(results, error_score)\u001b[0m\n\u001b[1;32m    365\u001b[0m                 \u001b[0;34mf\"Below are more details about the failures:\\n{fit_errors_summary}\"\u001b[0m\u001b[0;34m\u001b[0m\u001b[0;34m\u001b[0m\u001b[0m\n\u001b[1;32m    366\u001b[0m             )\n\u001b[0;32m--> 367\u001b[0;31m             \u001b[0;32mraise\u001b[0m \u001b[0mValueError\u001b[0m\u001b[0;34m(\u001b[0m\u001b[0mall_fits_failed_message\u001b[0m\u001b[0;34m)\u001b[0m\u001b[0;34m\u001b[0m\u001b[0;34m\u001b[0m\u001b[0m\n\u001b[0m\u001b[1;32m    368\u001b[0m \u001b[0;34m\u001b[0m\u001b[0m\n\u001b[1;32m    369\u001b[0m         \u001b[0;32melse\u001b[0m\u001b[0;34m:\u001b[0m\u001b[0;34m\u001b[0m\u001b[0;34m\u001b[0m\u001b[0m\n",
      "\u001b[0;31mValueError\u001b[0m: \nAll the 2 fits failed.\nIt is very likely that your model is misconfigured.\nYou can try to debug the error by setting error_score='raise'.\n\nBelow are more details about the failures:\n--------------------------------------------------------------------------------\n1 fits failed with the following error:\nTraceback (most recent call last):\n  File \"/home/toandokhanh/.local/lib/python3.10/site-packages/sklearn/model_selection/_validation.py\", line 686, in _fit_and_score\n    estimator.fit(X_train, y_train, **fit_params)\n  File \"/home/toandokhanh/.local/lib/python3.10/site-packages/keras/wrappers/scikit_learn.py\", line 248, in fit\n    return super().fit(x, y, **kwargs)\n  File \"/home/toandokhanh/.local/lib/python3.10/site-packages/keras/wrappers/scikit_learn.py\", line 164, in fit\n    self.model = self.build_fn(**self.filter_sk_params(self.build_fn))\n  File \"/tmp/ipykernel_71/3265169761.py\", line 22, in create_model\n    model.add(Conv2D(64, kernel_size=11, activation='relu', input_shape=(8,8,1)))\n  File \"/home/toandokhanh/.local/lib/python3.10/site-packages/tensorflow/python/trackable/base.py\", line 205, in _method_wrapper\n    result = method(self, *args, **kwargs)\n  File \"/home/toandokhanh/.local/lib/python3.10/site-packages/keras/utils/traceback_utils.py\", line 70, in error_handler\n    raise e.with_traceback(filtered_tb) from None\n  File \"/home/toandokhanh/.local/lib/python3.10/site-packages/keras/layers/convolutional/base_conv.py\", line 354, in compute_output_shape\n    raise ValueError(\nValueError: One of the dimensions in the output is <= 0 due to downsampling in conv2d_84. Consider increasing the input size. Received input shape [None, 8, 8, 1] which would produce output shape with a zero or negative value in a dimension.\n\n--------------------------------------------------------------------------------\n1 fits failed with the following error:\nTraceback (most recent call last):\n  File \"/home/toandokhanh/.local/lib/python3.10/site-packages/sklearn/model_selection/_validation.py\", line 686, in _fit_and_score\n    estimator.fit(X_train, y_train, **fit_params)\n  File \"/home/toandokhanh/.local/lib/python3.10/site-packages/keras/wrappers/scikit_learn.py\", line 248, in fit\n    return super().fit(x, y, **kwargs)\n  File \"/home/toandokhanh/.local/lib/python3.10/site-packages/keras/wrappers/scikit_learn.py\", line 164, in fit\n    self.model = self.build_fn(**self.filter_sk_params(self.build_fn))\n  File \"/tmp/ipykernel_71/3265169761.py\", line 22, in create_model\n    model.add(Conv2D(64, kernel_size=11, activation='relu', input_shape=(8,8,1)))\n  File \"/home/toandokhanh/.local/lib/python3.10/site-packages/tensorflow/python/trackable/base.py\", line 205, in _method_wrapper\n    result = method(self, *args, **kwargs)\n  File \"/home/toandokhanh/.local/lib/python3.10/site-packages/keras/utils/traceback_utils.py\", line 70, in error_handler\n    raise e.with_traceback(filtered_tb) from None\n  File \"/home/toandokhanh/.local/lib/python3.10/site-packages/keras/layers/convolutional/base_conv.py\", line 354, in compute_output_shape\n    raise ValueError(\nValueError: One of the dimensions in the output is <= 0 due to downsampling in conv2d_85. Consider increasing the input size. Received input shape [None, 8, 8, 1] which would produce output shape with a zero or negative value in a dimension.\n"
     ]
    }
   ],
   "source": [
    "# neuron = 9\n",
    "from numpy.random import seed \n",
    "seed(1)\n",
    "import tensorflow\n",
    "tensorflow.random.set_seed(1)\n",
    "\n",
    "import pandas as pd\n",
    "import tensorflow as tf\n",
    "from keras.wrappers.scikit_learn import KerasClassifier\n",
    "from keras.models import Sequential\n",
    "from keras.layers import Dense, Conv2D, Flatten\n",
    "from sklearn.model_selection import cross_validate\n",
    "\n",
    "X_image = digits.images.reshape(digits.images.shape[0], digits.images.shape[1],\n",
    "                               digits.images.shape[1], 1).astype('float32')\n",
    "print(X_image.shape)\n",
    "y_image = y\n",
    "print(y_image.shape)\n",
    "#print(y.shape)\n",
    "def create_model():\n",
    "        model = Sequential()\n",
    "        model.add(Conv2D(64, kernel_size=11, activation='relu', input_shape=(8,8,1)))\n",
    "        model.add(Flatten())\n",
    "        model.add(Dense(64))\n",
    "        model.add(Dense(9, activation='softmax'))\n",
    "        model.compile(optimizer='adam', loss='categorical_crossentropy', metrics=['accuracy'])\n",
    "        return model\n",
    "model = KerasClassifier(build_fn = create_model, epochs=100, batch_size=256, verbose=0)\n",
    "    \n",
    "scoring = { 'acc': 'accuracy','prec_macro': 'precision_macro',\n",
    "           'rec_micro': 'recall_macro', 'fl_score': 'f1_macro'          \n",
    "}\n",
    "scores = cross_validate(model, X_image, y_image, scoring=scoring, cv=2, return_train_score=True)\n",
    "print('CNN')\n",
    "scores"
   ]
  },
  {
   "cell_type": "markdown",
   "id": "f21bc016",
   "metadata": {},
   "source": [
    "### Nhận xét:\n",
    "###### code sẽ báo lỗi bởi vì:\n",
    "- có một vấn đề với các lớp convolutional và kích thước đầu vào. Khi thay đổi số lượng neuron trong lớp dense cuối cùng, nó ảnh hưởng đến hình dạng đầu ra của các lớp trước đó, bao gồm các lớp convolutional. Trong trường hợp này, có vẻ rằng các lớp convolutional được thiết kế với một hình dạng đầu ra cụ thể trong tâm trí và việc thay đổi số lượng neuron trong lớp dense cuối cùng đã dẫn đến một cấu hình không hợp lệ.\n",
    "\n"
   ]
  }
 ],
 "metadata": {
  "kernelspec": {
   "display_name": "Python 3 (ipykernel)",
   "language": "python",
   "name": "python3"
  },
  "language_info": {
   "codemirror_mode": {
    "name": "ipython",
    "version": 3
   },
   "file_extension": ".py",
   "mimetype": "text/x-python",
   "name": "python",
   "nbconvert_exporter": "python",
   "pygments_lexer": "ipython3",
   "version": "3.10.6"
  }
 },
 "nbformat": 4,
 "nbformat_minor": 5
}
