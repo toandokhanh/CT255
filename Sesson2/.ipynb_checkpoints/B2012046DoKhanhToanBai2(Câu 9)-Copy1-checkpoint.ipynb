{
 "cells": [
  {
   "cell_type": "markdown",
   "id": "ef2d3279",
   "metadata": {},
   "source": [
    "### 9. Từ dữ liệu customers.csv, các bạn thực hiện dự đoán thu nhập (Annual Income) từ các thuộc tính còn lại. Với thuộc tính dạng categories, các bạn tham chiếu link sau để chuyển đổi từ dữ liệu dạng categories sang số với 3 cách: replace(), get_dummies(), Drop columns. Tiến hành phân chia dữ liệu với tỷ lệ huấn luyện 70% và kiểm tra 30% với  các thuật toán hồi quy tuyến tính, và cây quyết định, và phương pháp mạng nơ ron tích chập. Với mỗi thuật toán kết hợp với 1 cách chuyển đổi các bạn làm trong 1 cell (sẽ có tất cả 3*3=9 cell cho câu này).\n"
   ]
  },
  {
   "cell_type": "markdown",
   "id": "91ccfef2",
   "metadata": {},
   "source": [
    "# +replace()"
   ]
  },
  {
   "cell_type": "code",
   "execution_count": null,
   "id": "9c2d2494",
   "metadata": {},
   "outputs": [],
   "source": [
    "import pandas as pd\n",
    "from sklearn import datasets\n",
    "boston = datasets.load_boston()\n",
    "bos = pd.DataFrame(boston.data,columns = boston.feature_names)\n",
    "bos['Annual Income'] = boston.target\n",
    "bos.head()"
   ]
  },
  {
   "cell_type": "code",
   "execution_count": null,
   "id": "52e58cf8",
   "metadata": {},
   "outputs": [],
   "source": [
    "from sklearn.datasets import load_boston\n",
    "X,Annual_Income= load_boston(return_X_y = True)\n",
    "print(X.shape)"
   ]
  },
  {
   "cell_type": "code",
   "execution_count": null,
   "id": "1262cf07",
   "metadata": {},
   "outputs": [],
   "source": [
    "from sklearn.model_selection import train_test_split \n",
    "X_train, X_test, y_train, y_test = train_test_split(X,Annual_Income, test_size=0.3, random_state=1)\n",
    "print(X_train.shape)\n",
    "print(X_test.shape)"
   ]
  },
  {
   "cell_type": "code",
   "execution_count": null,
   "id": "d074cc17",
   "metadata": {},
   "outputs": [],
   "source": [
    "#import pandas\n",
    "import pandas as pd\n",
    " \n",
    "# read csv\n",
    "df = pd.read_csv('Customers.csv')\n"
   ]
  },
  {
   "cell_type": "code",
   "execution_count": null,
   "id": "0dd4368b",
   "metadata": {},
   "outputs": [],
   "source": [
    "df"
   ]
  },
  {
   "cell_type": "code",
   "execution_count": null,
   "id": "f40f7b83",
   "metadata": {},
   "outputs": [],
   "source": [
    "from sklearn import linear_model\n",
    "regr = linear_model.LinearRegression()\n",
    "regr.fit(X_train, y_train)"
   ]
  },
  {
   "cell_type": "markdown",
   "id": "55f76c58",
   "metadata": {},
   "source": [
    "### Hồi quy tuyến tính"
   ]
  },
  {
   "cell_type": "code",
   "execution_count": null,
   "id": "0f8e9dda",
   "metadata": {},
   "outputs": [],
   "source": [
    "from sklearn.metrics import mean_squared_error, mean_absolute_error\n",
    "\n",
    "y_train_pred = regr.predict(X_train)\n",
    "print('Train: mean squared error = ',mean_squared_error(y_train,y_train_pred))\n",
    "print('Train: Mean absolute error = ',mean_absolute_error(y_train, y_train_pred))\n",
    "\n",
    "y_test_pred = regr.predict(X_test)\n",
    "print('Train: mean squared error = ',mean_squared_error(y_test,y_test_pred))\n",
    "print('Train: Mean absolute error = ',mean_absolute_error(y_test, y_test_pred))"
   ]
  },
  {
   "cell_type": "markdown",
   "id": "f214f16d",
   "metadata": {},
   "source": [
    "### Cây quyết định"
   ]
  },
  {
   "cell_type": "code",
   "execution_count": null,
   "id": "b2cb3c76",
   "metadata": {},
   "outputs": [],
   "source": [
    "from sklearn.tree import DecisionTreeRegressor\n",
    "dt_regr = DecisionTreeRegressor(random_state=0)\n",
    "dt_regr.fit (X_train, y_train)\n",
    "\n",
    "from sklearn.metrics import mean_squared_error, mean_absolute_error\n",
    "y_train_pred = dt_regr.predict(X_train)\n",
    "print('Train: mean squared error = ',mean_squared_error(y_train,y_train_pred))\n",
    "print('Train: Mean absolute error = ',mean_absolute_error(y_train, y_train_pred))\n",
    "\n",
    "y_test_pred = dt_regr.predict(X_test)\n",
    "print('Train: mean squared error = ',mean_squared_error(y_test,y_test_pred))\n",
    "print('Train: Mean absolute error = ',mean_absolute_error(y_test, y_test_pred))"
   ]
  },
  {
   "cell_type": "markdown",
   "id": "d1333fb2",
   "metadata": {},
   "source": [
    "### Mạng nơ ron"
   ]
  },
  {
   "cell_type": "code",
   "execution_count": null,
   "id": "9ca6d081",
   "metadata": {},
   "outputs": [],
   "source": [
    "from numpy.random import seed\n",
    "seed(1)\n",
    "import tensorflow\n",
    "tensorflow.random.set_seed(1)\n",
    "\n",
    "from keras.models import Sequential\n",
    "from keras.layers import Dense, Conv1D, Flatten\n",
    "\n",
    "model= Sequential()\n",
    "model.add(Conv1D(filters=64, kernel_size=3, activation='relu', input_shape=(X_train.shape[1],1)))\n",
    "\n",
    "model.add(Flatten())\n",
    "model.add(Dense(1))\n",
    "model.compile(optimizer='adam',loss='mse')\n",
    "\n",
    "X_train_reshape = X_train.reshape(X_train.shape[0],X_train.shape[1],1)\n",
    "X_test_reshape= X_test.reshape(X_test.shape[0],X_test.shape[1],1)\n",
    "print(X_train_reshape.shape)\n",
    "model.fit(X_train_reshape, y_train, batch_size=32,epochs=500,verbose=0)\n",
    "\n",
    "y_train_pred = model.predict(X_train_reshape)\n",
    "print('Train: mean squared error = ',mean_squared_error(y_train,y_train_pred))\n",
    "print('Train: Mean absolute error = ',mean_absolute_error(y_train, y_train_pred))\n",
    "\n",
    "y_test_pred = model.predict(X_test_reshape)\n",
    "print('Train: mean squared error = ',mean_squared_error(y_test,y_test_pred))\n",
    "print('Train: Mean absolute error = ',mean_absolute_error(y_test, y_test_pred))"
   ]
  },
  {
   "cell_type": "markdown",
   "id": "78a2e1c2",
   "metadata": {},
   "source": [
    "# +get dumies()"
   ]
  },
  {
   "cell_type": "code",
   "execution_count": null,
   "id": "e4b6bce1",
   "metadata": {},
   "outputs": [],
   "source": [
    "import pandas as pd\n",
    "from sklearn import datasets\n",
    "boston = datasets.load_boston()\n",
    "bos = pd.DataFrame(boston.data,columns = boston.feature_names)\n",
    "bos['PRICE'] = boston.target\n",
    "bos.head()\n"
   ]
  },
  {
   "cell_type": "code",
   "execution_count": null,
   "id": "9178f5a5",
   "metadata": {},
   "outputs": [],
   "source": [
    "from sklearn.datasets import load_boston\n",
    "X,y = load_boston(return_X_y = True)\n",
    "print(X.shape)"
   ]
  },
  {
   "cell_type": "code",
   "execution_count": null,
   "id": "d8f3db8b",
   "metadata": {},
   "outputs": [],
   "source": [
    "from sklearn.model_selection import train_test_split \n",
    "X_train, X_test, y_train, y_test = train_test_split(X,y, test_size=0.3, random_state=1)\n",
    "print(X_train.shape)\n",
    "print(X_test.shape)"
   ]
  },
  {
   "cell_type": "code",
   "execution_count": null,
   "id": "ccb6da44",
   "metadata": {},
   "outputs": [],
   "source": [
    "#import pandas\n",
    "import pandas as pd\n",
    " \n",
    "# read csv\n",
    "df = pd.read_csv('Customers.csv')\n"
   ]
  },
  {
   "cell_type": "code",
   "execution_count": null,
   "id": "5224d471",
   "metadata": {},
   "outputs": [],
   "source": [
    "df"
   ]
  },
  {
   "cell_type": "markdown",
   "id": "d5a5253a",
   "metadata": {},
   "source": [
    "### Hồi quy tuyến tính\n"
   ]
  },
  {
   "cell_type": "code",
   "execution_count": null,
   "id": "e9514e76",
   "metadata": {},
   "outputs": [],
   "source": [
    "from sklearn.metrics import mean_squared_error, mean_absolute_error\n",
    "\n",
    "y_train_pred = regr.predict(X_train)\n",
    "print('Train: mean squared error = ',mean_squared_error(y_train,y_train_pred))\n",
    "print('Train: Mean absolute error = ',mean_absolute_error(y_train, y_train_pred))\n",
    "\n",
    "y_test_pred = regr.predict(X_test)\n",
    "print('Train: mean squared error = ',mean_squared_error(y_test,y_test_pred))\n",
    "print('Train: Mean absolute error = ',mean_absolute_error(y_test, y_test_pred))"
   ]
  },
  {
   "cell_type": "markdown",
   "id": "fd98fa2d",
   "metadata": {},
   "source": [
    "### Cây quyết định\n"
   ]
  },
  {
   "cell_type": "code",
   "execution_count": null,
   "id": "e96a1aaa",
   "metadata": {},
   "outputs": [],
   "source": [
    "from sklearn.tree import DecisionTreeRegressor\n",
    "dt_regr = DecisionTreeRegressor(random_state=0)\n",
    "dt_regr.fit (X_train, y_train)\n",
    "\n",
    "from sklearn.metrics import mean_squared_error, mean_absolute_error\n",
    "y_train_pred = dt_regr.predict(X_train)\n",
    "print('Train: mean squared error = ',mean_squared_error(y_train,y_train_pred))\n",
    "print('Train: Mean absolute error = ',mean_absolute_error(y_train, y_train_pred))\n",
    "\n",
    "y_test_pred = dt_regr.predict(X_test)\n",
    "print('Train: mean squared error = ',mean_squared_error(y_test,y_test_pred))\n",
    "print('Train: Mean absolute error = ',mean_absolute_error(y_test, y_test_pred))"
   ]
  },
  {
   "cell_type": "markdown",
   "id": "03432692",
   "metadata": {},
   "source": [
    "### Mạng nơ ron\n"
   ]
  },
  {
   "cell_type": "code",
   "execution_count": null,
   "id": "c7fadc71",
   "metadata": {},
   "outputs": [],
   "source": [
    "from numpy.random import seed\n",
    "seed(1)\n",
    "import tensorflow\n",
    "tensorflow.random.set_seed(1)\n",
    "\n",
    "from keras.models import Sequential\n",
    "from keras.layers import Dense, Conv1D, Flatten\n",
    "\n",
    "model= Sequential()\n",
    "model.add(Conv1D(filters=64, kernel_size=3, activation='relu', input_shape=(X_train.shape[1],1)))\n",
    "\n",
    "model.add(Flatten())\n",
    "model.add(Dense(1))\n",
    "model.compile(optimizer='adam',loss='mse')\n",
    "\n",
    "X_train_reshape = X_train.reshape(X_train.shape[0],X_train.shape[1],1)\n",
    "X_test_reshape= X_test.reshape(X_test.shape[0],X_test.shape[1],1)\n",
    "print(X_train_reshape.shape)\n",
    "model.fit(X_train_reshape, y_train, batch_size=32,epochs=500,verbose=0)\n",
    "\n",
    "y_train_pred = model.predict(X_train_reshape)\n",
    "print('Train: mean squared error = ',mean_squared_error(y_train,y_train_pred))\n",
    "print('Train: Mean absolute error = ',mean_absolute_error(y_train, y_train_pred))\n",
    "\n",
    "y_test_pred = model.predict(X_test_reshape)\n",
    "print('Train: mean squared error = ',mean_squared_error(y_test,y_test_pred))\n",
    "print('Train: Mean absolute error = ',mean_absolute_error(y_test, y_test_pred))"
   ]
  },
  {
   "cell_type": "markdown",
   "id": "2c2fa339",
   "metadata": {},
   "source": [
    "### + Drop columns:"
   ]
  },
  {
   "cell_type": "code",
   "execution_count": null,
   "id": "d078d019",
   "metadata": {},
   "outputs": [],
   "source": [
    "import pandas as pd\n",
    "from sklearn.model_selection import train_test_split\n",
    "from sklearn.linear_model import LinearRegression\n",
    "from sklearn.tree import DecisionTreeRegressor\n",
    "from sklearn.metrics import mean_squared_error, mean_absolute_error\n",
    "from keras.models import Sequential\n",
    "from keras.layers import Dense, Conv1D, Flatten\n",
    "import numpy as np\n",
    "\n",
    "# Đọc dữ liệu từ tập tin CSV\n",
    "df = pd.read_csv('Customers.csv')\n",
    "\n",
    "# Xử lý dữ liệu categories sang số bằng phương pháp Drop columns\n",
    "df_numeric = df[['Age', 'Annual Income ($)', 'Spending Score (1-100)', 'Work Experience', 'Family Size']]\n",
    "\n",
    "# Tách features và target\n",
    "X = df_numeric.drop(columns=['Annual Income ($)'])\n",
    "y = df_numeric['Annual Income ($)']\n",
    "\n",
    "# Chia tập dữ liệu thành tập train và tập test\n",
    "X_train, X_test, y_train, y_test = train_test_split(X, y, test_size=0.3, random_state=1)\n"
   ]
  },
  {
   "cell_type": "markdown",
   "id": "b33e4fba",
   "metadata": {},
   "source": [
    "### Hồi quy tuyến tính\n"
   ]
  },
  {
   "cell_type": "code",
   "execution_count": null,
   "id": "b8202188",
   "metadata": {},
   "outputs": [],
   "source": [
    "\n",
    "# Hồi quy tuyến tính\n",
    "regr = LinearRegression()\n",
    "regr.fit(X_train, y_train)\n",
    "\n",
    "y_train_pred = regr.predict(X_train)\n",
    "print('Train: mean squared error = ', mean_squared_error(y_train, y_train_pred))\n",
    "print('Train: Mean absolute error = ', mean_absolute_error(y_train, y_train_pred))\n",
    "\n",
    "y_test_pred = regr.predict(X_test)\n",
    "print('Test: mean squared error = ', mean_squared_error(y_test, y_test_pred))\n",
    "print('Test: Mean absolute error = ', mean_absolute_error(y_test, y_test_pred))\n"
   ]
  },
  {
   "cell_type": "markdown",
   "id": "78a2e1c2",
   "metadata": {},
   "source": [
    "### Cây quyết định\n"
   ]
  },
  {
   "cell_type": "code",
   "execution_count": null,
   "id": "cc653336",
   "metadata": {},
   "outputs": [],
   "source": [
    "# Cây quyết định\n",
    "dt_regr = DecisionTreeRegressor(random_state=0)\n",
    "dt_regr.fit(X_train, y_train)\n",
    "\n",
    "y_train_pred = dt_regr.predict(X_train)\n",
    "print('Train: mean squared error = ', mean_squared_error(y_train, y_train_pred))\n",
    "print('Train: Mean absolute error = ', mean_absolute_error(y_train, y_train_pred))\n",
    "\n",
    "y_test_pred = dt_regr.predict(X_test)\n",
    "print('Test: mean squared error = ', mean_squared_error(y_test, y_test_pred))\n",
    "print('Test: Mean absolute error = ', mean_absolute_error(y_test, y_test_pred))"
   ]
  },
  {
   "cell_type": "markdown",
   "id": "78a2e1c2",
   "metadata": {},
   "source": [
    "### Mạng nơ ron\n"
   ]
  },
  {
   "cell_type": "code",
   "execution_count": null,
   "id": "3f21f67c",
   "metadata": {},
   "outputs": [],
   "source": [
    "# Mạng nơ ron tích chập\n",
    "model = Sequential()\n",
    "model.add(Conv1D(filters=64, kernel_size=3, activation='relu', input_shape=(X_train.shape[1], 1)))\n",
    "model.add(Flatten())\n",
    "model.add(Dense(1))\n",
    "model.compile(optimizer='adam', loss='mse')\n",
    "\n",
    "X_train_reshape = X_train.values.reshape(X_train.shape[0], X_train.shape[1], 1)\n",
    "X_test_reshape = X_test.values.reshape(X_test.shape[0], X_test.shape[1], 1)\n",
    "\n",
    "model.fit(X_train_reshape, y_train, batch_size=32, epochs=500, verbose=0)\n",
    "\n",
    "y_train_pred = model.predict(X_train_reshape)\n",
    "print('Train: mean squared error = ', mean_squared_error(y_train, y_train_pred))\n",
    "print('Train: Mean absolute error = ', mean_absolute_error(y_train, y_train_pred))\n",
    "\n",
    "y_test_pred = model.predict(X_test_reshape)\n",
    "print('Test: mean squared error = ', mean_squared_error(y_test, y_test_pred))\n",
    "print('Test: Mean absolute error = ', mean_absolute_error(y_test, y_test_pred))"
   ]
  },
  {
   "cell_type": "code",
   "execution_count": null,
   "id": "0eaa5846",
   "metadata": {},
   "outputs": [],
   "source": []
  }
 ],
 "metadata": {
  "kernelspec": {
   "display_name": "Python 3 (ipykernel)",
   "language": "python",
   "name": "python3"
  },
  "language_info": {
   "codemirror_mode": {
    "name": "ipython",
    "version": 3
   },
   "file_extension": ".py",
   "mimetype": "text/x-python",
   "name": "python",
   "nbconvert_exporter": "python",
   "pygments_lexer": "ipython3",
   "version": "3.10.6"
  }
 },
 "nbformat": 4,
 "nbformat_minor": 5
}
