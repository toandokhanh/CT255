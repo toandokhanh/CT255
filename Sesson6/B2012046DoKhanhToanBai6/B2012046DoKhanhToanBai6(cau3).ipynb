{
 "cells": [
  {
   "cell_type": "code",
   "execution_count": 1,
   "id": "ed3c7570",
   "metadata": {},
   "outputs": [
    {
     "name": "stdout",
     "output_type": "stream",
     "text": [
      "(506, 13)\n",
      "(253, 13)\n",
      "(253, 13)\n"
     ]
    }
   ],
   "source": [
    "import warnings\n",
    "warnings.filterwarnings(\"ignore\")\n",
    "\n",
    "from sklearn.datasets import load_boston \n",
    "X, y = load_boston(return_X_y=True)\n",
    "\n",
    "from sklearn.model_selection import train_test_split\n",
    "X_train, X_test, y_train, y_test = train_test_split(\n",
    "\t\tX, y, test_size=0.5, random_state=1)\n",
    "print(X.shape)\n",
    "print(X_train.shape)\n",
    "print(X_test.shape)"
   ]
  },
  {
   "cell_type": "code",
   "execution_count": 2,
   "id": "a96afd3f",
   "metadata": {},
   "outputs": [
    {
     "name": "stdout",
     "output_type": "stream",
     "text": [
      "Mean squared error =  20.51701624263396\n",
      "Mean absolute error =  3.218929628981756\n"
     ]
    }
   ],
   "source": [
    "from sklearn import linear_model\n",
    "regr = linear_model.LinearRegression()\n",
    "regr.fit(X_test, y_test)\n",
    "from sklearn.metrics import mean_squared_error, mean_absolute_error\n",
    "y_test_pred = regr.predict(X_test)\n",
    "print('Mean squared error = ',mean_squared_error(y_test, y_test_pred))\n",
    "print('Mean absolute error = ',mean_absolute_error(y_test, y_test_pred))"
   ]
  },
  {
   "cell_type": "code",
   "execution_count": 3,
   "id": "94abf77c",
   "metadata": {},
   "outputs": [],
   "source": [
    "import pickle\n",
    "filename = 'lionear_saved_X_test.sav'\n",
    "pickle.dump(regr, open(filename, 'wb'))"
   ]
  },
  {
   "cell_type": "code",
   "execution_count": 4,
   "id": "4e209943",
   "metadata": {},
   "outputs": [
    {
     "name": "stdout",
     "output_type": "stream",
     "text": [
      "(13,)\n",
      "Shơ gia tri a sample tien hanh thu nghiem:  [array([2.2438e-01, 0.0000e+00, 9.6900e+00, 0.0000e+00, 5.8500e-01,\n",
      "       6.0270e+00, 7.9700e+01, 2.4982e+00, 6.0000e+00, 3.9100e+02,\n",
      "       1.9200e+01, 3.9690e+02, 1.4330e+01])]\n",
      "ket qua du doan/gia tri thuc te tren mo hinh chua train:  [20.40232557] / 16.8 loi: 3.602325566011448\n"
     ]
    }
   ],
   "source": [
    "import numpy as np\n",
    "loaded_model = pickle.load(open(filename, 'rb'))\n",
    "\n",
    "id_data = 500\n",
    "sample1 = [X[id_data,0:]]\n",
    "print(X[id_data,0:].shape)\n",
    "\n",
    "print('Shơ gia tri a sample tien hanh thu nghiem: ', sample1)\n",
    "result = loaded_model.predict(sample1)\n",
    "regr_notrain = loaded_model.predict(sample1)\n",
    "print('ket qua du doan/gia tri thuc te tren mo hinh chua train: ', result,'/',\n",
    "y[id_data],'loi: '+ str (abs(result[0]-y[id_data])))"
   ]
  },
  {
   "cell_type": "code",
   "execution_count": 5,
   "id": "b077baf5",
   "metadata": {},
   "outputs": [
    {
     "name": "stdout",
     "output_type": "stream",
     "text": [
      "Ket qua du doan/ gia tri thưc te tren mo hinh train tren bo full:  [20.46870847] / 16.8 loi: 3.6687084696060204\n"
     ]
    }
   ],
   "source": [
    "from sklearn import linear_model\n",
    "regr_trainfull = linear_model.LinearRegression()\n",
    "regr_trainfull.fit(X,y)\n",
    "result_full = regr_trainfull.predict(sample1)\n",
    "print('Ket qua du doan/ gia tri thưc te tren mo hinh train tren bo full: ',result_full, '/',y[id_data],\n",
    "     'loi: '+ str (abs(result_full[0]-y[id_data])))"
   ]
  },
  {
   "cell_type": "code",
   "execution_count": 6,
   "id": "cb6a2a6e",
   "metadata": {},
   "outputs": [
    {
     "name": "stdout",
     "output_type": "stream",
     "text": [
      "(1797, 8, 8)\n",
      "(1797, 64)\n"
     ]
    }
   ],
   "source": [
    "from sklearn.datasets import load_digits \n",
    "digits = load_digits()\n",
    "x_data, y_data = load_digits(return_X_y=True)\n",
    "print(digits.images.shape)\n",
    "print(x_data.shape)"
   ]
  },
  {
   "cell_type": "code",
   "execution_count": 7,
   "id": "8be9fed1",
   "metadata": {},
   "outputs": [
    {
     "name": "stderr",
     "output_type": "stream",
     "text": [
      "2023-10-19 14:13:21.540011: I tensorflow/tsl/cuda/cudart_stub.cc:28] Could not find cuda drivers on your machine, GPU will not be used.\n",
      "2023-10-19 14:13:21.829763: I tensorflow/tsl/cuda/cudart_stub.cc:28] Could not find cuda drivers on your machine, GPU will not be used.\n",
      "2023-10-19 14:13:21.830724: I tensorflow/core/platform/cpu_feature_guard.cc:182] This TensorFlow binary is optimized to use available CPU instructions in performance-critical operations.\n",
      "To enable the following instructions: AVX2 FMA, in other operations, rebuild TensorFlow with the appropriate compiler flags.\n",
      "2023-10-19 14:13:23.874349: W tensorflow/compiler/tf2tensorrt/utils/py_utils.cc:38] TF-TRT Warning: Could not find TensorRT\n"
     ]
    }
   ],
   "source": [
    "from sklearn.preprocessing import LabelEncoder\n",
    "from tensorflow.keras.utils import to_categorical\n",
    "from tensorflow.keras.models import model_from_json\n",
    "\n",
    "def save_model (model, filename='model-dl'):\n",
    "    \n",
    "    model_json = model.to_json()\n",
    "    with open(filename+\".json\", \"w\") as json_file:\n",
    "        json_file.write(model_json)\n",
    "    model.save_weights(filename+\".h5\")\n",
    "    print(\"Saved model to disk\")\n",
    "    \n",
    "def load_model(filename='model-dl'):\n",
    "    model = model_from_json(open(filename+\".json\").read())\n",
    "    model.load_weights(filename+\".h5\")\n",
    "    model.compile(loss='categorical_crossenropy', optimizer='adam')\n",
    "    return model\n",
    "def prepare_targets(y_train, y_test=\"\", num_classes=10):\n",
    "    y_train = to_categorical(y_train, num_classes = num_classes)\n",
    "    if y_test !=\"\":\n",
    "        y_test = to_categorical(y_train, num_classes = num_classes)\n",
    "        return y_train, y_test\n",
    "    else:\n",
    "        return y_train"
   ]
  },
  {
   "cell_type": "code",
   "execution_count": 8,
   "id": "db32e158",
   "metadata": {},
   "outputs": [
    {
     "ename": "NameError",
     "evalue": "name 'Sequential' is not defined",
     "output_type": "error",
     "traceback": [
      "\u001b[0;31m---------------------------------------------------------------------------\u001b[0m",
      "\u001b[0;31mNameError\u001b[0m                                 Traceback (most recent call last)",
      "\u001b[0;32m/tmp/ipykernel_2875/3545745877.py\u001b[0m in \u001b[0;36m<module>\u001b[0;34m\u001b[0m\n\u001b[1;32m     11\u001b[0m X_image = digits.images.reshape(digits.images.shape[0], digits.images.shape[1],\n\u001b[1;32m     12\u001b[0m                                digits.images.shape[1], 1).astype('float32')\n\u001b[0;32m---> 13\u001b[0;31m \u001b[0mmodel_to_save\u001b[0m \u001b[0;34m=\u001b[0m \u001b[0mcreate_model\u001b[0m\u001b[0;34m(\u001b[0m\u001b[0;34m)\u001b[0m\u001b[0;34m\u001b[0m\u001b[0;34m\u001b[0m\u001b[0m\n\u001b[0m\u001b[1;32m     14\u001b[0m \u001b[0my_image\u001b[0m \u001b[0;34m=\u001b[0m \u001b[0mprepare_targets\u001b[0m\u001b[0;34m(\u001b[0m\u001b[0my_data\u001b[0m\u001b[0;34m)\u001b[0m\u001b[0;34m\u001b[0m\u001b[0;34m\u001b[0m\u001b[0m\n\u001b[1;32m     15\u001b[0m \u001b[0mprint\u001b[0m\u001b[0;34m(\u001b[0m\u001b[0my_image\u001b[0m\u001b[0;34m.\u001b[0m\u001b[0mshape\u001b[0m\u001b[0;34m)\u001b[0m\u001b[0;34m\u001b[0m\u001b[0;34m\u001b[0m\u001b[0m\n",
      "\u001b[0;32m/tmp/ipykernel_2875/3545745877.py\u001b[0m in \u001b[0;36mcreate_model\u001b[0;34m()\u001b[0m\n\u001b[1;32m      3\u001b[0m \u001b[0;32mdef\u001b[0m \u001b[0mcreate_model\u001b[0m\u001b[0;34m(\u001b[0m\u001b[0;34m)\u001b[0m\u001b[0;34m:\u001b[0m\u001b[0;34m\u001b[0m\u001b[0;34m\u001b[0m\u001b[0m\n\u001b[1;32m      4\u001b[0m \u001b[0;34m\u001b[0m\u001b[0m\n\u001b[0;32m----> 5\u001b[0;31m     \u001b[0mmodel\u001b[0m \u001b[0;34m=\u001b[0m \u001b[0mSequential\u001b[0m\u001b[0;34m(\u001b[0m\u001b[0;34m)\u001b[0m\u001b[0;34m\u001b[0m\u001b[0;34m\u001b[0m\u001b[0m\n\u001b[0m\u001b[1;32m      6\u001b[0m     \u001b[0mmodel\u001b[0m\u001b[0;34m.\u001b[0m\u001b[0madd\u001b[0m\u001b[0;34m(\u001b[0m\u001b[0mConv2D\u001b[0m\u001b[0;34m(\u001b[0m\u001b[0;36m64\u001b[0m\u001b[0;34m,\u001b[0m \u001b[0mkernel_size\u001b[0m\u001b[0;34m=\u001b[0m\u001b[0;36m3\u001b[0m\u001b[0;34m,\u001b[0m \u001b[0mactivation\u001b[0m\u001b[0;34m=\u001b[0m\u001b[0;34m'relu'\u001b[0m\u001b[0;34m,\u001b[0m \u001b[0minput_shape\u001b[0m\u001b[0;34m=\u001b[0m\u001b[0;34m(\u001b[0m\u001b[0;36m8\u001b[0m\u001b[0;34m,\u001b[0m\u001b[0;36m8\u001b[0m\u001b[0;34m,\u001b[0m\u001b[0;36m1\u001b[0m\u001b[0;34m)\u001b[0m\u001b[0;34m)\u001b[0m\u001b[0;34m)\u001b[0m\u001b[0;34m\u001b[0m\u001b[0;34m\u001b[0m\u001b[0m\n\u001b[1;32m      7\u001b[0m     \u001b[0mmodel\u001b[0m\u001b[0;34m.\u001b[0m\u001b[0madd\u001b[0m\u001b[0;34m(\u001b[0m\u001b[0mFlatten\u001b[0m\u001b[0;34m(\u001b[0m\u001b[0;34m)\u001b[0m\u001b[0;34m)\u001b[0m\u001b[0;34m\u001b[0m\u001b[0;34m\u001b[0m\u001b[0m\n",
      "\u001b[0;31mNameError\u001b[0m: name 'Sequential' is not defined"
     ]
    }
   ],
   "source": [
    "from keras.layers import Dense ,Conv2D, Flatten\n",
    "from keras.wrappers.scikit_learn import KerasClassifier\n",
    "def create_model():\n",
    "    \n",
    "    model = Sequential()\n",
    "    model.add(Conv2D(64, kernel_size=3, activation='relu', input_shape=(8,8,1)))\n",
    "    model.add(Flatten())\n",
    "    model.add(Dense(10, activation='softmax'))\n",
    "    model.compile(optimizer='adam', loss='categorical_crossentropy',metrics=['accuracy'])\n",
    "    return model\n",
    "X_image = digits.images.reshape(digits.images.shape[0], digits.images.shape[1],\n",
    "                               digits.images.shape[1], 1).astype('float32')\n",
    "model_to_save = create_model()\n",
    "y_image = prepare_targets(y_data)\n",
    "print(y_image.shape)\n",
    "model_to_save.fit(X_image,y_image, batch_size=32, epochs=10, verbose=1)\n",
    "save_model(model_to_save, filename='mohinh_nhandangso')"
   ]
  },
  {
   "cell_type": "code",
   "execution_count": 9,
   "id": "09dae625",
   "metadata": {},
   "outputs": [
    {
     "name": "stdout",
     "output_type": "stream",
     "text": [
      "input_arr7.shape\n",
      "(8, 8, 1)\n",
      "input_arr0.shape\n",
      "(8, 8, 1)\n"
     ]
    },
    {
     "ename": "FileNotFoundError",
     "evalue": "[Errno 2] No such file or directory: 'mohinh_nhandangso.json'",
     "output_type": "error",
     "traceback": [
      "\u001b[0;31m---------------------------------------------------------------------------\u001b[0m",
      "\u001b[0;31mFileNotFoundError\u001b[0m                         Traceback (most recent call last)",
      "\u001b[0;32m/tmp/ipykernel_2875/918011485.py\u001b[0m in \u001b[0;36m<module>\u001b[0;34m\u001b[0m\n\u001b[1;32m     20\u001b[0m \u001b[0;32mimport\u001b[0m \u001b[0mmatplotlib\u001b[0m\u001b[0;34m.\u001b[0m\u001b[0mpyplot\u001b[0m \u001b[0;32mas\u001b[0m \u001b[0mplt\u001b[0m\u001b[0;34m\u001b[0m\u001b[0;34m\u001b[0m\u001b[0m\n\u001b[1;32m     21\u001b[0m \u001b[0mfiles_to_load\u001b[0m \u001b[0;34m=\u001b[0m \u001b[0;34m'mohinh_nhandangso'\u001b[0m\u001b[0;34m\u001b[0m\u001b[0;34m\u001b[0m\u001b[0m\n\u001b[0;32m---> 22\u001b[0;31m \u001b[0mmodel_image\u001b[0m \u001b[0;34m=\u001b[0m \u001b[0mload_model\u001b[0m\u001b[0;34m(\u001b[0m\u001b[0mfiles_to_load\u001b[0m\u001b[0;34m)\u001b[0m\u001b[0;34m\u001b[0m\u001b[0;34m\u001b[0m\u001b[0m\n\u001b[0m\u001b[1;32m     23\u001b[0m \u001b[0;34m\u001b[0m\u001b[0m\n\u001b[1;32m     24\u001b[0m \u001b[0mpredictions\u001b[0m \u001b[0;34m=\u001b[0m \u001b[0mmodel_image\u001b[0m\u001b[0;34m.\u001b[0m\u001b[0mpredict\u001b[0m\u001b[0;34m(\u001b[0m\u001b[0minput_arr2\u001b[0m\u001b[0;34m)\u001b[0m\u001b[0;34m\u001b[0m\u001b[0;34m\u001b[0m\u001b[0m\n",
      "\u001b[0;32m/tmp/ipykernel_2875/1798743286.py\u001b[0m in \u001b[0;36mload_model\u001b[0;34m(filename)\u001b[0m\n\u001b[1;32m     12\u001b[0m \u001b[0;34m\u001b[0m\u001b[0m\n\u001b[1;32m     13\u001b[0m \u001b[0;32mdef\u001b[0m \u001b[0mload_model\u001b[0m\u001b[0;34m(\u001b[0m\u001b[0mfilename\u001b[0m\u001b[0;34m=\u001b[0m\u001b[0;34m'model-dl'\u001b[0m\u001b[0;34m)\u001b[0m\u001b[0;34m:\u001b[0m\u001b[0;34m\u001b[0m\u001b[0;34m\u001b[0m\u001b[0m\n\u001b[0;32m---> 14\u001b[0;31m     \u001b[0mmodel\u001b[0m \u001b[0;34m=\u001b[0m \u001b[0mmodel_from_json\u001b[0m\u001b[0;34m(\u001b[0m\u001b[0mopen\u001b[0m\u001b[0;34m(\u001b[0m\u001b[0mfilename\u001b[0m\u001b[0;34m+\u001b[0m\u001b[0;34m\".json\"\u001b[0m\u001b[0;34m)\u001b[0m\u001b[0;34m.\u001b[0m\u001b[0mread\u001b[0m\u001b[0;34m(\u001b[0m\u001b[0;34m)\u001b[0m\u001b[0;34m)\u001b[0m\u001b[0;34m\u001b[0m\u001b[0;34m\u001b[0m\u001b[0m\n\u001b[0m\u001b[1;32m     15\u001b[0m     \u001b[0mmodel\u001b[0m\u001b[0;34m.\u001b[0m\u001b[0mload_weights\u001b[0m\u001b[0;34m(\u001b[0m\u001b[0mfilename\u001b[0m\u001b[0;34m+\u001b[0m\u001b[0;34m\".h5\"\u001b[0m\u001b[0;34m)\u001b[0m\u001b[0;34m\u001b[0m\u001b[0;34m\u001b[0m\u001b[0m\n\u001b[1;32m     16\u001b[0m     \u001b[0mmodel\u001b[0m\u001b[0;34m.\u001b[0m\u001b[0mcompile\u001b[0m\u001b[0;34m(\u001b[0m\u001b[0mloss\u001b[0m\u001b[0;34m=\u001b[0m\u001b[0;34m'categorical_crossenropy'\u001b[0m\u001b[0;34m,\u001b[0m \u001b[0moptimizer\u001b[0m\u001b[0;34m=\u001b[0m\u001b[0;34m'adam'\u001b[0m\u001b[0;34m)\u001b[0m\u001b[0;34m\u001b[0m\u001b[0;34m\u001b[0m\u001b[0m\n",
      "\u001b[0;31mFileNotFoundError\u001b[0m: [Errno 2] No such file or directory: 'mohinh_nhandangso.json'"
     ]
    }
   ],
   "source": [
    "from tensorflow.keras.utils import load_img, img_to_array\n",
    "\n",
    "anh='so07.png'\n",
    "image_goc7 = load_img(anh)\n",
    "image7  =load_img(anh, target_size=( 8,8), color_mode='grayscale')\n",
    "anh='so0.png'\n",
    "image_goc0 = load_img(anh)\n",
    "image0 = load_img(anh, target_size=(8,8), color_mode='grayscale')\n",
    "\n",
    "input_arr7 = img_to_array(image7)\n",
    "input_arr0 = img_to_array(image0)\n",
    "\n",
    "print ('input_arr7.shape')\n",
    "print (input_arr7.shape)\n",
    "print ('input_arr0.shape')\n",
    "print (input_arr0.shape)\n",
    "\n",
    "input_arr2 = np.array([input_arr7, input_arr0])\n",
    "\n",
    "import matplotlib.pyplot as plt\n",
    "files_to_load = 'mohinh_nhandangso'\n",
    "model_image = load_model(files_to_load)\n",
    "\n",
    "predictions = model_image.predict(input_arr2)\n",
    "print('Ket qua du doan cho hinh so 7',\n",
    "     predictions[0], ',Ket qua du doan, cho hinh so 7:', predictions[1])\n",
    "\n",
    "fig, axs = plt.subplots(1,4)\n",
    "fig.suptitle('Anh goc va anh gaim kich thuoc')\n",
    "axs[0].set_title(\"Day la anh so 7, kq du doan: \" + str(predictions[0].argmax(axis=-1)))\n",
    "axs[0].imshow(image_goc7,cmap='gray')\n",
    "axs[1].imshow(image7, cmap='gray')\n",
    "\n",
    "axs[2].imshow(image_goc0,cmap='gray')\n",
    "axs[3].set_title(\"Day la anh so 0, kq du doan: \" + str(predictions[1].argmax(axis=-1)))\n",
    "axs[3].imshow(image0, cmap='gray')"
   ]
  },
  {
   "cell_type": "code",
   "execution_count": null,
   "id": "5788edd0",
   "metadata": {},
   "outputs": [],
   "source": []
  }
 ],
 "metadata": {
  "kernelspec": {
   "display_name": "Python 3 (ipykernel)",
   "language": "python",
   "name": "python3"
  },
  "language_info": {
   "codemirror_mode": {
    "name": "ipython",
    "version": 3
   },
   "file_extension": ".py",
   "mimetype": "text/x-python",
   "name": "python",
   "nbconvert_exporter": "python",
   "pygments_lexer": "ipython3",
   "version": "3.10.6"
  }
 },
 "nbformat": 4,
 "nbformat_minor": 5
}
