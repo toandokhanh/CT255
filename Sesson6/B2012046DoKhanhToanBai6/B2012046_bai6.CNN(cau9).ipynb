{
 "cells": [
  {
   "cell_type": "markdown",
   "id": "1678e33f",
   "metadata": {},
   "source": [
    "9. Áp dụng code từ các bài tập trước về nhận dạng chữ viết tay, bạn hãy viết code cho bài toán phân lớp chạy thử mô hình nhận dạng các khuôn mặt trên (giải thuật các bạn chọn tùy thích). Luu mô hình có tên là <mssv của bạn>_<bai6>.<phần mở rộng>. (Phần mở rộng tùy chọn do các bạn có thể tự do chọn giải thuật)\n"
   ]
  },
  {
   "cell_type": "code",
   "execution_count": 2,
   "id": "1f5fc2c0",
   "metadata": {},
   "outputs": [
    {
     "name": "stdout",
     "output_type": "stream",
     "text": [
      "Epoch 1/10\n",
      "10/10 [==============================] - 2s 99ms/step - loss: 3.6911 - accuracy: 0.0094 - val_loss: 3.6889 - val_accuracy: 0.0250\n",
      "Epoch 2/10\n",
      "10/10 [==============================] - 1s 92ms/step - loss: 3.6891 - accuracy: 0.0125 - val_loss: 3.6889 - val_accuracy: 0.0250\n",
      "Epoch 3/10\n",
      "10/10 [==============================] - 1s 98ms/step - loss: 3.6893 - accuracy: 0.0219 - val_loss: 3.6889 - val_accuracy: 0.0250\n",
      "Epoch 4/10\n",
      "10/10 [==============================] - 1s 95ms/step - loss: 3.6889 - accuracy: 0.0312 - val_loss: 3.6889 - val_accuracy: 0.0250\n",
      "Epoch 5/10\n",
      "10/10 [==============================] - 1s 115ms/step - loss: 3.6889 - accuracy: 0.0344 - val_loss: 3.6889 - val_accuracy: 0.0250\n",
      "Epoch 6/10\n",
      "10/10 [==============================] - 1s 93ms/step - loss: 3.6892 - accuracy: 0.0219 - val_loss: 3.6889 - val_accuracy: 0.0250\n",
      "Epoch 7/10\n",
      "10/10 [==============================] - 1s 104ms/step - loss: 3.6889 - accuracy: 0.0312 - val_loss: 3.6889 - val_accuracy: 0.0250\n",
      "Epoch 8/10\n",
      "10/10 [==============================] - 1s 116ms/step - loss: 3.6892 - accuracy: 0.0063 - val_loss: 3.6889 - val_accuracy: 0.0250\n",
      "Epoch 9/10\n",
      "10/10 [==============================] - 1s 111ms/step - loss: 3.6896 - accuracy: 0.0188 - val_loss: 3.6889 - val_accuracy: 0.0250\n",
      "Epoch 10/10\n",
      "10/10 [==============================] - 1s 86ms/step - loss: 3.6891 - accuracy: 0.0188 - val_loss: 3.6889 - val_accuracy: 0.0250\n",
      "3/3 [==============================] - 0s 13ms/step - loss: 3.6889 - accuracy: 0.0250\n"
     ]
    },
    {
     "data": {
      "text/plain": [
       "[3.6888859272003174, 0.02500000037252903]"
      ]
     },
     "execution_count": 2,
     "metadata": {},
     "output_type": "execute_result"
    }
   ],
   "source": [
    "import tensorflow as tf\n",
    "from tensorflow import keras\n",
    "from tensorflow.keras import layers\n",
    "from sklearn.datasets import fetch_olivetti_faces\n",
    "\n",
    "olivetti_faces = fetch_olivetti_faces()\n",
    "X = olivetti_faces.data\n",
    "y = olivetti_faces.target\n",
    "\n",
    "from sklearn.model_selection import train_test_split\n",
    "X_train, X_test, y_train, y_test = train_test_split(X, y, test_size=0.2, stratify=y)\n",
    "\n",
    "X_train = X_train / 255.0\n",
    "X_test = X_test / 255.0\n",
    "\n",
    "# Xây dựng mô hình CNN\n",
    "model = keras.Sequential(\n",
    "    [\n",
    "        layers.Reshape((64, 64, 1), input_shape=(4096,)),\n",
    "        layers.Conv2D(filters=32, kernel_size=(3, 3), activation='relu'),\n",
    "        layers.MaxPooling2D(pool_size=(2, 2)),\n",
    "        layers.Conv2D(filters=64, kernel_size=(3, 3), activation='relu'),\n",
    "        layers.MaxPooling2D(pool_size=(2, 2)),\n",
    "        layers.Flatten(),\n",
    "        layers.Dense(units=128, activation='relu'),\n",
    "        layers.Dropout(0.5),\n",
    "        layers.Dense(units=len(set(y)), activation='softmax')\n",
    "    ]\n",
    ")\n",
    "\n",
    "# Compile mô hình\n",
    "model.compile(\n",
    "    optimizer='adam',\n",
    "    loss='sparse_categorical_crossentropy',\n",
    "    metrics=['accuracy']\n",
    ")\n",
    "\n",
    "history = model.fit(\n",
    "    x=X_train, y=y_train,\n",
    "    validation_data=(X_test, y_test),\n",
    "    epochs=10, batch_size=32\n",
    ")\n",
    "\n",
    "model.evaluate(X_test, y_test)\n"
   ]
  },
  {
   "cell_type": "code",
   "execution_count": null,
   "id": "05944420",
   "metadata": {},
   "outputs": [],
   "source": []
  }
 ],
 "metadata": {
  "kernelspec": {
   "display_name": "Python 3 (ipykernel)",
   "language": "python",
   "name": "python3"
  },
  "language_info": {
   "codemirror_mode": {
    "name": "ipython",
    "version": 3
   },
   "file_extension": ".py",
   "mimetype": "text/x-python",
   "name": "python",
   "nbconvert_exporter": "python",
   "pygments_lexer": "ipython3",
   "version": "3.10.6"
  }
 },
 "nbformat": 4,
 "nbformat_minor": 5
}
