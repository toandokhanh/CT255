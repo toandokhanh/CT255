{
 "cells": [
  {
   "cell_type": "code",
   "execution_count": 1,
   "id": "00a10e81",
   "metadata": {},
   "outputs": [
    {
     "name": "stdout",
     "output_type": "stream",
     "text": [
      "(506, 13)\n",
      "(253, 13)\n",
      "(253, 13)\n"
     ]
    }
   ],
   "source": [
    "import warnings\n",
    "warnings.filterwarnings('ignore')\n",
    "\n",
    "from sklearn.datasets import load_boston\n",
    "X, y = load_boston(return_X_y=True)\n",
    "\n",
    "from sklearn.model_selection import train_test_split\n",
    "X_train, X_test, y_train, y_test = train_test_split(\n",
    "    X, y, test_size=0.5, random_state=1)\n",
    "print(X.shape)\n",
    "print(X_train.shape)\n",
    "print(X_test.shape)"
   ]
  },
  {
   "cell_type": "code",
   "execution_count": 2,
   "id": "655053b0",
   "metadata": {},
   "outputs": [
    {
     "name": "stdout",
     "output_type": "stream",
     "text": [
      "Mean squared error =  20.51701624263396\n",
      "Mean absolute error =  3.218929628981756\n"
     ]
    }
   ],
   "source": [
    "from sklearn import linear_model\n",
    "regr = linear_model.LinearRegression()\n",
    "\n",
    "# khai bao mo hinh de huan luyen tren tap test\n",
    "\n",
    "regr.fit(X_test, y_test)\n",
    "\n",
    "from sklearn.metrics import mean_squared_error, mean_absolute_error\n",
    "y_test_pred = regr.predict(X_test)\n",
    "\n",
    "print('Mean squared error = ', mean_squared_error(y_test, y_test_pred))\n",
    "print('Mean absolute error = ', mean_absolute_error(y_test, y_test_pred))"
   ]
  },
  {
   "cell_type": "code",
   "execution_count": 4,
   "id": "051ba5e8",
   "metadata": {},
   "outputs": [
    {
     "data": {
      "text/plain": [
       "<function _pickle.dump(obj, file, protocol=None, *, fix_imports=True, buffer_callback=None)>"
      ]
     },
     "execution_count": 4,
     "metadata": {},
     "output_type": "execute_result"
    }
   ],
   "source": [
    "import pickle\n",
    "filename = 'linear_saved_X_test.sav'\n",
    "pickle.dump(regr, open(filename, 'wb'))\n",
    "pickle.dump"
   ]
  },
  {
   "cell_type": "code",
   "execution_count": 5,
   "id": "9338859f",
   "metadata": {},
   "outputs": [
    {
     "name": "stdout",
     "output_type": "stream",
     "text": [
      "(13,)\n",
      "show gia tri a sample tien hanh thu nghiem: [array([2.2438e-01, 0.0000e+00, 9.6900e+00, 0.0000e+00, 5.8500e-01,\n",
      "       6.0270e+00, 7.9700e+01, 2.4982e+00, 6.0000e+00, 3.9100e+02,\n",
      "       1.9200e+01, 3.9690e+02, 1.4330e+01])]\n",
      "ket qua du doan/gia tri thuc te tren mo hinh chua train: [20.40232557] / 16.8 loi: 3.602325566011448\n"
     ]
    }
   ],
   "source": [
    "import numpy as np\n",
    "loaded_model = pickle.load(open(filename, 'rb'))\n",
    "\n",
    "id_data = 500\n",
    "sample1= [X[id_data, 0:]]\n",
    "print(X[id_data, 0:].shape)\n",
    "\n",
    "print('show gia tri a sample tien hanh thu nghiem:',sample1)\n",
    "result = loaded_model.predict(sample1)\n",
    "regr_notrain = loaded_model.predict(sample1)\n",
    "print ('ket qua du doan/gia tri thuc te tren mo hinh chua train:',result,'/',\n",
    "\ty[id_data], 'loi: '+ str (abs(result[0]-y[id_data])))\n"
   ]
  },
  {
   "cell_type": "code",
   "execution_count": 6,
   "id": "05dd1ba7",
   "metadata": {},
   "outputs": [
    {
     "name": "stdout",
     "output_type": "stream",
     "text": [
      "ket qua du doan/gia tri thuc te tren mo hinh train tren bo full: [20.46870847] / 16.8 loi: 3.6687084696060204\n"
     ]
    }
   ],
   "source": [
    "from sklearn import linear_model\n",
    "regr_trainfull = linear_model.LinearRegression()\n",
    "\n",
    "regr_trainfull.fit(X, y)\n",
    "\n",
    "result_full = regr_trainfull.predict(sample1)\n",
    "print('ket qua du doan/gia tri thuc te tren mo hinh train tren bo full:',result_full,'/',y[id_data],\n",
    "\t'loi: '+ str (abs(result_full[0]-y[id_data])))"
   ]
  },
  {
   "cell_type": "code",
   "execution_count": 8,
   "id": "f957c470",
   "metadata": {},
   "outputs": [
    {
     "name": "stdout",
     "output_type": "stream",
     "text": [
      "(1797, 8, 8)\n",
      "(1797, 64)\n"
     ]
    }
   ],
   "source": [
    "from sklearn.datasets import load_digits\n",
    "digits = load_digits()\n",
    "x_data, y_data = load_digits(return_X_y=True)\n",
    "print(digits.images.shape)\n",
    "print(x_data.shape)"
   ]
  },
  {
   "cell_type": "code",
   "execution_count": 9,
   "id": "9388b9b0",
   "metadata": {},
   "outputs": [
    {
     "name": "stderr",
     "output_type": "stream",
     "text": [
      "2023-10-19 13:26:47.401624: I tensorflow/tsl/cuda/cudart_stub.cc:28] Could not find cuda drivers on your machine, GPU will not be used.\n",
      "2023-10-19 13:26:47.834520: I tensorflow/tsl/cuda/cudart_stub.cc:28] Could not find cuda drivers on your machine, GPU will not be used.\n",
      "2023-10-19 13:26:47.839033: I tensorflow/core/platform/cpu_feature_guard.cc:182] This TensorFlow binary is optimized to use available CPU instructions in performance-critical operations.\n",
      "To enable the following instructions: AVX2 FMA, in other operations, rebuild TensorFlow with the appropriate compiler flags.\n",
      "2023-10-19 13:26:50.826435: W tensorflow/compiler/tf2tensorrt/utils/py_utils.cc:38] TF-TRT Warning: Could not find TensorRT\n"
     ]
    }
   ],
   "source": [
    "from sklearn.preprocessing import LabelEncoder\n",
    "from tensorflow.keras.utils import to_categorical\n",
    "from tensorflow.keras.models import model_from_json\n",
    "\n",
    "def save_model(model,filename='model-d1'):\n",
    "    model_json = model.to_json()\n",
    "    with open(filename+\".json\", \"w\") as json_file:\n",
    "        json_file.write(model_json)\n",
    "    #    \n",
    "    model.save_weights(filename+\".h5\")\n",
    "    print(\"Saved model to disk\")\n",
    "#\n",
    "def load_model(filename='model-d1'):\n",
    "    model = model_from_json(open(filename+'.json').read())\n",
    "    model.load_weights(filename+'.h5')\n",
    "    model.compile(loss='categorical_ crossentropy', optimizer='adam')\n",
    "    return model\n",
    "#\n",
    "def prepare_targets(y_train, y_test=\"\", num_classes=10):\n",
    "\ty_train=to_categorical(y_train, num_classes = num_classes)\n",
    "\n",
    "\tif y_test !=\"\":\n",
    "\t\ty_test = to_categorical(y_train, num_classes = num_classes)\n",
    "\t\treturn y_train, y_test\n",
    "\telse:\n",
    "\t\treturn y_train"
   ]
  },
  {
   "cell_type": "code",
   "execution_count": 14,
   "id": "905caa07",
   "metadata": {},
   "outputs": [
    {
     "name": "stdout",
     "output_type": "stream",
     "text": [
      "(1797, 10)\n",
      "Epoch 1/10\n",
      "57/57 [==============================] - 0s 1ms/step - loss: 0.6134 - accuracy: 0.8036\n",
      "Epoch 2/10\n",
      "57/57 [==============================] - 0s 1ms/step - loss: 0.1114 - accuracy: 0.9727\n",
      "Epoch 3/10\n",
      "57/57 [==============================] - 0s 1ms/step - loss: 0.0665 - accuracy: 0.9850\n",
      "Epoch 4/10\n",
      "57/57 [==============================] - 0s 1ms/step - loss: 0.0404 - accuracy: 0.9944\n",
      "Epoch 5/10\n",
      "57/57 [==============================] - 0s 2ms/step - loss: 0.0247 - accuracy: 0.9961\n",
      "Epoch 6/10\n",
      "57/57 [==============================] - 0s 2ms/step - loss: 0.0166 - accuracy: 0.9972\n",
      "Epoch 7/10\n",
      "57/57 [==============================] - 0s 2ms/step - loss: 0.0125 - accuracy: 0.9989\n",
      "Epoch 8/10\n",
      "57/57 [==============================] - 0s 2ms/step - loss: 0.0081 - accuracy: 0.9994\n",
      "Epoch 9/10\n",
      "57/57 [==============================] - 0s 2ms/step - loss: 0.0070 - accuracy: 0.9994\n",
      "Epoch 10/10\n",
      "57/57 [==============================] - 0s 2ms/step - loss: 0.0049 - accuracy: 1.0000\n",
      "Saved model to disk\n"
     ]
    }
   ],
   "source": [
    "# Dinh nghia kien truc CNN\n",
    "from keras.models import Sequential\n",
    "from keras.layers import Dense, Conv2D, Flatten\n",
    "from keras.wrappers.scikit_learn import KerasClassifier\n",
    "def create_model():\n",
    "\n",
    "    model = Sequential()\n",
    "    model.add(Conv2D(64, kernel_size=3, activation='relu', input_shape=(8,8,1)))\n",
    "    model.add(Flatten())\n",
    "    model.add(Dense(10, activation='softmax'))\n",
    "    model.compile(optimizer='adam', loss='categorical_crossentropy', metrics=['accuracy'])\n",
    "    return model\n",
    "\n",
    "X_image = digits.images.reshape(digits.images.shape[0], digits.images.shape[1], \n",
    "                                digits.images.shape[1], 1).astype('float32')\n",
    "\n",
    "model_to_save = create_model()\n",
    "y_image = prepare_targets(y_data)\n",
    "print(y_image.shape)\n",
    "model_to_save.fit(X_image, y_image, batch_size=32, epochs=10, verbose=1)\n",
    "save_model(model_to_save, filename='mohinh_nhandangso')"
   ]
  },
  {
   "cell_type": "code",
   "execution_count": 17,
   "id": "4fede0c4",
   "metadata": {},
   "outputs": [
    {
     "name": "stdout",
     "output_type": "stream",
     "text": [
      "input_arr7.shape\n",
      "(8, 8, 1)\n",
      "input_arr0.shape\n",
      "(8, 8, 1)\n",
      "1/1 [==============================] - 0s 71ms/step\n",
      "Ket qua du doan, cho hinh so 7 [0.0000000e+00 1.6464613e-27 0.0000000e+00 0.0000000e+00 1.0000000e+00\n",
      " 0.0000000e+00 0.0000000e+00 0.0000000e+00 0.0000000e+00 0.0000000e+00] , Ket qua du doan, cho hinh so 0: [1. 0. 0. 0. 0. 0. 0. 0. 0. 0.]\n"
     ]
    },
    {
     "data": {
      "text/plain": [
       "<matplotlib.image.AxesImage at 0x7f84743f02b0>"
      ]
     },
     "execution_count": 17,
     "metadata": {},
     "output_type": "execute_result"
    },
    {
     "data": {
      "image/png": "[encoded data removed]",
      "text/plain": [
       "<Figure size 432x288 with 4 Axes>"
      ]
     },
     "metadata": {
      "needs_background": "light"
     },
     "output_type": "display_data"
    }
   ],
   "source": [
    "from tensorflow.keras.utils import load_img, img_to_array\n",
    "# load anh tu may tinh\n",
    "anh='so07.png'\n",
    "image_goc7 = load_img(anh)\n",
    "# giam kich thuoc cho khop voi mo hinh da huan luyen\n",
    "image7 = load_img(anh, target_size=(8,8), color_mode='grayscale')\n",
    "anh='so0.png'\n",
    "image_goc0 = load_img(anh)\n",
    "image0 = load_img(anh, target_size=(8,8), color_mode='grayscale')\n",
    "\n",
    "# chuyen doi sang mang de dua vo mo hinh\n",
    "input_arr7 = img_to_array(image7)\n",
    "input_arr0 = img_to_array(image0)\n",
    "\n",
    "# hien thi kich thuoc\n",
    "print('input_arr7.shape')\n",
    "print( input_arr7.shape)\n",
    "print('input_arr0.shape')\n",
    "print( input_arr0.shape)\n",
    "\n",
    "# dua vao mang de thuc hien du doan, mang nay gom 2 anh\n",
    "input_arr2 = np.array([input_arr7,input_arr0])\n",
    "\n",
    "import matplotlib.pyplot as plt\n",
    "files_to_load = 'mohinh_nhandangso'\n",
    "model_image = load_model(files_to_load)\n",
    "\n",
    "predictions = model_image.predict (input_arr2)\n",
    "print('Ket qua du doan, cho hinh so 7',\n",
    "predictions[0],', Ket qua du doan, cho hinh so 0:', predictions[1])\n",
    "\n",
    "# bieu dien anh va ket qua du doan\n",
    "fig, axs = plt.subplots(1,4)\n",
    "fig.suptitle('anh goc VA anh giam kich thuoc')\n",
    "axs[0].set_title(\"Day la anh so 7, kq du doan:\"+str(predictions[0].argmax(axis=-1)))\n",
    "axs[0].imshow(image_goc7, cmap='gray')\n",
    "axs[1].imshow(image7, cmap='gray')\n",
    "\n",
    "axs[2].imshow(image_goc0, cmap='gray')\n",
    "axs[3].set_title(\"Day la anh so 0, kq du doan: \"+str(predictions[1].argmax(axis=-1)))\n",
    "axs[3]. imshow(image0, cmap='gray')"
   ]
  },
  {
   "cell_type": "code",
   "execution_count": null,
   "id": "faf58e26",
   "metadata": {},
   "outputs": [],
   "source": []
  }
 ],
 "metadata": {
  "kernelspec": {
   "display_name": "Python 3 (ipykernel)",
   "language": "python",
   "name": "python3"
  },
  "language_info": {
   "codemirror_mode": {
    "name": "ipython",
    "version": 3
   },
   "file_extension": ".py",
   "mimetype": "text/x-python",
   "name": "python",
   "nbconvert_exporter": "python",
   "pygments_lexer": "ipython3",
   "version": "3.10.6"
  }
 },
 "nbformat": 4,
 "nbformat_minor": 5
}
