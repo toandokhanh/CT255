{
 "cells": [
  {
   "cell_type": "markdown",
   "id": "2b16faff",
   "metadata": {},
   "source": [
    "4. Ở phần “Lưu trữ mô hình học sâu”, ở chỗ load dữ liệu lên để huấn luyện, khối lệnh [6], bạn làm như chỗ khối lệnh [1] để thử tách dữ liệu làm 2 phần train/test với tỷ lệ 5/5 và bạn thử đưa tập train vào cho huấn luyện. So sánh kích thước các file mô hình được lưu trữ nếu chỉ học có ½ dữ liệu so với code ban đầu xem có sự khác nhau thế nào, và cho kết luận kích thước số mẫu để huấn luyện có ảnh hưởng đến dung lượng của mô hình được lưu không? \n"
   ]
  },
  {
   "cell_type": "code",
   "execution_count": 1,
   "id": "85961d78",
   "metadata": {},
   "outputs": [
    {
     "name": "stdout",
     "output_type": "stream",
     "text": [
      "(506, 13)\n",
      "(253, 13)\n",
      "(253, 13)\n"
     ]
    }
   ],
   "source": [
    "import warnings\n",
    "warnings.filterwarnings('ignore')\n",
    "\n",
    "from sklearn.datasets import load_boston\n",
    "X, y = load_boston(return_X_y=True)\n",
    "\n",
    "from sklearn.model_selection import train_test_split\n",
    "X_train, X_test, y_train, y_test = train_test_split(\n",
    "    X, y, test_size=0.5, random_state=1)\n",
    "print(X.shape)\n",
    "print(X_train.shape)\n",
    "print(X_test.shape)"
   ]
  },
  {
   "cell_type": "code",
   "execution_count": 2,
   "id": "dcb6ca2d",
   "metadata": {},
   "outputs": [
    {
     "name": "stdout",
     "output_type": "stream",
     "text": [
      "(1797, 8, 8)\n",
      "(1797, 64)\n"
     ]
    }
   ],
   "source": [
    "from sklearn.datasets import load_digits\n",
    "digits = load_digits()\n",
    "x_data, y_data = load_digits(return_X_y=True)\n",
    "print(digits.images.shape)\n",
    "print(x_data.shape)"
   ]
  },
  {
   "cell_type": "code",
   "execution_count": 4,
   "id": "d2bfadf3",
   "metadata": {},
   "outputs": [],
   "source": [
    "from sklearn.preprocessing import LabelEncoder\n",
    "from tensorflow.keras.utils import to_categorical\n",
    "from tensorflow.keras.models import model_from_json\n",
    "\n",
    "def save_model(model,filename='model-d1'):\n",
    "    model_json = model.to_json()\n",
    "    with open(filename+\".json\", \"w\") as json_file:\n",
    "        json_file.write(model_json)\n",
    "    #    \n",
    "    model.save_weights(filename+\".h5\")\n",
    "    print(\"Saved model to disk\")\n",
    "#\n",
    "def load_model(filename='model-d1'):\n",
    "    model = model_from_json(open(filename+'.json').read())\n",
    "    model.load_weights(filename+'.h5')\n",
    "    model.compile(loss='categorical_ crossentropy', optimizer='adam')\n",
    "    return model\n",
    "#\n",
    "def prepare_targets(y_train, y_test=\"\", num_classes=10):\n",
    "\ty_train=to_categorical(y_train, num_classes = num_classes)\n",
    "\n",
    "\tif y_test !=\"\":\n",
    "\t\ty_test = to_categorical(y_train, num_classes = num_classes)\n",
    "\t\treturn y_train, y_test\n",
    "\telse:\n",
    "\t\treturn y_train"
   ]
  },
  {
   "cell_type": "code",
   "execution_count": 5,
   "id": "87b82de1",
   "metadata": {},
   "outputs": [
    {
     "name": "stdout",
     "output_type": "stream",
     "text": [
      "(1797, 10)\n",
      "Epoch 1/10\n",
      "57/57 [==============================] - 1s 2ms/step - loss: 0.5991 - accuracy: 0.8325\n",
      "Epoch 2/10\n",
      "57/57 [==============================] - 0s 2ms/step - loss: 0.1164 - accuracy: 0.9705\n",
      "Epoch 3/10\n",
      "57/57 [==============================] - 0s 2ms/step - loss: 0.0662 - accuracy: 0.9833\n",
      "Epoch 4/10\n",
      "57/57 [==============================] - 0s 1ms/step - loss: 0.0473 - accuracy: 0.9878\n",
      "Epoch 5/10\n",
      "57/57 [==============================] - 0s 1ms/step - loss: 0.0249 - accuracy: 0.9972\n",
      "Epoch 6/10\n",
      "57/57 [==============================] - 0s 1ms/step - loss: 0.0161 - accuracy: 0.9989\n",
      "Epoch 7/10\n",
      "57/57 [==============================] - 0s 1ms/step - loss: 0.0110 - accuracy: 0.9989\n",
      "Epoch 8/10\n",
      "57/57 [==============================] - 0s 1ms/step - loss: 0.0082 - accuracy: 0.9994\n",
      "Epoch 9/10\n",
      "57/57 [==============================] - 0s 1ms/step - loss: 0.0056 - accuracy: 0.9994\n",
      "Epoch 10/10\n",
      "57/57 [==============================] - 0s 2ms/step - loss: 0.0049 - accuracy: 1.0000\n",
      "Saved model to disk\n"
     ]
    }
   ],
   "source": [
    "from keras.models import Sequential\n",
    "from keras.layers import Dense, Conv2D, Flatten\n",
    "from keras.wrappers.scikit_learn import KerasClassifier\n",
    "def create_model():\n",
    "\n",
    "    model = Sequential()\n",
    "    model.add(Conv2D(64, kernel_size=3, activation='relu', input_shape=(8,8,1)))\n",
    "    model.add(Flatten())\n",
    "    model.add(Dense(10, activation='softmax'))\n",
    "    model.compile(optimizer='adam', loss='categorical_crossentropy', metrics=['accuracy'])\n",
    "    return model\n",
    "X_image = digits.images.reshape(digits.images.shape[0], digits.images.shape[1], \n",
    "                                digits.images.shape[1], 1).astype('float32')\n",
    "\n",
    "model_to_save = create_model()\n",
    "y_image = prepare_targets(y_data)\n",
    "from sklearn.model_selection import train_test_split\n",
    "X_train, X_test, y_train, y_test = train_test_split(X,y, test_size=0.5, random_state=1)\n",
    "\n",
    "print(y_image.shape)\n",
    "model_to_save.fit(X_image, y_image, batch_size=32, epochs=10, verbose=1)\n",
    "save_model(model_to_save, filename='mohinh_nhandangso_lv2')"
   ]
  },
  {
   "cell_type": "markdown",
   "id": "b75603b5",
   "metadata": {},
   "source": [
    "5. Từ mô hình đã huấn luyện ở câu trên, bạn thực hiện chạy dự đoán với mô hình này với 2 ảnh đã dự đoán ban đầu, quan sát kết quả dự đoán và xác suất phân bố ở từng lớp có sự thay đổi thế nào so với bài hướng dẫn thực hành? \n"
   ]
  },
  {
   "cell_type": "code",
   "execution_count": 10,
   "id": "03966618",
   "metadata": {},
   "outputs": [],
   "source": [
    "from sklearn.preprocessing import LabelEncoder\n",
    "from tensorflow.keras.utils import to_categorical\n",
    "from tensorflow.keras.models import model_from_json\n",
    "\n",
    "#luu mo hinh voi tham so model da duoc huan luyen va ten file se luu\n",
    "def save_model(model, filename='model-dl'):\n",
    "\n",
    "    #serialize model to json\n",
    "    model_json = model.to_json()\n",
    "    with open(filename + \".json\", \"w\") as json_file:\n",
    "        json_file.write(model_json)\n",
    "    \n",
    "    #serialize weights to HDF5\n",
    "    model.save_weights(filename + \".h5\")\n",
    "    print(\"saved model to disk\")\n",
    "    \n",
    "#ham nay se nhan vao la ten tap tin va tra ve model load len tu tap tin\n",
    "def load_model(filename='model-dl'):\n",
    "    #loading_model\n",
    "    model = model_from_json(open(filename+'.json').read())\n",
    "    model.load_weights(filename+\".h5\")\n",
    "    model.compile(loss ='categorical_crossentropy', optimizer='adam')\n",
    "    return model\n",
    "    \n",
    "    #chuyen doi nhan thanh cac gia tri dang categorical de thuc hien bai toan phan lop\n",
    "def prepare_targets(y_train, y_test=\"\", num_classes=10):\n",
    "        \n",
    "    y_train=to_categorical(y_train, num_classes = num_classes)\n",
    "        \n",
    "    \n",
    "    if y_test !=\"\":\n",
    "        y_test = to_categorical(y_train, num_classes = num_classes)\n",
    "        return y_train, y_test\n",
    "    else:\n",
    "        return y_train"
   ]
  },
  {
   "cell_type": "code",
   "execution_count": 11,
   "id": "9d60c79b",
   "metadata": {},
   "outputs": [
    {
     "name": "stdout",
     "output_type": "stream",
     "text": [
      "(1797, 10)\n",
      "Epoch 1/10\n",
      "57/57 [==============================] - 0s 1ms/step - loss: 0.6364 - accuracy: 0.8108\n",
      "Epoch 2/10\n",
      "57/57 [==============================] - 0s 2ms/step - loss: 0.1150 - accuracy: 0.9677\n",
      "Epoch 3/10\n",
      "57/57 [==============================] - 0s 2ms/step - loss: 0.0663 - accuracy: 0.9839\n",
      "Epoch 4/10\n",
      "57/57 [==============================] - 0s 2ms/step - loss: 0.0426 - accuracy: 0.9922\n",
      "Epoch 5/10\n",
      "57/57 [==============================] - 0s 3ms/step - loss: 0.0257 - accuracy: 0.9944\n",
      "Epoch 6/10\n",
      "57/57 [==============================] - 0s 2ms/step - loss: 0.0210 - accuracy: 0.9961\n",
      "Epoch 7/10\n",
      "57/57 [==============================] - 0s 2ms/step - loss: 0.0131 - accuracy: 0.9978\n",
      "Epoch 8/10\n",
      "57/57 [==============================] - 0s 2ms/step - loss: 0.0076 - accuracy: 1.0000\n",
      "Epoch 9/10\n",
      "57/57 [==============================] - 0s 1ms/step - loss: 0.0053 - accuracy: 1.0000\n",
      "Epoch 10/10\n",
      "57/57 [==============================] - 0s 1ms/step - loss: 0.0041 - accuracy: 1.0000\n",
      "saved model to disk\n"
     ]
    }
   ],
   "source": [
    "from keras.models import Sequential\n",
    "from keras.layers import Dense, Conv2D, Flatten\n",
    "from keras.wrappers.scikit_learn import KerasClassifier\n",
    "def create_model():\n",
    "    \n",
    "    model = Sequential()\n",
    "    model.add(Conv2D(64, kernel_size=3, activation='relu', input_shape=(8,8,1)))\n",
    "    model.add(Flatten())\n",
    "    model.add(Dense(10, activation='softmax')) #co the doi gtri Dense\n",
    "    model.compile (optimizer ='adam', loss = 'categorical_crossentropy', metrics=['accuracy'])\n",
    "    return model\n",
    "\n",
    "X_image = digits.images.reshape(digits.images.shape[0], digits.images.shape [1],\n",
    "                             digits.images.shape[1], 1).astype('float32')\n",
    "\n",
    "model_to_save= create_model()\n",
    "y_image = prepare_targets(y_data)\n",
    "print(y_image.shape)\n",
    "model_to_save.fit(X_image, y_image, batch_size=32, epochs=10,verbose=1) #co the doi eposhs\n",
    "save_model(model_to_save, filename='mohinh_nhandangso')"
   ]
  },
  {
   "cell_type": "code",
   "execution_count": 17,
   "id": "b1f585fd",
   "metadata": {},
   "outputs": [
    {
     "name": "stdout",
     "output_type": "stream",
     "text": [
      "input_arr7.shape\n",
      "(8, 8, 1)\n",
      "input_arr0.shape\n",
      "(8, 8, 1)\n",
      "1/1 [==============================] - 0s 71ms/step\n",
      "Ket qua du doan, cho hinh so 7 [0.0000000e+00 1.7630417e-28 0.0000000e+00 0.0000000e+00 1.0000000e+00\n",
      " 0.0000000e+00 0.0000000e+00 0.0000000e+00 0.0000000e+00 0.0000000e+00] , Ket qua du doan, cho hinh so 7: [1. 0. 0. 0. 0. 0. 0. 0. 0. 0.]\n"
     ]
    },
    {
     "data": {
      "text/plain": [
       "<matplotlib.image.AxesImage at 0x7f769426fbb0>"
      ]
     },
     "execution_count": 17,
     "metadata": {},
     "output_type": "execute_result"
    },
    {
     "data": {
      "image/png": "[encoded data removed]",
      "text/plain": [
       "<Figure size 432x288 with 4 Axes>"
      ]
     },
     "metadata": {
      "needs_background": "light"
     },
     "output_type": "display_data"
    }
   ],
   "source": [
    "from tensorflow.keras.utils import load_img, img_to_array\n",
    "import numpy as np\n",
    "anh='so07.png'\n",
    "image_goc7 = load_img(anh)\n",
    "#giam kich thuoc cho khop voi mo hinh da huan luyen\n",
    "image7 = load_img(anh, target_size=(8,8), color_mode='grayscale')\n",
    "\n",
    "anh='so0.png'\n",
    "image_goc0 = load_img(anh)\n",
    "#giam kich thuoc cho khop voi mo hinh da huan luyen\n",
    "image0 = load_img(anh, target_size=(8,8), color_mode='grayscale')\n",
    "\n",
    "#chuyen doi sang mang de dua vo mo hinh\n",
    "input_arr7 = img_to_array(image7)\n",
    "input_arr0 = img_to_array(image0)\n",
    "\n",
    "print('input_arr7.shape')\n",
    "print(input_arr7.shape)\n",
    "print('input_arr0.shape')\n",
    "print(input_arr0.shape)\n",
    "\n",
    "#dua vao mang de thuc hien du doan, mang nay gom 2 anh\n",
    "input_arr2 = np.array([input_arr7, input_arr0])\n",
    "\n",
    "import matplotlib.pyplot as plt\n",
    "files_to_load = 'mohinh_nhandangso'\n",
    "model_image= load_model(files_to_load)\n",
    "\n",
    "predictions = model_image.predict(input_arr2)\n",
    "print('Ket qua du doan, cho hinh so 7',\n",
    "     predictions[0],', Ket qua du doan, cho hinh so 7:', predictions[1])\n",
    "\n",
    "fig, axs = plt.subplots(1,4)\n",
    "fig.suptitle('anh goc va anh giam kich thuoc')\n",
    "axs[0].set_title(\"Day la anh so 7, kq du doan: \"+str(predictions[0].argmax(axis=-1)))\n",
    "axs[0].imshow(image_goc7, cmap='gray')\n",
    "axs[1].imshow(image7, cmap='gray')\n",
    "\n",
    "axs[2].imshow(image_goc0, cmap='gray')\n",
    "axs[3].set_title(\"Day la anh so 0, kq du doan: \"+str(predictions[1].argmax(axis=-1)))\n",
    "axs[3].imshow(image0, cmap='gray')\n"
   ]
  }
 ],
 "metadata": {
  "kernelspec": {
   "display_name": "Python 3 (ipykernel)",
   "language": "python",
   "name": "python3"
  },
  "language_info": {
   "codemirror_mode": {
    "name": "ipython",
    "version": 3
   },
   "file_extension": ".py",
   "mimetype": "text/x-python",
   "name": "python",
   "nbconvert_exporter": "python",
   "pygments_lexer": "ipython3",
   "version": "3.10.6"
  }
 },
 "nbformat": 4,
 "nbformat_minor": 5
}
